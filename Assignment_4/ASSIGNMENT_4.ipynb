{
 "cells": [
  {
   "cell_type": "code",
   "execution_count": 16,
   "metadata": {},
   "outputs": [],
   "source": [
    "# import packages for this example\n",
    "import pandas as pd    \n",
    "from collections import OrderedDict  # to create DataFrame with ordered columns\n",
    "# special plotting methods\n",
    "from pandas.tools.plotting import scatter_matrix    \n",
    "import numpy as np  # arrays and math functions\n",
    "import matplotlib.pyplot as plt  # static plotting\n",
    "from sklearn import preprocessing\n",
    "from sklearn.cluster import KMeans\n",
    "from sklearn import metrics  # for silhouette coefficient"
   ]
  },
  {
   "cell_type": "code",
   "execution_count": 17,
   "metadata": {},
   "outputs": [],
   "source": [
    "#  Read in the data.\n",
    "student_data = pd.read_csv('student_data.csv')"
   ]
  },
  {
   "cell_type": "code",
   "execution_count": 19,
   "metadata": {},
   "outputs": [
    {
     "name": "stdout",
     "output_type": "stream",
     "text": [
      "\n",
      "----- Summary of Input Data -----\n",
      "\n",
      "Object type:  <class 'pandas.core.frame.DataFrame'>\n",
      "Number of observations:  240\n",
      "Variable names:  Index(['distant', 'talkative', 'careless', 'hardworking', 'anxious',\n",
      "       'agreeable', 'tense', 'kind', 'opposing', 'relaxed', 'disorganized',\n",
      "       'outgoing', 'approving', 'shy', 'disciplined', 'harsh', 'persevering',\n",
      "       'friendly', 'worrying', 'responsive', 'contrary', 'sociable', 'lazy',\n",
      "       'cooperative', 'quiet', 'organized', 'critical', 'lax', 'laidback',\n",
      "       'withdrawn', 'givingup', 'easygoing'],\n",
      "      dtype='object')\n",
      "          distant   talkative    careless  hardworking     anxious  \\\n",
      "count  240.000000  240.000000  240.000000   240.000000  240.000000   \n",
      "mean     3.866667    5.883333    3.412500     6.925000    5.129167   \n",
      "std      1.794615    1.677732    1.811357     1.370108    1.880305   \n",
      "min      1.000000    2.000000    1.000000     2.000000    1.000000   \n",
      "25%      2.000000    5.000000    2.000000     6.000000    4.000000   \n",
      "50%      3.000000    6.000000    3.000000     7.000000    5.000000   \n",
      "75%      5.000000    7.000000    5.000000     8.000000    7.000000   \n",
      "max      8.000000    9.000000    9.000000     9.000000    9.000000   \n",
      "\n",
      "        agreeable       tense        kind    opposing     relaxed  \\\n",
      "count  240.000000  240.000000  240.000000  240.000000  240.000000   \n",
      "mean     6.629167    4.616667    6.970833    3.858333    5.475000   \n",
      "std      1.372162    1.904337    1.262255    1.599141    1.694009   \n",
      "min      1.000000    1.000000    2.000000    1.000000    1.000000   \n",
      "25%      6.000000    3.000000    6.000000    3.000000    4.000000   \n",
      "50%      7.000000    5.000000    7.000000    4.000000    5.000000   \n",
      "75%      8.000000    6.000000    8.000000    5.000000    7.000000   \n",
      "max      9.000000    9.000000    9.000000    8.000000    9.000000   \n",
      "\n",
      "       disorganized    outgoing   approving         shy  disciplined  \\\n",
      "count    240.000000  240.000000  240.000000  240.000000   240.000000   \n",
      "mean       4.083333    6.020833    5.858333    4.558333     6.308333   \n",
      "std        2.126082    1.809894    1.367867    1.969626     1.725011   \n",
      "min        1.000000    2.000000    2.000000    1.000000     1.000000   \n",
      "25%        2.000000    5.000000    5.000000    3.000000     5.000000   \n",
      "50%        4.000000    6.000000    6.000000    5.000000     7.000000   \n",
      "75%        6.000000    7.000000    7.000000    6.000000     7.000000   \n",
      "max        9.000000    9.000000    9.000000    9.000000     9.000000   \n",
      "\n",
      "            harsh  persevering    friendly    worrying  responsive  \\\n",
      "count  240.000000   240.000000  240.000000  240.000000  240.000000   \n",
      "mean     3.600000     6.804167    7.250000    5.212500    7.291667   \n",
      "std      1.683789     1.405006    1.155304    2.108126    1.395725   \n",
      "min      1.000000     2.000000    2.000000    1.000000    1.000000   \n",
      "25%      2.000000     6.000000    7.000000    3.000000    7.000000   \n",
      "50%      3.000000     7.000000    7.000000    6.000000    8.000000   \n",
      "75%      5.000000     8.000000    8.000000    7.000000    8.000000   \n",
      "max      8.000000     9.000000    9.000000    9.000000    9.000000   \n",
      "\n",
      "         contrary    sociable        lazy  cooperative       quiet  \\\n",
      "count  240.000000  240.000000  240.000000   240.000000  240.000000   \n",
      "mean     3.770833    6.445833    4.179167     6.695833    4.604167   \n",
      "std      1.500900    1.567579    1.893941     1.197619    1.880750   \n",
      "min      1.000000    2.000000    1.000000     3.000000    1.000000   \n",
      "25%      3.000000    5.000000    3.000000     6.000000    3.000000   \n",
      "50%      4.000000    7.000000    4.000000     7.000000    5.000000   \n",
      "75%      5.000000    8.000000    5.000000     7.000000    6.000000   \n",
      "max      8.000000    9.000000    9.000000     9.000000    9.000000   \n",
      "\n",
      "        organized    critical         lax    laidback   withdrawn    givingup  \\\n",
      "count  240.000000  240.000000  240.000000  240.000000  240.000000  240.000000   \n",
      "mean     6.154167    5.170833    4.083333    5.245833    3.754167    2.675000   \n",
      "std      1.963363    1.745282    1.664713    1.790837    1.769684    1.553307   \n",
      "min      1.000000    1.000000    1.000000    1.000000    1.000000    1.000000   \n",
      "25%      5.000000    4.000000    3.000000    4.000000    2.000000    1.750000   \n",
      "50%      6.000000    5.000000    4.000000    5.000000    3.000000    2.000000   \n",
      "75%      8.000000    6.000000    5.000000    7.000000    5.000000    4.000000   \n",
      "max      9.000000    9.000000    9.000000    9.000000    7.000000    8.000000   \n",
      "\n",
      "        easygoing  \n",
      "count  240.000000  \n",
      "mean     6.066667  \n",
      "std      1.601429  \n",
      "min      2.000000  \n",
      "25%      5.000000  \n",
      "50%      6.000000  \n",
      "75%      7.000000  \n",
      "max      9.000000  \n",
      "   distant  talkative  careless  hardworking  anxious  agreeable  tense  kind  \\\n",
      "0        2          7         1            4        7          8      5     9   \n",
      "1        3          8         2            7        5          8      4     8   \n",
      "2        6          6         2            5        1          8      2     9   \n",
      "3        3          7         6            7        8          8      2     8   \n",
      "4        7          3         3            5        8          6      7     2   \n",
      "\n",
      "   opposing  relaxed  disorganized  outgoing  approving  shy  disciplined  \\\n",
      "0         5        6             3         2          7    9            5   \n",
      "1         5        7             5         8          7    6            7   \n",
      "2         2        8             7         6          7    5            5   \n",
      "3         3        7             2         5          6    4            6   \n",
      "4         3        3             5         2          5    8            7   \n",
      "\n",
      "   harsh  persevering  friendly  worrying  responsive  contrary  sociable  \\\n",
      "0      5            8         9         9           9         5         9   \n",
      "1      3            7         7         5           7         5         8   \n",
      "2      2            5         8         3           9         2         8   \n",
      "3      2            8         8         3           8         2         6   \n",
      "4      5            6         2         8           7         3         2   \n",
      "\n",
      "   lazy  cooperative  quiet  organized  critical  lax  laidback  withdrawn  \\\n",
      "0     7            9      9          5         5    5         7          5   \n",
      "1     2            7      6          6         4    3         7          2   \n",
      "2     5            8      7          4         5    5         7          6   \n",
      "3     3            8      4          7         6    6         6          4   \n",
      "4     6            6      7          5         5    3         3          7   \n",
      "\n",
      "   givingup  easygoing  \n",
      "0         5          8  \n",
      "1         2          7  \n",
      "2         2          8  \n",
      "3         3          7  \n",
      "4         5          5  \n",
      "\n",
      "----- K-means Cluster Analysis of Variables -----\n",
      "\n"
     ]
    }
   ],
   "source": [
    "print('')\n",
    "print('----- Summary of Input Data -----')\n",
    "print('')\n",
    "\n",
    "# show the object is a DataFrame\n",
    "print('Object type: ', type(student_data))\n",
    "\n",
    "# show number of observations in the DataFrame\n",
    "print('Number of observations: ', len(student_data))\n",
    "\n",
    "# show variable names\n",
    "variable = student_data.columns\n",
    "print('Variable names: ', variable)\n",
    "\n",
    "# show descriptive statistics\n",
    "pd.set_option('display.max_columns', None)  # do not limit output\n",
    "print(student_data.describe())\n",
    "\n",
    "# show a portion of the beginning of the DataFrame\n",
    "print(student_data.head())\n",
    "\n",
    "print('')\n",
    "print('----- K-means Cluster Analysis of Variables -----')\n",
    "print('')"
   ]
  },
  {
   "cell_type": "code",
   "execution_count": 20,
   "metadata": {},
   "outputs": [],
   "source": [
    "#standardized_student_data_matrix = preprocessing.scale(student_data)\n",
    "variable_cluster_data =  student_data.T "
   ]
  },
  {
   "cell_type": "code",
   "execution_count": 21,
   "metadata": {},
   "outputs": [],
   "source": [
    "kmeans = KMeans(n_clusters = 5, n_init = 25, random_state = 1)\n",
    "kmeans.fit(variable_cluster_data)\n",
    "cluster = kmeans.predict(variable_cluster_data)"
   ]
  },
  {
   "cell_type": "code",
   "execution_count": 22,
   "metadata": {},
   "outputs": [],
   "source": [
    "variable_kmeans_solution = pd.DataFrame(OrderedDict([('cluster', cluster)]))"
   ]
  },
  {
   "cell_type": "code",
   "execution_count": 23,
   "metadata": {},
   "outputs": [
    {
     "name": "stdout",
     "output_type": "stream",
     "text": [
      "\n",
      "    cluster\n",
      "9         0\n",
      "28        0\n",
      "31        0\n",
      "\n",
      "    cluster\n",
      "0         1\n",
      "2         1\n",
      "8         1\n",
      "10        1\n",
      "15        1\n",
      "20        1\n",
      "22        1\n",
      "27        1\n",
      "29        1\n",
      "30        1\n",
      "\n",
      "    cluster\n",
      "1         2\n",
      "11        2\n",
      "12        2\n",
      "21        2\n",
      "\n",
      "    cluster\n",
      "4         3\n",
      "6         3\n",
      "13        3\n",
      "18        3\n",
      "24        3\n",
      "26        3\n",
      "\n",
      "    cluster\n",
      "3         4\n",
      "5         4\n",
      "7         4\n",
      "14        4\n",
      "16        4\n",
      "17        4\n",
      "19        4\n",
      "23        4\n",
      "25        4\n"
     ]
    }
   ],
   "source": [
    "for cluster_id in sorted(variable_kmeans_solution.cluster.unique()):\n",
    "    print()\n",
    "    print(variable_kmeans_solution.loc[variable_kmeans_solution['cluster'] == \\\n",
    "        cluster_id])"
   ]
  },
  {
   "cell_type": "code",
   "execution_count": 7,
   "metadata": {},
   "outputs": [
    {
     "name": "stdout",
     "output_type": "stream",
     "text": [
      "Silhouette coefficient for the five-cluster k-means solution:  0.17638659297634862\n"
     ]
    }
   ],
   "source": [
    "print('Silhouette coefficient for the five-cluster k-means solution: ', \n",
    "    metrics.silhouette_score(variable_cluster_data, cluster, \n",
    "        metric = 'euclidean'))"
   ]
  },
  {
   "cell_type": "code",
   "execution_count": 8,
   "metadata": {},
   "outputs": [],
   "source": [
    "student_cluster_data =  student_data.T"
   ]
  },
  {
   "cell_type": "code",
   "execution_count": 9,
   "metadata": {},
   "outputs": [
    {
     "name": "stdout",
     "output_type": "stream",
     "text": [
      "nclusters:  2  silhouette coefficient:  0.33563371342730786\n",
      "nclusters:  3  silhouette coefficient:  0.2419619585820747\n",
      "nclusters:  4  silhouette coefficient:  0.1775560578223245\n",
      "nclusters:  5  silhouette coefficient:  0.17638659297634862\n",
      "nclusters:  6  silhouette coefficient:  0.17323764314545081\n",
      "nclusters:  7  silhouette coefficient:  0.17338128853703322\n",
      "nclusters:  8  silhouette coefficient:  0.18815600007708663\n",
      "nclusters:  9  silhouette coefficient:  0.16298435800841243\n",
      "nclusters:  10  silhouette coefficient:  0.17217586139800328\n",
      "nclusters:  11  silhouette coefficient:  0.17391427200796733\n",
      "nclusters:  12  silhouette coefficient:  0.16475651097690158\n",
      "nclusters:  13  silhouette coefficient:  0.16701131535333572\n",
      "nclusters:  14  silhouette coefficient:  0.1658285040376694\n",
      "nclusters:  15  silhouette coefficient:  0.15989232008902704\n",
      "nclusters:  16  silhouette coefficient:  0.13990483191766967\n",
      "nclusters:  17  silhouette coefficient:  0.13074656035240106\n",
      "nclusters:  18  silhouette coefficient:  0.11942673529034908\n",
      "nclusters:  19  silhouette coefficient:  0.11563842711242038\n",
      "nclusters:  20  silhouette coefficient:  0.10995641095819522\n"
     ]
    }
   ],
   "source": [
    "for nclusters in range(2,21): # search between 2 and 20 clusters/segments\n",
    "    kmeans = KMeans(n_clusters = nclusters, n_init = 25, random_state = 1)\n",
    "    kmeans.fit(student_cluster_data)\n",
    "    segment = kmeans.predict(student_cluster_data)  # cluster ids for variables\n",
    "    print('nclusters: ', nclusters, ' silhouette coefficient: ', \n",
    "        metrics.silhouette_score(student_cluster_data, segment, \n",
    "            metric='euclidean'))"
   ]
  },
  {
   "cell_type": "code",
   "execution_count": 10,
   "metadata": {},
   "outputs": [
    {
     "name": "stdout",
     "output_type": "stream",
     "text": [
      "\n",
      "----- Solution for Two Student Segments -----\n",
      "\n"
     ]
    }
   ],
   "source": [
    "print('')\n",
    "print('----- Solution for Two Student Segments -----')\n",
    "print('')\n",
    "kmeans = KMeans(n_clusters = 2, n_init = 25, random_state = 1)\n",
    "kmeans.fit(student_cluster_data)\n",
    "segment = kmeans.predict(student_cluster_data)  # cluster index"
   ]
  },
  {
   "cell_type": "code",
   "execution_count": 11,
   "metadata": {},
   "outputs": [],
   "source": [
    "student_kmeans_solution = pd.DataFrame(OrderedDict(\n",
    "    [('student', range(0,len(student_cluster_data))),\n",
    "    ('segment', segment)]))"
   ]
  },
  {
   "cell_type": "code",
   "execution_count": 12,
   "metadata": {},
   "outputs": [],
   "source": [
    "student_segmentation_data = student_kmeans_solution.join(student_data)"
   ]
  },
  {
   "cell_type": "code",
   "execution_count": 38,
   "metadata": {},
   "outputs": [
    {
     "name": "stdout",
     "output_type": "stream",
     "text": [
      "\n",
      "Attribute means for segment:  0\n",
      "distant         4.6875\n",
      "talkative       5.3750\n",
      "careless        3.5625\n",
      "hardworking     6.9375\n",
      "anxious         5.7500\n",
      "agreeable       6.6250\n",
      "tense           5.3125\n",
      "kind            6.8750\n",
      "opposing        4.0000\n",
      "relaxed         5.1250\n",
      "disorganized    3.0000\n",
      "outgoing        5.3125\n",
      "approving       5.8750\n",
      "shy             5.0000\n",
      "disciplined     6.6250\n",
      "harsh           3.3750\n",
      "persevering     7.1875\n",
      "friendly        6.6875\n",
      "worrying        5.5625\n",
      "responsive      7.3125\n",
      "contrary        4.0000\n",
      "sociable        5.5625\n",
      "lazy            4.1250\n",
      "cooperative     6.6250\n",
      "quiet           5.4375\n",
      "organized       6.9375\n",
      "critical        5.3125\n",
      "lax             3.9375\n",
      "laidback        4.6875\n",
      "withdrawn       4.6875\n",
      "givingup        3.0625\n",
      "easygoing       5.8125\n",
      "dtype: float64\n",
      "\n",
      "Attribute means for segment:  1\n",
      "distant         4.6250\n",
      "talkative       5.0000\n",
      "careless        2.8125\n",
      "hardworking     6.8125\n",
      "anxious         5.1250\n",
      "agreeable       6.5000\n",
      "tense           4.8125\n",
      "kind            6.7500\n",
      "opposing        3.8750\n",
      "relaxed         5.4375\n",
      "disorganized    4.1875\n",
      "outgoing        4.5625\n",
      "approving       5.6875\n",
      "shy             5.8750\n",
      "disciplined     6.8750\n",
      "harsh           3.6250\n",
      "persevering     6.5625\n",
      "friendly        6.9375\n",
      "worrying        5.5625\n",
      "responsive      7.1250\n",
      "contrary        3.6875\n",
      "sociable        6.1250\n",
      "lazy            4.4375\n",
      "cooperative     6.6250\n",
      "quiet           6.3125\n",
      "organized       6.1250\n",
      "critical        5.4375\n",
      "lax             4.2500\n",
      "laidback        5.4375\n",
      "withdrawn       4.8750\n",
      "givingup        3.2500\n",
      "easygoing       6.1875\n",
      "dtype: float64\n"
     ]
    },
    {
     "name": "stderr",
     "output_type": "stream",
     "text": [
      "/anaconda3/lib/python3.7/site-packages/ipykernel_launcher.py:6: DeprecationWarning: \n",
      ".ix is deprecated. Please use\n",
      ".loc for label based indexing or\n",
      ".iloc for positional indexing\n",
      "\n",
      "See the documentation here:\n",
      "http://pandas.pydata.org/pandas-docs/stable/indexing.html#ix-indexer-is-deprecated\n",
      "  \n"
     ]
    }
   ],
   "source": [
    "for segment_id in sorted(student_segmentation_data.segment.unique()):\n",
    "    print()\n",
    "    print('Attribute means for segment: ', segment_id)\n",
    "    this_student_segment_data = student_segmentation_data[ \\\n",
    "        student_segmentation_data.segment == segment_id]\n",
    "    attributes = this_student_segment_data.ix[:,'distant':'easygoing'].mean()    \n",
    "    print(attributes)"
   ]
  },
  {
   "cell_type": "code",
   "execution_count": 13,
   "metadata": {},
   "outputs": [],
   "source": [
    "centers = kmeans.cluster_centers_\n",
    "centers=centers.T\n",
    "# turn centers into a df so we can plot the results \n",
    "d1 = pd.DataFrame({'zero': centers[:,0]})\n",
    "d2 = pd.DataFrame({'one': centers[:,1]})\n",
    "d = d1.join(d2) #column zero and one will be the two groups"
   ]
  },
  {
   "cell_type": "code",
   "execution_count": 40,
   "metadata": {},
   "outputs": [],
   "source": [
    "def qhist(dataframe,var1 ):     \n",
    "    dataframe[var1].hist(facecolor='b',bins=range(2,8,1))     \n",
    "    plt.title('Histogram of '+var1)     \n",
    "    plt.xlabel(var1)     \n",
    "    plt.ylabel('Frequency')"
   ]
  },
  {
   "cell_type": "code",
   "execution_count": 41,
   "metadata": {},
   "outputs": [
    {
     "data": {
      "image/png": "[encoded data removed]",
      "text/plain": [
       "<Figure size 432x288 with 1 Axes>"
      ]
     },
     "metadata": {
      "needs_background": "light"
     },
     "output_type": "display_data"
    }
   ],
   "source": [
    "qhist(d,'zero')"
   ]
  },
  {
   "cell_type": "code",
   "execution_count": 42,
   "metadata": {},
   "outputs": [
    {
     "data": {
      "image/png": "[encoded data removed]",
      "text/plain": [
       "<Figure size 432x288 with 1 Axes>"
      ]
     },
     "metadata": {
      "needs_background": "light"
     },
     "output_type": "display_data"
    }
   ],
   "source": [
    "from sklearn.datasets.samples_generator import make_blobs\n",
    "X,y_true = make_blobs(n_samples=300,centers=4,cluster_std=.60,random_state=0)\n",
    "plt.scatter(X[:, 0],X[:, 1], s=50);  \n",
    " \n",
    "from sklearn.cluster import KMeans\n",
    "kmeans = KMeans(n_clusters=4)\n",
    "kmeans.fit(X) \n",
    "y_kmeans = kmeans.predict(X)"
   ]
  },
  {
   "cell_type": "code",
   "execution_count": 43,
   "metadata": {},
   "outputs": [
    {
     "data": {
      "image/png": "[encoded data removed]",
      "text/plain": [
       "<Figure size 432x288 with 1 Axes>"
      ]
     },
     "metadata": {
      "needs_background": "light"
     },
     "output_type": "display_data"
    }
   ],
   "source": [
    "centers = kmeans.cluster_centers_\n",
    "plt.scatter(X[:,0],X[:,1], c = y_kmeans, s=50, cmap = 'viridis') \n",
    "plt.scatter(centers[:,0],centers[:,1], c='black',s=200,alpha=0.5);"
   ]
  }
 ],
 "metadata": {
  "kernelspec": {
   "display_name": "Python 3",
   "language": "python",
   "name": "python3"
  },
  "language_info": {
   "codemirror_mode": {
    "name": "ipython",
    "version": 3
   },
   "file_extension": ".py",
   "mimetype": "text/x-python",
   "name": "python",
   "nbconvert_exporter": "python",
   "pygments_lexer": "ipython3",
   "version": "3.7.1"
  }
 },
 "nbformat": 4,
 "nbformat_minor": 2
}
