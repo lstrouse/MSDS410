{
 "cells": [
  {
   "cell_type": "code",
   "execution_count": 200,
   "metadata": {},
   "outputs": [],
   "source": [
    "#import some packages you will be using\n",
    "import pandas as pd \n",
    "import numpy as np \n",
    "import statsmodels.api as sm\n",
    "import statsmodels.formula.api as smf  \n",
    "import matplotlib.pyplot as plt\n",
    "import seaborn as sns\n",
    "from scipy import stats\n",
    "from sklearn import linear_model, metrics"
   ]
  },
  {
   "cell_type": "code",
   "execution_count": 201,
   "metadata": {},
   "outputs": [],
   "source": [
    "get_ipython().magic(u'matplotlib inline')\n",
    " \n",
    "#set some options for the output\n",
    "pd.set_option('display.notebook_repr_html', False) \n",
    "pd.set_option('display.max_columns', 40) \n",
    "pd.set_option('display.max_rows', 10) \n",
    "pd.set_option('display.width', 120)\n"
   ]
  },
  {
   "cell_type": "code",
   "execution_count": 202,
   "metadata": {},
   "outputs": [
    {
     "name": "stdout",
     "output_type": "stream",
     "text": [
      "(2039, 81)\n"
     ]
    }
   ],
   "source": [
    "#read in the datasets\n",
    "train = pd.read_csv('AMES_TRAIN.csv')\n",
    "test = pd.read_csv('AMES_TEST_SFAM.csv')\n",
    "#print(train)\n",
    "#A good step to take is to convert all variable names to lower case\n",
    "train.columns = [s.lower() for s in train.columns]\n",
    "test.columns = [s.lower() for s in test.columns]\n",
    "print(train.shape)"
   ]
  },
  {
   "cell_type": "code",
   "execution_count": 203,
   "metadata": {
    "scrolled": false
   },
   "outputs": [
    {
     "data": {
      "text/plain": [
       "                    0\n",
       "subclass            0\n",
       "zoning            325\n",
       "lotfrontage         0\n",
       "lotarea             0\n",
       "street           1893\n",
       "alley               0\n",
       "lotshape            0\n",
       "landcontour         0\n",
       "utilities           0\n",
       "lotconfig           0\n",
       "landslope           0\n",
       "neighborhood        0\n",
       "condition1          0\n",
       "condition2          0\n",
       "bldgtype            0\n",
       "housestyle          0\n",
       "overallqual         0\n",
       "overallcond         0\n",
       "yearbuilt           0\n",
       "yearremodel         0\n",
       "roofstyle           0\n",
       "roofmat             0\n",
       "exterior1           0\n",
       "exterior2          15\n",
       "masvnrtype         15\n",
       "masvnrarea          0\n",
       "exterqual           0\n",
       "extercond           0\n",
       "foundation         54\n",
       "bsmtqual           54\n",
       "bsmtcond           56\n",
       "bsmtexposure       54\n",
       "bsmtfintype1        1\n",
       "bsmtfinsf1         54\n",
       "bsmtfintype2        1\n",
       "bsmtfinsf2          1\n",
       "bsmtunfsf           1\n",
       "totalbsmtsf         0\n",
       "heating             0\n",
       "heatingqc           0\n",
       "centralair          1\n",
       "electrical          0\n",
       "firstflrsf          0\n",
       "secondflrsf         0\n",
       "lowqualfinsf        0\n",
       "grlivarea           2\n",
       "bsmtfullbath        2\n",
       "bsmthalfbath        0\n",
       "fullbath            0\n",
       "halfbath            0\n",
       "bedroomabvgr        0\n",
       "kitchenabvgr        0\n",
       "kitchenqual         0\n",
       "totrmsabvgrd        0\n",
       "functional          0\n",
       "fireplaces       1012\n",
       "fireplacequ       118\n",
       "garagetype        119\n",
       "garageyrblt       119\n",
       "garagefinish        0\n",
       "garagecars          0\n",
       "garagearea        119\n",
       "garagequal        119\n",
       "garagecond          0\n",
       "paveddrive          0\n",
       "wooddecksf          0\n",
       "openporchsf         0\n",
       "enclosedporch       0\n",
       "threessnporch       0\n",
       "screenporch         0\n",
       "poolarea         2028\n",
       "poolqc           1639\n",
       "fence            1963\n",
       "miscfeature         0\n",
       "miscval             0\n",
       "mosold              0\n",
       "yrsold              0\n",
       "saletype            0\n",
       "salecondition       0\n",
       "saleprice           0\n",
       "zoning            325\n",
       "lotfrontage         0\n",
       "lotarea             0\n",
       "street           1893\n",
       "alley               0\n",
       "lotshape            0\n",
       "landcontour         0\n",
       "utilities           0\n",
       "lotconfig           0\n",
       "landslope           0\n",
       "neighborhood        0\n",
       "condition1          0\n",
       "condition2          0\n",
       "bldgtype            0\n",
       "housestyle          0\n",
       "overallqual         0\n",
       "overallcond         0\n",
       "yearbuilt           0\n",
       "yearremodel         0\n",
       "roofstyle           0\n",
       "roofmat             0\n",
       "exterior1           0\n",
       "exterior2          15\n",
       "masvnrtype         15\n",
       "masvnrarea          0\n",
       "exterqual           0\n",
       "extercond           0\n",
       "foundation         54\n",
       "bsmtqual           54\n",
       "bsmtcond           56\n",
       "bsmtexposure       54\n",
       "bsmtfintype1        1\n",
       "bsmtfinsf1         54\n",
       "bsmtfintype2        1\n",
       "bsmtfinsf2          1\n",
       "bsmtunfsf           1\n",
       "totalbsmtsf         0\n",
       "heating             0\n",
       "heatingqc           0\n",
       "centralair          1\n",
       "electrical          0\n",
       "firstflrsf          0\n",
       "secondflrsf         0\n",
       "lowqualfinsf        0\n",
       "grlivarea           2\n",
       "bsmtfullbath        2\n",
       "bsmthalfbath        0\n",
       "fullbath            0\n",
       "halfbath            0\n",
       "bedroomabvgr        0\n",
       "kitchenabvgr        0\n",
       "kitchenqual         0\n",
       "totrmsabvgrd        0\n",
       "functional          0\n",
       "fireplaces       1012\n",
       "fireplacequ       118\n",
       "garagetype        119\n",
       "garageyrblt       119\n",
       "garagefinish        0\n",
       "garagecars          0\n",
       "garagearea        119\n",
       "garagequal        119\n",
       "garagecond          0\n",
       "paveddrive          0\n",
       "wooddecksf          0\n",
       "openporchsf         0\n",
       "enclosedporch       0\n",
       "threessnporch       0\n",
       "screenporch         0\n",
       "poolarea         2028\n",
       "poolqc           1639\n",
       "fence            1963\n",
       "miscfeature         0\n",
       "miscval             0\n",
       "mosold              0\n",
       "yrsold              0\n",
       "saletype            0\n",
       "salecondition       0\n",
       "saleprice        ... \n",
       "index               0\n",
       "Length: 81, dtype: int64"
      ]
     },
     "execution_count": 203,
     "metadata": {},
     "output_type": "execute_result"
    }
   ],
   "source": [
    "pd.set_option('display.max_rows', -1)\n",
    "train.isnull().sum()"
   ]
  },
  {
   "cell_type": "code",
   "execution_count": 204,
   "metadata": {},
   "outputs": [
    {
     "name": "stdout",
     "output_type": "stream",
     "text": [
      "                 1.000000\n",
      "saleprice        0.799837\n",
      "overallqual      0.701734\n",
      "grlivarea        0.651208\n",
      "garagecars       0.645954\n",
      "garagearea       0.633116\n",
      "firstflrsf       0.631554\n",
      "totalbsmtsf      0.557469\n",
      "yearbuilt        0.536306\n",
      "fullbath         0.522784\n",
      "yearremodel      0.509407\n",
      "garageyrblt      0.504192\n",
      "masvnrarea       0.489947\n",
      "totrmsabvgrd     0.487527\n",
      "fireplaces       0.446593\n",
      "bsmtfinsf1       0.362590\n",
      "lotfrontage      0.336688\n",
      "wooddecksf       0.308081\n",
      "openporchsf      0.290127\n",
      "bsmtfullbath     0.286912\n",
      "halfbath         0.262951\n",
      "lotarea          0.249058\n",
      "secondflrsf      0.155935\n",
      "bsmtunfsf        0.128759\n",
      "bedroomabvgr     0.099817\n",
      "screenporch      0.081070\n",
      "poolarea         0.031991\n",
      "mosold           0.018977\n",
      "bsmtfinsf2       0.015316\n",
      "threessnporch   -0.010446\n",
      "index           -0.015998\n",
      "miscval         -0.024561\n",
      "yrsold          -0.038653\n",
      "lowqualfinsf    -0.044365\n",
      "bsmthalfbath    -0.073554\n",
      "subclass        -0.109245\n",
      "overallcond     -0.109632\n",
      "kitchenabvgr     0.799837\n",
      "overallqual      0.701734\n",
      "grlivarea        0.651208\n",
      "garagecars       0.645954\n",
      "garagearea       0.633116\n",
      "firstflrsf       0.631554\n",
      "totalbsmtsf      0.557469\n",
      "yearbuilt        0.536306\n",
      "fullbath         0.522784\n",
      "yearremodel      0.509407\n",
      "garageyrblt      0.504192\n",
      "masvnrarea       0.489947\n",
      "totrmsabvgrd     0.487527\n",
      "fireplaces       0.446593\n",
      "bsmtfinsf1       0.362590\n",
      "lotfrontage      0.336688\n",
      "wooddecksf       0.308081\n",
      "openporchsf      0.290127\n",
      "bsmtfullbath     0.286912\n",
      "halfbath         0.262951\n",
      "lotarea          0.249058\n",
      "secondflrsf      0.155935\n",
      "bsmtunfsf        0.128759\n",
      "bedroomabvgr     0.099817\n",
      "screenporch      0.081070\n",
      "poolarea         0.031991\n",
      "mosold           0.018977\n",
      "bsmtfinsf2       0.015316\n",
      "threessnporch   -0.010446\n",
      "index           -0.015998\n",
      "miscval         -0.024561\n",
      "yrsold          -0.038653\n",
      "lowqualfinsf    -0.044365\n",
      "bsmthalfbath    -0.073554\n",
      "subclass        -0.109245\n",
      "overallcond     -0.109632\n",
      "kitchenabvgr       ...   \n",
      "enclosedporch   -0.133154\n",
      "Name: saleprice, Length: 38, dtype: float64\n"
     ]
    }
   ],
   "source": [
    "corr = train[train.columns].corr()\n",
    "#print(corr)\n",
    "#sns.heatmap(corr, annot = True)\n",
    "print(corr['saleprice'].sort_values(ascending=False))\n",
    "corr.to_csv('traincorrelations.csv') "
   ]
  },
  {
   "cell_type": "code",
   "execution_count": 137,
   "metadata": {},
   "outputs": [],
   "source": [
    "#Using Normal Sale types, elminating outliars for GR area\n",
    "ntrain = train\n",
    "ntrain = ntrain[ntrain[\"salecondition\"] == 'Normal']\n",
    "ntrain = ntrain[ntrain[\"grlivarea\"] <= 3627]\n",
    "ntrain.to_csv('ntrain.csv')"
   ]
  },
  {
   "cell_type": "code",
   "execution_count": 184,
   "metadata": {},
   "outputs": [],
   "source": [
    "newtrain_2 = ntrain\n",
    "newtrain_2['totalsf'] = (newtrain_2['totalbsmtsf']+newtrain_2['grlivarea'])\n",
    "newtrain_2.describe\n",
    "#newtrain_2 = newtrain_2[newtrain_2['totalsf'] < 6000]\n",
    "newtrain_3 = newtrain_2\n",
    "#newtrain_3 = newtrain_3[newtrain_2['saleprice'] <= 500000]\n",
    "newtest_2 = test\n",
    "newtest_2[\"garagearea\"] = newtest_2['garagearea'].fillna(0)\n",
    "newtest_2['totalsf'] = (newtest_2['totalbsmtsf']+newtest_2['grlivarea'])\n"
   ]
  },
  {
   "cell_type": "code",
   "execution_count": 185,
   "metadata": {},
   "outputs": [],
   "source": [
    "corr = train[train.columns].corr()\n",
    "#print(corr)\n",
    "#sns.heatmap(corr, annot = True)\n",
    "corr.to_csv('traincorrelations.csv') "
   ]
  },
  {
   "cell_type": "code",
   "execution_count": 186,
   "metadata": {},
   "outputs": [
    {
     "data": {
      "text/plain": [
       "<matplotlib.axes._subplots.AxesSubplot at 0x1c223ab860>"
      ]
     },
     "execution_count": 186,
     "metadata": {},
     "output_type": "execute_result"
    },
    {
     "data": {
      "image/png": "[encoded data removed]",
      "text/plain": [
       "<Figure size 432x288 with 1 Axes>"
      ]
     },
     "metadata": {
      "needs_background": "light"
     },
     "output_type": "display_data"
    }
   ],
   "source": [
    "newtrain_3.plot.scatter(y='saleprice', x='totalsf', s=None, c=None, marker=None, cmap=None, norm=None, vmin=None, vmax=None, alpha=None, \n",
    "linewidths=None, verts=None, edgecolors=None )"
   ]
  },
  {
   "cell_type": "code",
   "execution_count": 187,
   "metadata": {
    "scrolled": true
   },
   "outputs": [
    {
     "name": "stdout",
     "output_type": "stream",
     "text": [
      "                            OLS Regression Results                            \n",
      "==============================================================================\n",
      "Dep. Variable:              saleprice   R-squared:                       0.692\n",
      "Model:                            OLS   Adj. R-squared:                  0.692\n",
      "Method:                 Least Squares   F-statistic:                     3767.\n",
      "Date:                Tue, 22 Jan 2019   Prob (F-statistic):               0.00\n",
      "Time:                        23:15:39   Log-Likelihood:                -20114.\n",
      "No. Observations:                1678   AIC:                         4.023e+04\n",
      "Df Residuals:                    1676   BIC:                         4.024e+04\n",
      "Df Model:                           1                                         \n",
      "Covariance Type:            nonrobust                                         \n",
      "==============================================================================\n",
      "                 coef    std err          t      P>|t|      [0.025      0.975]\n",
      "------------------------------------------------------------------------------\n",
      "Intercept  -2.379e+04   3357.526     -7.085      0.000   -3.04e+04   -1.72e+04\n",
      "totalsf       79.9491      1.303     61.374      0.000      77.394      82.504\n",
      "==============================================================================\n",
      "Omnibus:                      140.969   Durbin-Watson:                   1.984\n",
      "Prob(Omnibus):                  0.000   Jarque-Bera (JB):              783.620\n",
      "Skew:                           0.129   Prob(JB):                    6.90e-171\n",
      "Kurtosis:                       6.338   Cond. No.                     9.11e+03\n",
      "==============================================================================\n",
      "\n",
      "Warnings:\n",
      "[1] Standard Errors assume that the covariance matrix of the errors is correctly specified.\n",
      "[2] The condition number is large, 9.11e+03. This might indicate that there are\n",
      "strong multicollinearity or other numerical problems.\n"
     ]
    }
   ],
   "source": [
    "#Run a simple model\n",
    "model = smf.ols(formula='saleprice ~ totalsf' , data=newtrain_3).fit()  \n",
    "  \n",
    "print (model.summary())"
   ]
  },
  {
   "cell_type": "code",
   "execution_count": 188,
   "metadata": {},
   "outputs": [
    {
     "data": {
      "image/png": "[encoded data removed]",
      "text/plain": [
       "<Figure size 648x432 with 1 Axes>"
      ]
     },
     "metadata": {
      "needs_background": "light"
     },
     "output_type": "display_data"
    }
   ],
   "source": [
    "data_to_plot = newtrain_2['saleprice']\n",
    "# Create a figure instance\n",
    "fig = plt.figure(1, figsize=(9, 6))\n",
    "\n",
    "# Create an axes instance\n",
    "ax = fig.add_subplot(111)\n",
    "\n",
    "# Create the boxplot\n",
    "bp = ax.boxplot(data_to_plot)\n",
    "\n",
    "# Save the figure\n",
    "fig.savefig('fig1.png', bbox_inches='tight')"
   ]
  },
  {
   "cell_type": "code",
   "execution_count": 189,
   "metadata": {},
   "outputs": [
    {
     "name": "stdout",
     "output_type": "stream",
     "text": [
      "0       34495.317085\n",
      "1      269785.453582\n",
      "2      189916.324679\n",
      "3      217978.451050\n",
      "4      186638.412482\n",
      "           ...      \n",
      "721    229011.423812\n",
      "722    332945.225186\n",
      "723    162333.892776\n",
      "724    214940.386087\n",
      "725    154658.781290\n",
      "Length: 726, dtype: float64\n",
      "     index    p_saleprice\n",
      "0        1   34495.317085\n",
      "1        4  269785.453582\n",
      "2        7  189916.324679\n",
      "3       11  217978.451050\n",
      "4       13  186638.412482\n",
      "..     ...            ...\n",
      "721   2912  229011.423812\n",
      "722   2914  332945.225186\n",
      "723   2919  162333.892776\n",
      "724   2923  214940.386087\n",
      "725   2924  154658.781290\n",
      "\n",
      "[726 rows x 2 columns]\n"
     ]
    }
   ],
   "source": [
    "#Convert the array predictions to a data frame then merge with the index for the test data to create your file\n",
    "test_predictions_9 = model.predict(newtest_2)\n",
    "print(test_predictions_9)\n",
    "d_2 = {'p_saleprice': test_predictions_9}\n",
    "df3 = newtest_2[['index']]\n",
    "df4 = pd.DataFrame(data=d_2)\n",
    "your_file = pd.concat([df3,df4],axis = 1, join_axes=[df3.index])\n",
    "print(your_file)\n",
    "#Submit your file as csv using the following code to save on your computer\n",
    "#You will have to delete the first column in the csv file to submit to kaggle \n",
    "your_file.to_csv('LoganStrouse_predict_totalsf.csv') "
   ]
  },
  {
   "cell_type": "code",
   "execution_count": null,
   "metadata": {},
   "outputs": [],
   "source": []
  }
 ],
 "metadata": {
  "kernelspec": {
   "display_name": "Python 3",
   "language": "python",
   "name": "python3"
  },
  "language_info": {
   "codemirror_mode": {
    "name": "ipython",
    "version": 3
   },
   "file_extension": ".py",
   "mimetype": "text/x-python",
   "name": "python",
   "nbconvert_exporter": "python",
   "pygments_lexer": "ipython3",
   "version": "3.7.1"
  }
 },
 "nbformat": 4,
 "nbformat_minor": 2
}
