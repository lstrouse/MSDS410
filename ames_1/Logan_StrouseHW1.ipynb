{
 "cells": [
  {
   "cell_type": "code",
   "execution_count": 79,
   "metadata": {
    "scrolled": true
   },
   "outputs": [],
   "source": [
    "#import some packages you will be using\n",
    "import pandas as pd \n",
    "import numpy as np \n",
    "import statsmodels.api as sm\n",
    "import statsmodels.formula.api as smf  \n",
    "import matplotlib.pyplot as plt \n",
    "from scipy import stats\n",
    "from sklearn import linear_model, metrics"
   ]
  },
  {
   "cell_type": "code",
   "execution_count": 80,
   "metadata": {
    "scrolled": true
   },
   "outputs": [],
   "source": [
    "get_ipython().magic(u'matplotlib inline')\n",
    " \n",
    "#set some options for the output\n",
    "pd.set_option('display.notebook_repr_html', False) \n",
    "pd.set_option('display.max_columns', 40) \n",
    "pd.set_option('display.max_rows', 10) \n",
    "pd.set_option('display.width', 120)\n"
   ]
  },
  {
   "cell_type": "code",
   "execution_count": 81,
   "metadata": {
    "scrolled": true
   },
   "outputs": [
    {
     "name": "stdout",
     "output_type": "stream",
     "text": [
      "      SubClass Zoning  LotFrontage  LotArea Street Alley LotShape LandContour Utilities LotConfig LandSlope  \\\n",
      "0           20     RL          NaN    11838   Pave   NaN      Reg         Lvl    AllPub    Inside       Gtl   \n",
      "1           60     RL         70.0     8304   Pave   NaN      IR1         Lvl    AllPub    Inside       Gtl   \n",
      "2           45     RM         58.0     6380   Pave   NaN      Reg         Lvl    AllPub    Inside       Gtl   \n",
      "3           60     RL          NaN    14803   Pave   NaN      IR1         Lvl    AllPub   CulDSac       Gtl   \n",
      "4           20     RL         91.0    11375   Pave   NaN      Reg         Lvl    AllPub    Inside       Gtl   \n",
      "...        ...    ...          ...      ...    ...   ...      ...         ...       ...       ...       ...   \n",
      "2034        85     RL         75.0    11235   Pave   NaN      Reg         Lvl    AllPub    Inside       Gtl   \n",
      "2035        20     RL         70.0     9100   Pave   NaN      Reg         Lvl    AllPub    Inside       Gtl   \n",
      "2036       190     RM         60.0    10800   Pave    Pa      Reg         Lvl    AllPub    Inside       Gtl   \n",
      "2037        20     RL         65.0     7800   Pave   NaN      Reg         Lvl    AllPub    Inside       Gtl   \n",
      "2038        90     RL          NaN     7939   Pave   NaN      Reg         Lvl    AllPub    Inside       Gtl   \n",
      "\n",
      "     Neighborhood Condition1 Condition2 BldgType HouseStyle  OverallQual  OverallCond  YearBuilt  YearRemodel  ...   \\\n",
      "0         CollgCr       Norm       Norm     1Fam     1Story            8            5       2001         2001  ...    \n",
      "1         SawyerW       Norm       Norm     1Fam     2Story            6            5       1997         1998  ...    \n",
      "2         BrkSide       Norm       Norm     1Fam     1.5Unf            5            6       1922         1950  ...    \n",
      "3          NWAmes       Norm       Norm     1Fam     2Story            6            5       1971         1971  ...    \n",
      "4          Sawyer       Norm       Norm     1Fam     1Story            6            5       1954         1995  ...    \n",
      "...           ...        ...        ...      ...        ...          ...          ...        ...          ...  ...    \n",
      "2034       Sawyer       Norm       Norm     1Fam     SFoyer            5            5       1964         1980  ...    \n",
      "2035      Crawfor      Feedr       Norm     1Fam     1Story            5            6       1954         1954  ...    \n",
      "2036      OldTown       Norm       Norm   2fmCon     1.5Fin            6            7       1905         2000  ...    \n",
      "2037       Sawyer       Norm       Norm     1Fam     1Story            5            7       1966         2008  ...    \n",
      "2038      SawyerW      Feedr       Norm   Duplex     2Story            7            5       2000         2000  ...    \n",
      "\n",
      "     GarageArea GarageQual GarageCond PavedDrive WoodDeckSF  OpenPorchSF EnclosedPorch ThreeSsnPorch ScreenPorch  \\\n",
      "0           522         TA         TA          Y        202          151             0             0           0   \n",
      "1           688         TA         TA          Y        150          165             0             0           0   \n",
      "2           280         TA         TA          Y          0            0           116             0           0   \n",
      "3           495         TA         TA          Y          0           66             0             0           0   \n",
      "4           494         TA         TA          Y         81            0           280             0           0   \n",
      "...         ...        ...        ...        ...        ...          ...           ...           ...         ...   \n",
      "2034        572         TA         TA          Y         92            0            88             0           0   \n",
      "2035        390         TA         TA          Y          0            0             0             0           0   \n",
      "2036        672         Gd         TA          Y          0           25           212             0           0   \n",
      "2037        416         TA         TA          Y          0            0             0             0           0   \n",
      "2038        820         TA         TA          Y        312            0             0             0           0   \n",
      "\n",
      "     PoolArea PoolQC  Fence MiscFeature  MiscVal MoSold  YrSold  SaleType  SaleCondition SalePrice index  \n",
      "0           0    NaN    NaN         NaN        0      6    2009        WD         Normal    236500     2  \n",
      "1           0    NaN  GdPrv         NaN        0      7    2006        WD         Normal    187000     3  \n",
      "2           0    NaN    NaN         NaN        0      8    2006        WD         Normal    113000     5  \n",
      "3           0    NaN   GdWo         NaN        0      6    2006        WD         Normal    190000     6  \n",
      "4           0    NaN    NaN         NaN        0     10    2007        WD         Normal    150000     8  \n",
      "...       ...    ...    ...         ...      ...    ...     ...       ...            ...       ...   ...  \n",
      "2034        0    NaN    NaN         NaN        0     11    2007        WD         Normal    158450  2926  \n",
      "2035        0    NaN  MnPrv         NaN        0     10    2009        WD         Family    144800  2927  \n",
      "2036        0    NaN    NaN         NaN        0      4    2008        WD         Normal    163000  2928  \n",
      "2037        0    NaN    NaN         NaN        0      6    2010        WD         Normal    137900  2929  \n",
      "2038        0    NaN    NaN         NaN        0     10    2009        WD         Normal    269500  2930  \n",
      "\n",
      "[2039 rows x 81 columns]\n"
     ]
    }
   ],
   "source": [
    "#read in the datasets\n",
    "train = pd.read_csv('AMES_TRAIN.csv')\n",
    "test = pd.read_csv('AMES_TEST_SFAM.csv')\n",
    "print(train)"
   ]
  },
  {
   "cell_type": "code",
   "execution_count": 82,
   "metadata": {
    "scrolled": true
   },
   "outputs": [],
   "source": [
    "#A good step to take is to convert all variable names to lower case\n",
    "train.columns = [s.lower() for s in train.columns]\n",
    "test.columns = [s.lower() for s in test.columns]"
   ]
  },
  {
   "cell_type": "code",
   "execution_count": 83,
   "metadata": {
    "scrolled": true
   },
   "outputs": [
    {
     "name": "stdout",
     "output_type": "stream",
     "text": [
      "          subclass  lotfrontage        lotarea  overallqual  overallcond    yearbuilt  yearremodel   masvnrarea  \\\n",
      "count  2039.000000  1714.000000    2039.000000  2039.000000  2039.000000  2039.000000  2039.000000  2024.000000   \n",
      "mean     56.586562    68.581680   10062.990191     6.077979     5.585091  1970.817558  1984.100539   100.546443   \n",
      "std      41.876919    23.056608    8125.002560     1.407362     1.107337    30.456005    21.101772   179.386037   \n",
      "min      20.000000    21.000000    1477.000000     1.000000     1.000000  1872.000000  1950.000000     0.000000   \n",
      "25%      20.000000    57.000000    7365.000000     5.000000     5.000000  1952.500000  1965.000000     0.000000   \n",
      "50%      50.000000    67.000000    9320.000000     6.000000     5.000000  1972.000000  1993.000000     0.000000   \n",
      "75%      70.000000    80.000000   11424.500000     7.000000     6.000000  2000.000000  2004.000000   160.000000   \n",
      "max     190.000000   313.000000  215245.000000    10.000000     9.000000  2010.000000  2010.000000  1378.000000   \n",
      "\n",
      "        bsmtfinsf1   bsmtfinsf2    bsmtunfsf  totalbsmtsf   firstflrsf  secondflrsf  lowqualfinsf    grlivarea  \\\n",
      "count  2038.000000  2038.000000  2038.000000  2038.000000  2039.000000  2039.000000   2039.000000  2039.000000   \n",
      "mean    442.681060    49.145240   552.182041  1044.008342  1155.093673   325.256989      4.898970  1485.249632   \n",
      "std     457.705442   166.686338   433.206958   435.629124   388.430250   418.582346     44.308354   496.569929   \n",
      "min       0.000000     0.000000     0.000000     0.000000   407.000000     0.000000      0.000000   407.000000   \n",
      "25%       0.000000     0.000000   217.000000   782.000000   871.500000     0.000000      0.000000  1119.000000   \n",
      "50%     370.000000     0.000000   462.500000   975.000000  1078.000000     0.000000      0.000000  1430.000000   \n",
      "75%     733.750000     0.000000   794.500000  1299.750000  1378.000000   689.000000      0.000000  1728.500000   \n",
      "max    5644.000000  1526.000000  2336.000000  6110.000000  4692.000000  2065.000000    697.000000  5642.000000   \n",
      "\n",
      "       bsmtfullbath  bsmthalfbath     fullbath     halfbath  bedroomabvgr  kitchenabvgr  totrmsabvgrd   fireplaces  \\\n",
      "count   2037.000000   2037.000000  2039.000000  2039.000000   2039.000000   2039.000000   2039.000000  2039.000000   \n",
      "mean       0.439863      0.061365     1.546346     0.374693      2.832271      1.041687      6.400687     0.587052   \n",
      "std        0.531837      0.248106     0.546813     0.499133      0.817088      0.211839      1.549896     0.649714   \n",
      "min        0.000000      0.000000     0.000000     0.000000      0.000000      0.000000      3.000000     0.000000   \n",
      "25%        0.000000      0.000000     1.000000     0.000000      2.000000      1.000000      5.000000     0.000000   \n",
      "50%        0.000000      0.000000     2.000000     0.000000      3.000000      1.000000      6.000000     1.000000   \n",
      "75%        1.000000      0.000000     2.000000     1.000000      3.000000      1.000000      7.000000     1.000000   \n",
      "max        3.000000      2.000000     4.000000     2.000000      8.000000      3.000000     14.000000     4.000000   \n",
      "\n",
      "       garageyrblt   garagecars   garagearea   wooddecksf  openporchsf  enclosedporch  threessnporch  screenporch  \\\n",
      "count  1920.000000  2039.000000  2039.000000  2039.000000  2039.000000    2039.000000    2039.000000  2039.000000   \n",
      "mean   1977.891667     1.748406   468.216282    92.926435    46.414419      22.353114       2.454635    15.097106   \n",
      "std      25.911175     0.764757   217.054485   124.988245    66.288152      61.723972      23.727244    53.478549   \n",
      "min    1895.000000     0.000000     0.000000     0.000000     0.000000       0.000000       0.000000     0.000000   \n",
      "25%    1960.000000     1.000000   314.000000     0.000000     0.000000       0.000000       0.000000     0.000000   \n",
      "50%    1979.000000     2.000000   477.000000     0.000000    25.000000       0.000000       0.000000     0.000000   \n",
      "75%    2002.000000     2.000000   576.000000   168.000000    68.000000       0.000000       0.000000     0.000000   \n",
      "max    2207.000000     5.000000  1488.000000   870.000000   742.000000     584.000000     407.000000   576.000000   \n",
      "\n",
      "          poolarea       miscval       mosold       yrsold      saleprice        index  \n",
      "count  2039.000000   2039.000000  2039.000000  2039.000000    2039.000000  2039.000000  \n",
      "mean      2.751349     43.998038     6.267288  2007.815596  179368.827857  1486.918097  \n",
      "std      39.898811    408.502250     2.733262     1.315467   78982.943661   850.390251  \n",
      "min       0.000000      0.000000     1.000000  2006.000000   34900.000000     2.000000  \n",
      "25%       0.000000      0.000000     4.000000  2007.000000  128500.000000   746.500000  \n",
      "50%       0.000000      0.000000     6.000000  2008.000000  160000.000000  1501.000000  \n",
      "75%       0.000000      0.000000     8.000000  2009.000000  210125.000000  2235.500000  \n",
      "max     800.000000  12500.000000    12.000000  2010.000000  745000.000000  2930.000000  \n"
     ]
    }
   ],
   "source": [
    "#do some exploration of the data\n",
    "#print('')\n",
    "#print('----- Summary of Train Data -----')\n",
    "#train.describe()\n",
    "#train.sample(5)\n",
    "#train.info\n",
    "#train.tail\n",
    "#train.head\n",
    "#print('')\n",
    "\n",
    "#query test\n",
    "#train.query('lotarea > lotfrontage')\n",
    "# show the object is a DataFrame\n",
    "#print('Object type: ', type(train))\n",
    "\n",
    "# show number of observations in the DataFrame\n",
    "#print('Number of observations: ', len(train))\n",
    "\n",
    "# show variable names\n",
    "#print('Variable names: ', train.columns)\n",
    "\n",
    "# show descriptive statistics\n",
    "print(train.describe())\n",
    "\n",
    "# show a portion of the beginning of the DataFrame\n",
    "#print(train.head())\n",
    "\n",
    "#watch your record count and fix records with missing NaN data\n",
    "#train.shape  \n",
    "#train.isnull().sum()\n",
    "#train[train == 0].count()"
   ]
  },
  {
   "cell_type": "code",
   "execution_count": 84,
   "metadata": {
    "scrolled": true
   },
   "outputs": [
    {
     "data": {
      "text/plain": [
       "<matplotlib.axes._subplots.AxesSubplot at 0x1c21fd8128>"
      ]
     },
     "execution_count": 84,
     "metadata": {},
     "output_type": "execute_result"
    },
    {
     "data": {
      "image/png": "[encoded data removed]",
      "text/plain": [
       "<Figure size 432x288 with 1 Axes>"
      ]
     },
     "metadata": {
      "needs_background": "light"
     },
     "output_type": "display_data"
    }
   ],
   "source": [
    "#Some quick plots of the data\n",
    "#train.hist(figsize=(10,8))\n",
    "#train.plot(kind= 'box' , subplots=True, layout=(5,9), sharex=False, sharey=False, figsize=(10,8))\n",
    "train.plot.scatter(y='saleprice', x='grlivarea', s=None, c=None, marker=None, cmap=None, norm=None, vmin=None, vmax=None, alpha=None, \n",
    "linewidths=None, verts=None, edgecolors=None )"
   ]
  },
  {
   "cell_type": "code",
   "execution_count": 85,
   "metadata": {
    "scrolled": true
   },
   "outputs": [
    {
     "name": "stdout",
     "output_type": "stream",
     "text": [
      "                            OLS Regression Results                            \n",
      "==============================================================================\n",
      "Dep. Variable:              saleprice   R-squared:                       0.492\n",
      "Model:                            OLS   Adj. R-squared:                  0.492\n",
      "Method:                 Least Squares   F-statistic:                     1976.\n",
      "Date:                Thu, 24 Jan 2019   Prob (F-statistic):          2.80e-302\n",
      "Time:                        02:55:53   Log-Likelihood:                -25195.\n",
      "No. Observations:                2039   AIC:                         5.039e+04\n",
      "Df Residuals:                    2037   BIC:                         5.041e+04\n",
      "Df Model:                           1                                         \n",
      "Covariance Type:            nonrobust                                         \n",
      "==============================================================================\n",
      "                 coef    std err          t      P>|t|      [0.025      0.975]\n",
      "------------------------------------------------------------------------------\n",
      "Intercept   1.359e+04   3931.905      3.457      0.001    5880.585    2.13e+04\n",
      "grlivarea    111.6158      2.511     44.455      0.000     106.692     116.540\n",
      "==============================================================================\n",
      "Omnibus:                      368.363   Durbin-Watson:                   1.936\n",
      "Prob(Omnibus):                  0.000   Jarque-Bera (JB):             4033.455\n",
      "Skew:                           0.509   Prob(JB):                         0.00\n",
      "Kurtosis:                       9.815   Cond. No.                     4.94e+03\n",
      "==============================================================================\n",
      "\n",
      "Warnings:\n",
      "[1] Standard Errors assume that the covariance matrix of the errors is correctly specified.\n",
      "[2] The condition number is large, 4.94e+03. This might indicate that there are\n",
      "strong multicollinearity or other numerical problems.\n"
     ]
    }
   ],
   "source": [
    "#Replace NaN values with medians in train data\n",
    "train=train.replace({'lotfrontage': {np.NaN : 50}})\n",
    "train.head()\n",
    "\n",
    "#Replace 0 values with medians in train data\n",
    "train1=train \n",
    "m = np.median(train1.grlivarea[train1.grlivarea>0])\n",
    "train1=train1.replace({'grlivarea': {0: m}}) \n",
    "\n",
    "#Run a simple model\n",
    "model = smf.ols(formula='saleprice ~ grlivarea' , data=train1).fit()  \n",
    "  \n",
    "print (model.summary())\n",
    " \n",
    "#dir(model) lists other print options\n",
    "#Use the model to score ames_test_sfam\n",
    "predictions = model.fittedvalues\n",
    "#print(test)\n",
    "#print(predictions)"
   ]
  },
  {
   "cell_type": "code",
   "execution_count": 86,
   "metadata": {
    "scrolled": true
   },
   "outputs": [
    {
     "data": {
      "text/plain": [
       "<matplotlib.axes._subplots.AxesSubplot at 0x1c22008ba8>"
      ]
     },
     "execution_count": 86,
     "metadata": {},
     "output_type": "execute_result"
    },
    {
     "data": {
      "image/png": "[encoded data removed]",
      "text/plain": [
       "<Figure size 432x288 with 1 Axes>"
      ]
     },
     "metadata": {
      "needs_background": "light"
     },
     "output_type": "display_data"
    }
   ],
   "source": [
    "train.plot.scatter(y='saleprice', x='overallqual', s=None, c=None, marker=None, cmap=None, norm=None, vmin=None, vmax=None, alpha=None, \n",
    "linewidths=None, verts=None, edgecolors=None )"
   ]
  },
  {
   "cell_type": "code",
   "execution_count": 87,
   "metadata": {
    "scrolled": true
   },
   "outputs": [
    {
     "name": "stdout",
     "output_type": "stream",
     "text": [
      "                            OLS Regression Results                            \n",
      "==============================================================================\n",
      "Dep. Variable:              saleprice   R-squared:                       0.640\n",
      "Model:                            OLS   Adj. R-squared:                  0.640\n",
      "Method:                 Least Squares   F-statistic:                     3617.\n",
      "Date:                Thu, 24 Jan 2019   Prob (F-statistic):               0.00\n",
      "Time:                        02:55:54   Log-Likelihood:                -24846.\n",
      "No. Observations:                2039   AIC:                         4.970e+04\n",
      "Df Residuals:                    2037   BIC:                         4.971e+04\n",
      "Df Model:                           1                                         \n",
      "Covariance Type:            nonrobust                                         \n",
      "===============================================================================\n",
      "                  coef    std err          t      P>|t|      [0.025      0.975]\n",
      "-------------------------------------------------------------------------------\n",
      "Intercept   -9.346e+04   4656.236    -20.072      0.000   -1.03e+05   -8.43e+04\n",
      "overallqual  4.489e+04    746.346     60.144      0.000    4.34e+04    4.64e+04\n",
      "==============================================================================\n",
      "Omnibus:                      640.306   Durbin-Watson:                   2.036\n",
      "Prob(Omnibus):                  0.000   Jarque-Bera (JB):             4300.776\n",
      "Skew:                           1.305   Prob(JB):                         0.00\n",
      "Kurtosis:                       9.619   Cond. No.                         28.3\n",
      "==============================================================================\n",
      "\n",
      "Warnings:\n",
      "[1] Standard Errors assume that the covariance matrix of the errors is correctly specified.\n"
     ]
    }
   ],
   "source": [
    "#Replace 0 values with medians in train data\n",
    "train2=train \n",
    "m = np.median(train2.overallqual[train2.overallqual>0])\n",
    "train2=train2.replace({'overallqual': {0: m}}) \n",
    "\n",
    "#Run a simple model\n",
    "model_2 = smf.ols(formula='saleprice ~ overallqual' , data=train2).fit()  \n",
    "  \n",
    "print (model_2.summary())"
   ]
  },
  {
   "cell_type": "code",
   "execution_count": 88,
   "metadata": {},
   "outputs": [
    {
     "data": {
      "text/plain": [
       "<matplotlib.axes._subplots.AxesSubplot at 0x1c226d2278>"
      ]
     },
     "execution_count": 88,
     "metadata": {},
     "output_type": "execute_result"
    },
    {
     "data": {
      "image/png": "[encoded data removed]",
      "text/plain": [
       "<Figure size 432x288 with 1 Axes>"
      ]
     },
     "metadata": {
      "needs_background": "light"
     },
     "output_type": "display_data"
    }
   ],
   "source": [
    "train.plot.scatter(y='saleprice', x='yrsold', s=None, c=None, marker=None, cmap=None, norm=None, vmin=None, vmax=None, alpha=None, \n",
    "linewidths=None, verts=None, edgecolors=None )"
   ]
  },
  {
   "cell_type": "code",
   "execution_count": 89,
   "metadata": {
    "scrolled": true
   },
   "outputs": [
    {
     "name": "stdout",
     "output_type": "stream",
     "text": [
      "                            OLS Regression Results                            \n",
      "==============================================================================\n",
      "Dep. Variable:              saleprice   R-squared:                       0.001\n",
      "Model:                            OLS   Adj. R-squared:                  0.000\n",
      "Method:                 Least Squares   F-statistic:                     1.230\n",
      "Date:                Thu, 24 Jan 2019   Prob (F-statistic):              0.268\n",
      "Time:                        02:55:54   Log-Likelihood:                -25886.\n",
      "No. Observations:                2039   AIC:                         5.178e+04\n",
      "Df Residuals:                    2037   BIC:                         5.179e+04\n",
      "Df Model:                           1                                         \n",
      "Covariance Type:            nonrobust                                         \n",
      "==============================================================================\n",
      "                 coef    std err          t      P>|t|      [0.025      0.975]\n",
      "------------------------------------------------------------------------------\n",
      "Intercept    3.14e+06   2.67e+06      1.176      0.240    -2.1e+06    8.38e+06\n",
      "yrsold     -1474.6609   1329.924     -1.109      0.268   -4082.814    1133.492\n",
      "==============================================================================\n",
      "Omnibus:                      760.842   Durbin-Watson:                   1.980\n",
      "Prob(Omnibus):                  0.000   Jarque-Bera (JB):             3302.569\n",
      "Skew:                           1.764   Prob(JB):                         0.00\n",
      "Kurtosis:                       8.141   Cond. No.                     3.07e+06\n",
      "==============================================================================\n",
      "\n",
      "Warnings:\n",
      "[1] Standard Errors assume that the covariance matrix of the errors is correctly specified.\n",
      "[2] The condition number is large, 3.07e+06. This might indicate that there are\n",
      "strong multicollinearity or other numerical problems.\n",
      "Intercept    3.140216e+06\n",
      "yrsold      -1.474661e+03\n",
      "dtype: float64\n"
     ]
    }
   ],
   "source": [
    "#Run a simple model\n",
    "model_3 = smf.ols(formula='saleprice ~ yrsold' , data=train1).fit()  \n",
    "  \n",
    "print (model_3.summary())\n",
    "print (model_3.params)"
   ]
  },
  {
   "cell_type": "code",
   "execution_count": 90,
   "metadata": {
    "scrolled": true
   },
   "outputs": [
    {
     "data": {
      "text/plain": [
       "<matplotlib.axes._subplots.AxesSubplot at 0x1c22a135f8>"
      ]
     },
     "execution_count": 90,
     "metadata": {},
     "output_type": "execute_result"
    },
    {
     "data": {
      "image/png": "[encoded data removed]",
      "text/plain": [
       "<Figure size 432x288 with 1 Axes>"
      ]
     },
     "metadata": {
      "needs_background": "light"
     },
     "output_type": "display_data"
    }
   ],
   "source": [
    "train.plot.scatter(y='saleprice', x='yearbuilt', s=None, c=None, marker=None, cmap=None, norm=None, vmin=None, vmax=None, alpha=None, \n",
    "linewidths=None, verts=None, edgecolors=None )"
   ]
  },
  {
   "cell_type": "code",
   "execution_count": 91,
   "metadata": {
    "scrolled": true
   },
   "outputs": [
    {
     "name": "stdout",
     "output_type": "stream",
     "text": [
      "                            OLS Regression Results                            \n",
      "==============================================================================\n",
      "Dep. Variable:              saleprice   R-squared:                       0.311\n",
      "Model:                            OLS   Adj. R-squared:                  0.310\n",
      "Method:                 Least Squares   F-statistic:                     918.5\n",
      "Date:                Thu, 24 Jan 2019   Prob (F-statistic):          7.47e-167\n",
      "Time:                        02:55:55   Log-Likelihood:                -25507.\n",
      "No. Observations:                2039   AIC:                         5.102e+04\n",
      "Df Residuals:                    2037   BIC:                         5.103e+04\n",
      "Df Model:                           1                                         \n",
      "Covariance Type:            nonrobust                                         \n",
      "==============================================================================\n",
      "                 coef    std err          t      P>|t|      [0.025      0.975]\n",
      "------------------------------------------------------------------------------\n",
      "Intercept   -2.67e+06    9.4e+04    -28.395      0.000   -2.85e+06   -2.49e+06\n",
      "yearbuilt   1445.7101     47.703     30.306      0.000    1352.158    1539.262\n",
      "==============================================================================\n",
      "Omnibus:                      933.413   Durbin-Watson:                   2.023\n",
      "Prob(Omnibus):                  0.000   Jarque-Bera (JB):             6241.925\n",
      "Skew:                           2.049   Prob(JB):                         0.00\n",
      "Kurtosis:                      10.529   Cond. No.                     1.28e+05\n",
      "==============================================================================\n",
      "\n",
      "Warnings:\n",
      "[1] Standard Errors assume that the covariance matrix of the errors is correctly specified.\n",
      "[2] The condition number is large, 1.28e+05. This might indicate that there are\n",
      "strong multicollinearity or other numerical problems.\n",
      "Intercept   -2.669862e+06\n",
      "yearbuilt    1.445710e+03\n",
      "dtype: float64\n"
     ]
    }
   ],
   "source": [
    "#Run a simple model\n",
    "model_4 = smf.ols(formula='saleprice ~ yearbuilt' , data=train1).fit()  \n",
    "  \n",
    "print (model_4.summary())\n",
    "print (model_4.params)"
   ]
  },
  {
   "cell_type": "code",
   "execution_count": 92,
   "metadata": {
    "scrolled": true
   },
   "outputs": [
    {
     "data": {
      "text/plain": [
       "<matplotlib.axes._subplots.AxesSubplot at 0x1c22b1c0b8>"
      ]
     },
     "execution_count": 92,
     "metadata": {},
     "output_type": "execute_result"
    },
    {
     "data": {
      "image/png": "[encoded data removed]",
      "text/plain": [
       "<Figure size 432x288 with 1 Axes>"
      ]
     },
     "metadata": {
      "needs_background": "light"
     },
     "output_type": "display_data"
    }
   ],
   "source": [
    "train.plot.scatter(y='saleprice', x='lotfrontage', s=None, c=None, marker=None, cmap=None, norm=None, vmin=None, vmax=None, alpha=None, \n",
    "linewidths=None, verts=None, edgecolors=None )"
   ]
  },
  {
   "cell_type": "code",
   "execution_count": 93,
   "metadata": {
    "scrolled": true
   },
   "outputs": [
    {
     "name": "stdout",
     "output_type": "stream",
     "text": [
      "                            OLS Regression Results                            \n",
      "==============================================================================\n",
      "Dep. Variable:              saleprice   R-squared:                       0.105\n",
      "Model:                            OLS   Adj. R-squared:                  0.104\n",
      "Method:                 Least Squares   F-statistic:                     238.4\n",
      "Date:                Thu, 24 Jan 2019   Prob (F-statistic):           6.07e-51\n",
      "Time:                        02:55:55   Log-Likelihood:                -25774.\n",
      "No. Observations:                2039   AIC:                         5.155e+04\n",
      "Df Residuals:                    2037   BIC:                         5.156e+04\n",
      "Df Model:                           1                                         \n",
      "Covariance Type:            nonrobust                                         \n",
      "===============================================================================\n",
      "                  coef    std err          t      P>|t|      [0.025      0.975]\n",
      "-------------------------------------------------------------------------------\n",
      "Intercept    1.038e+05   5165.351     20.100      0.000    9.37e+04    1.14e+05\n",
      "lotfrontage  1151.2413     74.564     15.440      0.000    1005.011    1297.472\n",
      "==============================================================================\n",
      "Omnibus:                      603.000   Durbin-Watson:                   1.994\n",
      "Prob(Omnibus):                  0.000   Jarque-Bera (JB):             2155.345\n",
      "Skew:                           1.433   Prob(JB):                         0.00\n",
      "Kurtosis:                       7.141   Cond. No.                         216.\n",
      "==============================================================================\n",
      "\n",
      "Warnings:\n",
      "[1] Standard Errors assume that the covariance matrix of the errors is correctly specified.\n",
      "Intercept      103824.475316\n",
      "lotfrontage      1151.241301\n",
      "dtype: float64\n"
     ]
    }
   ],
   "source": [
    "#Replace 0 values with medians in train data\n",
    "train3=train \n",
    "m = np.median(train3.lotfrontage[train3.overallqual>0])\n",
    "train3=train3.replace({'lotfrontage': {0: m}}) \n",
    "#Run a simple model\n",
    "model_5 = smf.ols(formula='saleprice ~ lotfrontage' , data=train3).fit()  \n",
    "  \n",
    "print (model_5.summary())\n",
    "print (model_5.params)"
   ]
  },
  {
   "cell_type": "code",
   "execution_count": 94,
   "metadata": {
    "scrolled": true
   },
   "outputs": [
    {
     "data": {
      "text/plain": [
       "<matplotlib.axes._subplots.AxesSubplot at 0x1c21c8a0f0>"
      ]
     },
     "execution_count": 94,
     "metadata": {},
     "output_type": "execute_result"
    },
    {
     "data": {
      "image/png": "[encoded data removed]",
      "text/plain": [
       "<Figure size 432x288 with 1 Axes>"
      ]
     },
     "metadata": {
      "needs_background": "light"
     },
     "output_type": "display_data"
    }
   ],
   "source": [
    "train.plot.scatter(y='saleprice', x='masvnrarea', s=None, c=None, marker=None, cmap=None, norm=None, vmin=None, vmax=None, alpha=None, \n",
    "linewidths=None, verts=None, edgecolors=None )"
   ]
  },
  {
   "cell_type": "code",
   "execution_count": 95,
   "metadata": {
    "scrolled": true
   },
   "outputs": [
    {
     "name": "stdout",
     "output_type": "stream",
     "text": [
      "                            OLS Regression Results                            \n",
      "==============================================================================\n",
      "Dep. Variable:              saleprice   R-squared:                       0.159\n",
      "Model:                            OLS   Adj. R-squared:                  0.158\n",
      "Method:                 Least Squares   F-statistic:                     381.2\n",
      "Date:                Thu, 24 Jan 2019   Prob (F-statistic):           6.53e-78\n",
      "Time:                        02:55:56   Log-Likelihood:                -25523.\n",
      "No. Observations:                2024   AIC:                         5.105e+04\n",
      "Df Residuals:                    2022   BIC:                         5.106e+04\n",
      "Df Model:                           1                                         \n",
      "Covariance Type:            nonrobust                                         \n",
      "==============================================================================\n",
      "                 coef    std err          t      P>|t|      [0.025      0.975]\n",
      "------------------------------------------------------------------------------\n",
      "Intercept   1.252e+05   3197.235     39.165      0.000    1.19e+05    1.31e+05\n",
      "masvnrarea   240.5226     12.319     19.524      0.000     216.363     264.682\n",
      "==============================================================================\n",
      "Omnibus:                      468.466   Durbin-Watson:                   1.944\n",
      "Prob(Omnibus):                  0.000   Jarque-Bera (JB):             1513.890\n",
      "Skew:                           1.146   Prob(JB):                         0.00\n",
      "Kurtosis:                       6.564   Cond. No.                         515.\n",
      "==============================================================================\n",
      "\n",
      "Warnings:\n",
      "[1] Standard Errors assume that the covariance matrix of the errors is correctly specified.\n",
      "Intercept     125221.247907\n",
      "masvnrarea       240.522644\n",
      "dtype: float64\n"
     ]
    }
   ],
   "source": [
    "#Replace 0 values with medians in train data\n",
    "train4=train \n",
    "m = np.median(train3.masvnrarea[train4.masvnrarea>0])\n",
    "train4=train4.replace({'masvnrarea': {0: m}}) \n",
    "#Run a simple model\n",
    "model_6 = smf.ols(formula='saleprice ~ masvnrarea' , data=train4).fit()  \n",
    "  \n",
    "print (model_6.summary())\n",
    "print (model_6.params)"
   ]
  },
  {
   "cell_type": "code",
   "execution_count": 96,
   "metadata": {
    "scrolled": true
   },
   "outputs": [],
   "source": [
    "newtrain = train\n",
    "newtrain['sfqual'] = newtrain['grlivarea']/newtrain['overallqual']\n",
    "newtrain['pricesf'] = newtrain['saleprice']/newtrain['grlivarea']"
   ]
  },
  {
   "cell_type": "code",
   "execution_count": 97,
   "metadata": {
    "scrolled": true
   },
   "outputs": [
    {
     "data": {
      "text/plain": [
       "<bound method NDFrame.describe of       subclass zoning  lotfrontage  lotarea street alley lotshape landcontour utilities lotconfig landslope  \\\n",
       "0           20     RL         50.0    11838   Pave   NaN      Reg         Lvl    AllPub    Inside       Gtl   \n",
       "1           60     RL         70.0     8304   Pave   NaN      IR1         Lvl    AllPub    Inside       Gtl   \n",
       "2           45     RM         58.0     6380   Pave   NaN      Reg         Lvl    AllPub    Inside       Gtl   \n",
       "3           60     RL         50.0    14803   Pave   NaN      IR1         Lvl    AllPub   CulDSac       Gtl   \n",
       "4           20     RL         91.0    11375   Pave   NaN      Reg         Lvl    AllPub    Inside       Gtl   \n",
       "...        ...    ...          ...      ...    ...   ...      ...         ...       ...       ...       ...   \n",
       "2034        85     RL         75.0    11235   Pave   NaN      Reg         Lvl    AllPub    Inside       Gtl   \n",
       "2035        20     RL         70.0     9100   Pave   NaN      Reg         Lvl    AllPub    Inside       Gtl   \n",
       "2036       190     RM         60.0    10800   Pave    Pa      Reg         Lvl    AllPub    Inside       Gtl   \n",
       "2037        20     RL         65.0     7800   Pave   NaN      Reg         Lvl    AllPub    Inside       Gtl   \n",
       "2038        90     RL         50.0     7939   Pave   NaN      Reg         Lvl    AllPub    Inside       Gtl   \n",
       "\n",
       "     neighborhood condition1 condition2 bldgtype housestyle  overallqual  overallcond  yearbuilt  yearremodel  \\\n",
       "0         CollgCr       Norm       Norm     1Fam     1Story            8            5       2001         2001   \n",
       "1         SawyerW       Norm       Norm     1Fam     2Story            6            5       1997         1998   \n",
       "2         BrkSide       Norm       Norm     1Fam     1.5Unf            5            6       1922         1950   \n",
       "3          NWAmes       Norm       Norm     1Fam     2Story            6            5       1971         1971   \n",
       "4          Sawyer       Norm       Norm     1Fam     1Story            6            5       1954         1995   \n",
       "...           ...        ...        ...      ...        ...          ...          ...        ...          ...   \n",
       "2034       Sawyer       Norm       Norm     1Fam     SFoyer            5            5       1964         1980   \n",
       "2035      Crawfor      Feedr       Norm     1Fam     1Story            5            6       1954         1954   \n",
       "2036      OldTown       Norm       Norm   2fmCon     1.5Fin            6            7       1905         2000   \n",
       "2037       Sawyer       Norm       Norm     1Fam     1Story            5            7       1966         2008   \n",
       "2038      SawyerW      Feedr       Norm   Duplex     2Story            7            5       2000         2000   \n",
       "\n",
       "         ...     garagecond paveddrive wooddecksf openporchsf enclosedporch  threessnporch screenporch poolarea  \\\n",
       "0        ...             TA          Y        202         151             0              0           0        0   \n",
       "1        ...             TA          Y        150         165             0              0           0        0   \n",
       "2        ...             TA          Y          0           0           116              0           0        0   \n",
       "3        ...             TA          Y          0          66             0              0           0        0   \n",
       "4        ...             TA          Y         81           0           280              0           0        0   \n",
       "...      ...            ...        ...        ...         ...           ...            ...         ...      ...   \n",
       "2034     ...             TA          Y         92           0            88              0           0        0   \n",
       "2035     ...             TA          Y          0           0             0              0           0        0   \n",
       "2036     ...             TA          Y          0          25           212              0           0        0   \n",
       "2037     ...             TA          Y          0           0             0              0           0        0   \n",
       "2038     ...             TA          Y        312           0             0              0           0        0   \n",
       "\n",
       "     poolqc  fence miscfeature miscval mosold  yrsold saletype  salecondition  saleprice  index      sfqual  \\\n",
       "0       NaN    NaN         NaN       0      6    2009       WD         Normal     236500      2  223.500000   \n",
       "1       NaN  GdPrv         NaN       0      7    2006       WD         Normal     187000      3  306.166667   \n",
       "2       NaN    NaN         NaN       0      8    2006       WD         Normal     113000      5  209.600000   \n",
       "3       NaN   GdWo         NaN       0      6    2006       WD         Normal     190000      6  332.166667   \n",
       "4       NaN    NaN         NaN       0     10    2007       WD         Normal     150000      8  216.500000   \n",
       "...     ...    ...         ...     ...    ...     ...      ...            ...        ...    ...         ...   \n",
       "2034    NaN    NaN         NaN       0     11    2007       WD         Normal     158450   2926  290.400000   \n",
       "2035    NaN  MnPrv         NaN       0     10    2009       WD         Family     144800   2927  222.400000   \n",
       "2036    NaN    NaN         NaN       0      4    2008       WD         Normal     163000   2928  318.666667   \n",
       "2037    NaN    NaN         NaN       0      6    2010       WD         Normal     137900   2929  178.400000   \n",
       "2038    NaN    NaN         NaN       0     10    2009       WD         Normal     269500   2930  398.142857   \n",
       "\n",
       "         pricesf  \n",
       "0     132.270694  \n",
       "1     101.796407  \n",
       "2     107.824427  \n",
       "3      95.333668  \n",
       "4     115.473441  \n",
       "...          ...  \n",
       "2034  109.125344  \n",
       "2035  130.215827  \n",
       "2036   85.251046  \n",
       "2037  154.596413  \n",
       "2038   96.698959  \n",
       "\n",
       "[2039 rows x 83 columns]>"
      ]
     },
     "execution_count": 97,
     "metadata": {},
     "output_type": "execute_result"
    }
   ],
   "source": [
    "newtrain.describe"
   ]
  },
  {
   "cell_type": "code",
   "execution_count": 98,
   "metadata": {
    "scrolled": true
   },
   "outputs": [
    {
     "data": {
      "text/plain": [
       "<matplotlib.axes._subplots.AxesSubplot at 0x1c1d9ebfd0>"
      ]
     },
     "execution_count": 98,
     "metadata": {},
     "output_type": "execute_result"
    },
    {
     "data": {
      "image/png": "[encoded data removed]",
      "text/plain": [
       "<Figure size 432x288 with 1 Axes>"
      ]
     },
     "metadata": {
      "needs_background": "light"
     },
     "output_type": "display_data"
    }
   ],
   "source": [
    "newtrain.plot.scatter(y='saleprice', x='sfqual', s=None, c=None, marker=None, cmap=None, norm=None, vmin=None, vmax=None, alpha=None, \n",
    "linewidths=None, verts=None, edgecolors=None )"
   ]
  },
  {
   "cell_type": "code",
   "execution_count": 99,
   "metadata": {
    "scrolled": true
   },
   "outputs": [
    {
     "name": "stdout",
     "output_type": "stream",
     "text": [
      "                            OLS Regression Results                            \n",
      "==============================================================================\n",
      "Dep. Variable:              saleprice   R-squared:                       0.011\n",
      "Model:                            OLS   Adj. R-squared:                  0.010\n",
      "Method:                 Least Squares   F-statistic:                     22.59\n",
      "Date:                Thu, 24 Jan 2019   Prob (F-statistic):           2.15e-06\n",
      "Time:                        02:55:57   Log-Likelihood:                -25875.\n",
      "No. Observations:                2039   AIC:                         5.175e+04\n",
      "Df Residuals:                    2037   BIC:                         5.177e+04\n",
      "Df Model:                           1                                         \n",
      "Covariance Type:            nonrobust                                         \n",
      "==============================================================================\n",
      "                 coef    std err          t      P>|t|      [0.025      0.975]\n",
      "------------------------------------------------------------------------------\n",
      "Intercept   1.528e+05   5848.005     26.134      0.000    1.41e+05    1.64e+05\n",
      "sfqual       106.9749     22.508      4.753      0.000      62.834     151.115\n",
      "==============================================================================\n",
      "Omnibus:                      730.542   Durbin-Watson:                   1.972\n",
      "Prob(Omnibus):                  0.000   Jarque-Bera (JB):             3052.847\n",
      "Skew:                           1.699   Prob(JB):                         0.00\n",
      "Kurtosis:                       7.938   Cond. No.                         873.\n",
      "==============================================================================\n",
      "\n",
      "Warnings:\n",
      "[1] Standard Errors assume that the covariance matrix of the errors is correctly specified.\n",
      "Intercept    152833.021468\n",
      "sfqual          106.974861\n",
      "dtype: float64\n"
     ]
    }
   ],
   "source": [
    "#Run a simple model\n",
    "model_7 = smf.ols(formula='saleprice ~ sfqual' , data=newtrain).fit()  \n",
    "  \n",
    "print (model_7.summary())\n",
    "print (model_7.params)"
   ]
  },
  {
   "cell_type": "code",
   "execution_count": 100,
   "metadata": {
    "scrolled": true
   },
   "outputs": [
    {
     "data": {
      "text/plain": [
       "<matplotlib.axes._subplots.AxesSubplot at 0x1c2045a668>"
      ]
     },
     "execution_count": 100,
     "metadata": {},
     "output_type": "execute_result"
    },
    {
     "data": {
      "image/png": "[encoded data removed]",
      "text/plain": [
       "<Figure size 432x288 with 1 Axes>"
      ]
     },
     "metadata": {
      "needs_background": "light"
     },
     "output_type": "display_data"
    }
   ],
   "source": [
    "newtrain.plot.scatter(y='saleprice', x='pricesf', s=None, c=None, marker=None, cmap=None, norm=None, vmin=None, vmax=None, alpha=None, \n",
    "linewidths=None, verts=None, edgecolors=None )\n"
   ]
  },
  {
   "cell_type": "code",
   "execution_count": 101,
   "metadata": {
    "scrolled": true
   },
   "outputs": [
    {
     "name": "stdout",
     "output_type": "stream",
     "text": [
      "                            OLS Regression Results                            \n",
      "==============================================================================\n",
      "Dep. Variable:              saleprice   R-squared:                       0.385\n",
      "Model:                            OLS   Adj. R-squared:                  0.385\n",
      "Method:                 Least Squares   F-statistic:                     1274.\n",
      "Date:                Thu, 24 Jan 2019   Prob (F-statistic):          3.52e-217\n",
      "Time:                        02:55:57   Log-Likelihood:                -25391.\n",
      "No. Observations:                2039   AIC:                         5.079e+04\n",
      "Df Residuals:                    2037   BIC:                         5.080e+04\n",
      "Df Model:                           1                                         \n",
      "Covariance Type:            nonrobust                                         \n",
      "==============================================================================\n",
      "                 coef    std err          t      P>|t|      [0.025      0.975]\n",
      "------------------------------------------------------------------------------\n",
      "Intercept  -6039.9572   5372.169     -1.124      0.261   -1.66e+04    4495.560\n",
      "pricesf     1525.8375     42.744     35.697      0.000    1442.011    1609.664\n",
      "==============================================================================\n",
      "Omnibus:                      523.698   Durbin-Watson:                   2.015\n",
      "Prob(Omnibus):                  0.000   Jarque-Bera (JB):             2015.635\n",
      "Skew:                           1.211   Prob(JB):                         0.00\n",
      "Kurtosis:                       7.226   Cond. No.                         492.\n",
      "==============================================================================\n",
      "\n",
      "Warnings:\n",
      "[1] Standard Errors assume that the covariance matrix of the errors is correctly specified.\n",
      "Intercept   -6039.957194\n",
      "pricesf      1525.837541\n",
      "dtype: float64\n"
     ]
    }
   ],
   "source": [
    "#Run a simple model\n",
    "model_8 = smf.ols(formula='saleprice ~ pricesf' , data=newtrain).fit()  \n",
    "  \n",
    "print (model_8.summary())\n",
    "print (model_8.params)\n"
   ]
  },
  {
   "cell_type": "code",
   "execution_count": 102,
   "metadata": {
    "scrolled": true
   },
   "outputs": [],
   "source": [
    "newtrain_2 = train\n",
    "newtrain_2['totalsf'] = (newtrain_2['totalbsmtsf']+newtrain_2['grlivarea']+newtrain_2['garagearea'])\n",
    "newtrain_2.describe\n",
    "newtest_2 = test\n",
    "newtest_2['totalsf'] = (newtest_2['totalbsmtsf']+newtest_2['grlivarea']+newtest_2['garagearea'])"
   ]
  },
  {
   "cell_type": "code",
   "execution_count": 103,
   "metadata": {
    "scrolled": true
   },
   "outputs": [
    {
     "data": {
      "text/plain": [
       "<matplotlib.axes._subplots.AxesSubplot at 0x1c1e51e0b8>"
      ]
     },
     "execution_count": 103,
     "metadata": {},
     "output_type": "execute_result"
    },
    {
     "data": {
      "image/png": "[encoded data removed]",
      "text/plain": [
       "<Figure size 432x288 with 1 Axes>"
      ]
     },
     "metadata": {
      "needs_background": "light"
     },
     "output_type": "display_data"
    }
   ],
   "source": [
    "newtrain_2.plot.scatter(y='saleprice', x='totalsf', s=None, c=None, marker=None, cmap=None, norm=None, vmin=None, vmax=None, alpha=None, \n",
    "linewidths=None, verts=None, edgecolors=None )"
   ]
  },
  {
   "cell_type": "code",
   "execution_count": 104,
   "metadata": {
    "scrolled": true
   },
   "outputs": [
    {
     "name": "stdout",
     "output_type": "stream",
     "text": [
      "                            OLS Regression Results                            \n",
      "==============================================================================\n",
      "Dep. Variable:              saleprice   R-squared:                       0.672\n",
      "Model:                            OLS   Adj. R-squared:                  0.671\n",
      "Method:                 Least Squares   F-statistic:                     4164.\n",
      "Date:                Thu, 24 Jan 2019   Prob (F-statistic):               0.00\n",
      "Time:                        02:55:58   Log-Likelihood:                -24739.\n",
      "No. Observations:                2038   AIC:                         4.948e+04\n",
      "Df Residuals:                    2036   BIC:                         4.949e+04\n",
      "Df Model:                           1                                         \n",
      "Covariance Type:            nonrobust                                         \n",
      "==============================================================================\n",
      "                 coef    std err          t      P>|t|      [0.025      0.975]\n",
      "------------------------------------------------------------------------------\n",
      "Intercept   -2.88e+04   3378.915     -8.525      0.000   -3.54e+04   -2.22e+04\n",
      "totalsf       69.4573      1.076     64.531      0.000      67.346      71.568\n",
      "==============================================================================\n",
      "Omnibus:                     1193.609   Durbin-Watson:                   1.955\n",
      "Prob(Omnibus):                  0.000   Jarque-Bera (JB):           122424.684\n",
      "Skew:                          -1.835   Prob(JB):                         0.00\n",
      "Kurtosis:                      40.792   Cond. No.                     1.06e+04\n",
      "==============================================================================\n",
      "\n",
      "Warnings:\n",
      "[1] Standard Errors assume that the covariance matrix of the errors is correctly specified.\n",
      "[2] The condition number is large, 1.06e+04. This might indicate that there are\n",
      "strong multicollinearity or other numerical problems.\n"
     ]
    }
   ],
   "source": [
    "#Run a simple model\n",
    "model_9 = smf.ols(formula='saleprice ~ totalsf' , data=newtrain_2).fit()  \n",
    "  \n",
    "print (model_9.summary())"
   ]
  },
  {
   "cell_type": "code",
   "execution_count": 105,
   "metadata": {
    "scrolled": true
   },
   "outputs": [
    {
     "name": "stdout",
     "output_type": "stream",
     "text": [
      "0       94959.449424\n",
      "1      218518.097190\n",
      "2      220192.333610\n",
      "3      182354.590527\n",
      "4      160477.901311\n",
      "           ...      \n",
      "721    197087.871019\n",
      "722    321427.829114\n",
      "723    143512.305593\n",
      "724    201329.269949\n",
      "725    171639.477442\n",
      "Length: 726, dtype: float64\n",
      "     index    p_saleprice\n",
      "0        1   94959.449424\n",
      "1        4  218518.097190\n",
      "2        7  220192.333610\n",
      "3       11  182354.590527\n",
      "4       13  160477.901311\n",
      "..     ...            ...\n",
      "721   2912  197087.871019\n",
      "722   2914  321427.829114\n",
      "723   2919  143512.305593\n",
      "724   2923  201329.269949\n",
      "725   2924  171639.477442\n",
      "\n",
      "[726 rows x 2 columns]\n"
     ]
    }
   ],
   "source": [
    "#Convert the array predictions to a data frame then merge with the index for the test data to create your file\n",
    "test_predictions = model.predict(test)\n",
    "print(test_predictions)\n",
    "d = {'p_saleprice': test_predictions}\n",
    "df1 = test[['index']]\n",
    "df2=pd.DataFrame(data=d)\n",
    "your_file = pd.concat([df1,df2],axis = 1, join_axes=[df1.index])\n",
    "print(your_file)\n",
    "#Submit your file as csv using the following code to save on your computer\n",
    "#You will have to delete the first column in the csv file to submit to kaggle \n",
    "your_file.to_csv('LoganStrouse_predictions_model_1.csv') "
   ]
  },
  {
   "cell_type": "code",
   "execution_count": 106,
   "metadata": {
    "scrolled": true
   },
   "outputs": [
    {
     "name": "stdout",
     "output_type": "stream",
     "text": [
      "0       41204.818391\n",
      "1      265644.282461\n",
      "2      175868.496833\n",
      "3      265644.282461\n",
      "4      220756.389647\n",
      "           ...      \n",
      "721    220756.389647\n",
      "722    310532.175275\n",
      "723    220756.389647\n",
      "724    220756.389647\n",
      "725    130980.604019\n",
      "Length: 726, dtype: float64\n",
      "     index    p_saleprice\n",
      "0        1   94959.449424\n",
      "1        4  218518.097190\n",
      "2        7  220192.333610\n",
      "3       11  182354.590527\n",
      "4       13  160477.901311\n",
      "..     ...            ...\n",
      "721   2912  197087.871019\n",
      "722   2914  321427.829114\n",
      "723   2919  143512.305593\n",
      "724   2923  201329.269949\n",
      "725   2924  171639.477442\n",
      "\n",
      "[726 rows x 2 columns]\n"
     ]
    }
   ],
   "source": [
    "#Convert the array predictions to a data frame then merge with the index for the test data to create your file\n",
    "test_predictions_2 = model_2.predict(test)\n",
    "print(test_predictions_2)\n",
    "d_2 = {'p_saleprice': test_predictions_2}\n",
    "df3 = test[['index']]\n",
    "df4 = pd.DataFrame(data=d_2)\n",
    "your_file_2 = pd.concat([df3,df4],axis = 1, join_axes=[df3.index])\n",
    "print(your_file)\n",
    "#Submit your file as csv using the following code to save on your computer\n",
    "#You will have to delete the first column in the csv file to submit to kaggle \n",
    "your_file_2.to_csv('LoganStrouse_predictions_model_2.csv') "
   ]
  },
  {
   "cell_type": "code",
   "execution_count": 107,
   "metadata": {
    "scrolled": true
   },
   "outputs": [
    {
     "name": "stdout",
     "output_type": "stream",
     "text": [
      "0       21829.585716\n",
      "1      262151.686604\n",
      "2      187415.680663\n",
      "3      239925.365135\n",
      "4      184567.933225\n",
      "           ...      \n",
      "721    230340.264001\n",
      "722    337651.722346\n",
      "723    169565.166233\n",
      "724    215406.954264\n",
      "725    166231.218013\n",
      "Length: 726, dtype: float64\n",
      "     index    p_saleprice\n",
      "0        1   21829.585716\n",
      "1        4  262151.686604\n",
      "2        7  187415.680663\n",
      "3       11  239925.365135\n",
      "4       13  184567.933225\n",
      "..     ...            ...\n",
      "721   2912  230340.264001\n",
      "722   2914  337651.722346\n",
      "723   2919  169565.166233\n",
      "724   2923  215406.954264\n",
      "725   2924  166231.218013\n",
      "\n",
      "[726 rows x 2 columns]\n"
     ]
    }
   ],
   "source": [
    "#Convert the array predictions to a data frame then merge with the index for the test data to create your file\n",
    "test_predictions_3 = model_9.predict(newtest_2)\n",
    "print(test_predictions_3)\n",
    "d_2 = {'p_saleprice': test_predictions_3}\n",
    "df3 = test[['index']]\n",
    "df4 = pd.DataFrame(data=d_2)\n",
    "your_file_3 = pd.concat([df3,df4],axis = 1, join_axes=[df3.index])\n",
    "print(your_file_3)\n",
    "#Submit your file as csv using the following code to save on your computer\n",
    "#You will have to delete the first column in the csv file to submit to kaggle \n",
    "your_file_3.to_csv('LoganStrouse_predictions_model_3.csv') "
   ]
  }
 ],
 "metadata": {
  "kernelspec": {
   "display_name": "Python 3",
   "language": "python",
   "name": "python3"
  },
  "language_info": {
   "codemirror_mode": {
    "name": "ipython",
    "version": 3
   },
   "file_extension": ".py",
   "mimetype": "text/x-python",
   "name": "python",
   "nbconvert_exporter": "python",
   "pygments_lexer": "ipython3",
   "version": "3.7.1"
  }
 },
 "nbformat": 4,
 "nbformat_minor": 2
}
