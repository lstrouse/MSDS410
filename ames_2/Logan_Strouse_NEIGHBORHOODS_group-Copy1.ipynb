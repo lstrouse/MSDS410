{
 "cells": [
  {
   "cell_type": "code",
   "execution_count": 88,
   "metadata": {},
   "outputs": [],
   "source": [
    "import pandas as pd\n",
    "import numpy as np\n",
    "import statsmodels.formula.api as smf\n",
    "import matplotlib.pyplot as plt"
   ]
  },
  {
   "cell_type": "code",
   "execution_count": 89,
   "metadata": {},
   "outputs": [],
   "source": [
    "# import packages for this example\n",
    "import pandas as pd    \n",
    "from collections import OrderedDict  # to create DataFrame with ordered columns\n",
    "# special plotting methods\n",
    "from pandas.tools.plotting import scatter_matrix    \n",
    "import numpy as np  # arrays and math functions\n",
    "import matplotlib.pyplot as plt  # static plotting\n",
    "from sklearn import preprocessing\n",
    "from sklearn.cluster import KMeans\n",
    "from sklearn import metrics  # for silhouette coefficient"
   ]
  },
  {
   "cell_type": "code",
   "execution_count": 97,
   "metadata": {},
   "outputs": [],
   "source": [
    "train = pd.read_csv('AMES_TRAIN_2.csv')\n",
    "test = pd.read_csv('AMES_TEST_SFAM.csv')\n",
    "train.columns = [s.lower() for s in train.columns]\n",
    "test.columns = [s.lower() for s in test.columns]\n",
    "train['qualityindex'] = (train.overallqual*train.overallcond)\n",
    "train['totalsqftcalc'] = (train.grlivarea)\n",
    "train['pricesqfoot'] = (train['saleprice']/train['totalsqftcalc'])\n",
    "test['qualityindex'] = (test.overallqual*test.overallcond)\n",
    "test['totalsqftcalc'] = (test.bsmtfinsf1+test.bsmtfinsf2+test.grlivarea)\n",
    "test['pricesqfoot'] = (test['saleprice']/test['totalsqftcalc'])\n",
    "train=train.replace({'totalsqftcalc': {np.NaN : 10000}})\n",
    "train=train.replace({'lotarea': {np.NaN : 10000}})\n",
    "train=train.replace({'lotfrontage': {np.NaN : 10000}})\n",
    "test=test.replace({'totalsqftcalc': {np.NaN : 10000}})\n",
    "test=test.replace({'lotarea': {np.NaN : 10000}})\n",
    "test=test.replace({'lotfrontage': {np.NaN : 10000}})"
   ]
  },
  {
   "cell_type": "code",
   "execution_count": 98,
   "metadata": {},
   "outputs": [],
   "source": [
    "test['Neighborhood_Group'] = np.nan\n",
    "#added due to later work with Neighborhood groupings"
   ]
  },
  {
   "cell_type": "code",
   "execution_count": 99,
   "metadata": {},
   "outputs": [],
   "source": [
    "train = train[train['totalsqftcalc'] < 6000]\n",
    "train = train[train['saleprice'] <= 500000]\n",
    "train = train[train['lotarea'] <= 25000]"
   ]
  },
  {
   "cell_type": "code",
   "execution_count": 100,
   "metadata": {},
   "outputs": [],
   "source": [
    "variable_cluster_data =  train"
   ]
  },
  {
   "cell_type": "code",
   "execution_count": 101,
   "metadata": {},
   "outputs": [],
   "source": [
    "kmeans = KMeans(n_clusters = 3, n_init = 25, random_state = 1)\n",
    "kmeans.fit(variable_cluster_data)\n",
    "cluster = kmeans.predict(variable_cluster_data)"
   ]
  },
  {
   "cell_type": "code",
   "execution_count": 102,
   "metadata": {},
   "outputs": [],
   "source": [
    "variable_kmeans_solution = pd.DataFrame(OrderedDict([('cluster', cluster)]))"
   ]
  },
  {
   "cell_type": "code",
   "execution_count": 103,
   "metadata": {},
   "outputs": [
    {
     "name": "stdout",
     "output_type": "stream",
     "text": [
      "\n",
      "      cluster\n",
      "1           0\n",
      "2           0\n",
      "3           0\n",
      "4           0\n",
      "5           0\n",
      "7           0\n",
      "8           0\n",
      "9           0\n",
      "11          0\n",
      "14          0\n",
      "15          0\n",
      "16          0\n",
      "17          0\n",
      "18          0\n",
      "21          0\n",
      "22          0\n",
      "24          0\n",
      "29          0\n",
      "31          0\n",
      "37          0\n",
      "44          0\n",
      "45          0\n",
      "46          0\n",
      "53          0\n",
      "55          0\n",
      "56          0\n",
      "58          0\n",
      "63          0\n",
      "65          0\n",
      "68          0\n",
      "...       ...\n",
      "1523        0\n",
      "1525        0\n",
      "1526        0\n",
      "1527        0\n",
      "1528        0\n",
      "1529        0\n",
      "1530        0\n",
      "1533        0\n",
      "1535        0\n",
      "1538        0\n",
      "1539        0\n",
      "1540        0\n",
      "1543        0\n",
      "1545        0\n",
      "1547        0\n",
      "1548        0\n",
      "1550        0\n",
      "1552        0\n",
      "1553        0\n",
      "1558        0\n",
      "1559        0\n",
      "1560        0\n",
      "1562        0\n",
      "1563        0\n",
      "1565        0\n",
      "1566        0\n",
      "1568        0\n",
      "1569        0\n",
      "1570        0\n",
      "1571        0\n",
      "\n",
      "[857 rows x 1 columns]\n",
      "\n",
      "      cluster\n",
      "0           1\n",
      "6           1\n",
      "10          1\n",
      "13          1\n",
      "19          1\n",
      "20          1\n",
      "26          1\n",
      "27          1\n",
      "28          1\n",
      "30          1\n",
      "33          1\n",
      "34          1\n",
      "35          1\n",
      "36          1\n",
      "39          1\n",
      "43          1\n",
      "47          1\n",
      "48          1\n",
      "49          1\n",
      "51          1\n",
      "52          1\n",
      "54          1\n",
      "57          1\n",
      "60          1\n",
      "61          1\n",
      "62          1\n",
      "64          1\n",
      "66          1\n",
      "67          1\n",
      "79          1\n",
      "...       ...\n",
      "1487        1\n",
      "1491        1\n",
      "1496        1\n",
      "1499        1\n",
      "1500        1\n",
      "1504        1\n",
      "1505        1\n",
      "1507        1\n",
      "1509        1\n",
      "1511        1\n",
      "1513        1\n",
      "1514        1\n",
      "1516        1\n",
      "1518        1\n",
      "1520        1\n",
      "1521        1\n",
      "1522        1\n",
      "1524        1\n",
      "1532        1\n",
      "1536        1\n",
      "1537        1\n",
      "1541        1\n",
      "1542        1\n",
      "1549        1\n",
      "1551        1\n",
      "1554        1\n",
      "1555        1\n",
      "1557        1\n",
      "1561        1\n",
      "1564        1\n",
      "\n",
      "[540 rows x 1 columns]\n",
      "\n",
      "      cluster\n",
      "12          2\n",
      "23          2\n",
      "25          2\n",
      "32          2\n",
      "38          2\n",
      "40          2\n",
      "41          2\n",
      "42          2\n",
      "50          2\n",
      "59          2\n",
      "73          2\n",
      "86          2\n",
      "90          2\n",
      "106         2\n",
      "121         2\n",
      "135         2\n",
      "142         2\n",
      "154         2\n",
      "158         2\n",
      "159         2\n",
      "161         2\n",
      "168         2\n",
      "192         2\n",
      "193         2\n",
      "201         2\n",
      "205         2\n",
      "212         2\n",
      "216         2\n",
      "235         2\n",
      "240         2\n",
      "...       ...\n",
      "1311        2\n",
      "1321        2\n",
      "1327        2\n",
      "1335        2\n",
      "1336        2\n",
      "1337        2\n",
      "1353        2\n",
      "1358        2\n",
      "1384        2\n",
      "1392        2\n",
      "1400        2\n",
      "1401        2\n",
      "1402        2\n",
      "1405        2\n",
      "1426        2\n",
      "1431        2\n",
      "1446        2\n",
      "1455        2\n",
      "1467        2\n",
      "1470        2\n",
      "1473        2\n",
      "1478        2\n",
      "1479        2\n",
      "1494        2\n",
      "1531        2\n",
      "1534        2\n",
      "1544        2\n",
      "1546        2\n",
      "1556        2\n",
      "1567        2\n",
      "\n",
      "[175 rows x 1 columns]\n"
     ]
    }
   ],
   "source": [
    "for cluster_id in sorted(variable_kmeans_solution.cluster.unique()):\n",
    "    print()\n",
    "    print(variable_kmeans_solution.loc[variable_kmeans_solution['cluster'] == \\\n",
    "        cluster_id])"
   ]
  },
  {
   "cell_type": "code",
   "execution_count": 104,
   "metadata": {},
   "outputs": [
    {
     "name": "stdout",
     "output_type": "stream",
     "text": [
      "Silhouette coefficient for the five-cluster k-means solution:  0.5653350173942199\n"
     ]
    }
   ],
   "source": [
    "print('Silhouette coefficient for the five-cluster k-means solution: ', \n",
    "    metrics.silhouette_score(variable_cluster_data, cluster, \n",
    "        metric = 'euclidean'))"
   ]
  },
  {
   "cell_type": "code",
   "execution_count": 105,
   "metadata": {},
   "outputs": [],
   "source": [
    "student_cluster_data =  train"
   ]
  },
  {
   "cell_type": "code",
   "execution_count": 106,
   "metadata": {},
   "outputs": [
    {
     "name": "stdout",
     "output_type": "stream",
     "text": [
      "nclusters:  2  silhouette coefficient:  0.6529811188846508\n",
      "nclusters:  3  silhouette coefficient:  0.5653350173942199\n",
      "nclusters:  4  silhouette coefficient:  0.5360669172683565\n",
      "nclusters:  5  silhouette coefficient:  0.5121257545947284\n",
      "nclusters:  6  silhouette coefficient:  0.5099165923562458\n",
      "nclusters:  7  silhouette coefficient:  0.5014681416763735\n",
      "nclusters:  8  silhouette coefficient:  0.4977328369438308\n",
      "nclusters:  9  silhouette coefficient:  0.4938825434775249\n",
      "nclusters:  10  silhouette coefficient:  0.47982134341520194\n",
      "nclusters:  11  silhouette coefficient:  0.48713456943595557\n",
      "nclusters:  12  silhouette coefficient:  0.47894104699387574\n",
      "nclusters:  13  silhouette coefficient:  0.46685693779511916\n",
      "nclusters:  14  silhouette coefficient:  0.46813445648337604\n",
      "nclusters:  15  silhouette coefficient:  0.4618045362281731\n",
      "nclusters:  16  silhouette coefficient:  0.46237140826243583\n",
      "nclusters:  17  silhouette coefficient:  0.464628383645208\n",
      "nclusters:  18  silhouette coefficient:  0.4536819761913641\n",
      "nclusters:  19  silhouette coefficient:  0.44002870277062517\n",
      "nclusters:  20  silhouette coefficient:  0.4164298358932005\n"
     ]
    }
   ],
   "source": [
    "for nclusters in range(2,21): # search between 2 and 20 clusters/segments\n",
    "    kmeans = KMeans(n_clusters = nclusters, n_init = 25, random_state = 1)\n",
    "    kmeans.fit(student_cluster_data)\n",
    "    segment = kmeans.predict(student_cluster_data)  # cluster ids for variables\n",
    "    print('nclusters: ', nclusters, ' silhouette coefficient: ', \n",
    "        metrics.silhouette_score(student_cluster_data, segment, \n",
    "            metric='euclidean'))"
   ]
  },
  {
   "cell_type": "code",
   "execution_count": 107,
   "metadata": {},
   "outputs": [
    {
     "name": "stdout",
     "output_type": "stream",
     "text": [
      "\n",
      "----- Solution for Two Student Segments -----\n",
      "\n"
     ]
    }
   ],
   "source": [
    "print('')\n",
    "print('----- Solution for Two Student Segments -----')\n",
    "print('')\n",
    "kmeans = KMeans(n_clusters = 2, n_init = 25, random_state = 1)\n",
    "kmeans.fit(student_cluster_data)\n",
    "segment = kmeans.predict(student_cluster_data)  # cluster index"
   ]
  },
  {
   "cell_type": "code",
   "execution_count": 108,
   "metadata": {},
   "outputs": [],
   "source": [
    "student_kmeans_solution = pd.DataFrame(OrderedDict(\n",
    "    [('student', range(0,len(student_cluster_data))),\n",
    "    ('segment', segment)]))"
   ]
  },
  {
   "cell_type": "code",
   "execution_count": 109,
   "metadata": {},
   "outputs": [],
   "source": [
    "student_segmentation_data = student_kmeans_solution.join(train)"
   ]
  },
  {
   "cell_type": "code",
   "execution_count": 110,
   "metadata": {},
   "outputs": [],
   "source": [
    "centers = kmeans.cluster_centers_\n",
    "centers=centers.T\n",
    "# turn centers into a df so we can plot the results \n",
    "d1 = pd.DataFrame({'zero': centers[:,0]})\n",
    "d2 = pd.DataFrame({'one': centers[:,1]})\n",
    "d = d1.join(d2) #column zero and one will be the two groups"
   ]
  },
  {
   "cell_type": "code",
   "execution_count": 111,
   "metadata": {},
   "outputs": [],
   "source": [
    "def qhist(dataframe,var1 ):     \n",
    "    dataframe[var1].hist(facecolor='b',bins=range(2,8,1))     \n",
    "    plt.title('Histogram of '+var1)     \n",
    "    plt.xlabel(var1)     \n",
    "    plt.ylabel('Frequency')"
   ]
  },
  {
   "cell_type": "code",
   "execution_count": 112,
   "metadata": {},
   "outputs": [
    {
     "data": {
      "image/png": "[encoded data removed]",
      "text/plain": [
       "<Figure size 432x288 with 1 Axes>"
      ]
     },
     "metadata": {
      "needs_background": "light"
     },
     "output_type": "display_data"
    }
   ],
   "source": [
    "qhist(d,'zero')"
   ]
  },
  {
   "cell_type": "code",
   "execution_count": 113,
   "metadata": {},
   "outputs": [
    {
     "data": {
      "image/png": "[encoded data removed]",
      "text/plain": [
       "<Figure size 432x288 with 1 Axes>"
      ]
     },
     "metadata": {
      "needs_background": "light"
     },
     "output_type": "display_data"
    }
   ],
   "source": [
    "qhist(d,'one')"
   ]
  },
  {
   "cell_type": "code",
   "execution_count": 114,
   "metadata": {},
   "outputs": [
    {
     "data": {
      "image/png": "[encoded data removed]",
      "text/plain": [
       "<Figure size 432x288 with 1 Axes>"
      ]
     },
     "metadata": {
      "needs_background": "light"
     },
     "output_type": "display_data"
    }
   ],
   "source": [
    "from sklearn.datasets.samples_generator import make_blobs\n",
    "X,y_true = make_blobs(n_samples=300,centers=4,cluster_std=.60,random_state=0)\n",
    "plt.scatter(X[:, 0],X[:, 1], s=50);  \n",
    " \n",
    "from sklearn.cluster import KMeans\n",
    "kmeans = KMeans(n_clusters=4)\n",
    "kmeans.fit(X) \n",
    "y_kmeans = kmeans.predict(X)\n"
   ]
  },
  {
   "cell_type": "code",
   "execution_count": 115,
   "metadata": {},
   "outputs": [
    {
     "data": {
      "image/png": "[encoded data removed]",
      "text/plain": [
       "<Figure size 432x288 with 1 Axes>"
      ]
     },
     "metadata": {
      "needs_background": "light"
     },
     "output_type": "display_data"
    }
   ],
   "source": [
    "centers = kmeans.cluster_centers_\n",
    "plt.scatter(X[:,0],X[:,1], c = y_kmeans, s=50, cmap = 'viridis') \n",
    "plt.scatter(centers[:,0],centers[:,1], c='black',s=200,alpha=0.5);"
   ]
  },
  {
   "cell_type": "code",
   "execution_count": null,
   "metadata": {},
   "outputs": [],
   "source": [
    "model1 = smf.ols(formula='saleprice ~ qualityindex+totalsqftcalc+C(lotconfig)+C(neighborhood)+C(housestyle)+yearbuilt+C(roofstyle)+C(heating)', data=train).fit()\n",
    "model1.summary()"
   ]
  },
  {
   "cell_type": "code",
   "execution_count": null,
   "metadata": {},
   "outputs": [],
   "source": [
    "predictions_1 = model1.fittedvalues\n",
    "predictions_1.head()"
   ]
  },
  {
   "cell_type": "code",
   "execution_count": null,
   "metadata": {},
   "outputs": [],
   "source": [
    "test_predictions_1 = model1.predict(test)\n",
    "d = {'p_saleprice': test_predictions_1}\n",
    "df1 = test[['index']]\n",
    "df2=pd.DataFrame(data=d)\n",
    "Strouse_TestPredictions_1 = pd.concat([df1,df2],axis = 1, join_axes=[df1.index])\n",
    "Strouse_TestPredictions_1.head()"
   ]
  },
  {
   "cell_type": "code",
   "execution_count": null,
   "metadata": {},
   "outputs": [],
   "source": [
    "Strouse_TestPredictions_1.to_csv('logan_strouse_HW2_MODEL_1_NBGROUP.csv')"
   ]
  }
 ],
 "metadata": {
  "kernelspec": {
   "display_name": "Python 3",
   "language": "python",
   "name": "python3"
  },
  "language_info": {
   "codemirror_mode": {
    "name": "ipython",
    "version": 3
   },
   "file_extension": ".py",
   "mimetype": "text/x-python",
   "name": "python",
   "nbconvert_exporter": "python",
   "pygments_lexer": "ipython3",
   "version": "3.7.1"
  }
 },
 "nbformat": 4,
 "nbformat_minor": 2
}
