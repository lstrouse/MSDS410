{
 "cells": [
  {
   "cell_type": "code",
   "execution_count": 2,
   "metadata": {},
   "outputs": [],
   "source": [
    "import pandas as pd\n",
    "import numpy as np\n",
    "import statsmodels.formula.api as smf\n",
    "import matplotlib.pyplot as plt"
   ]
  },
  {
   "cell_type": "code",
   "execution_count": 3,
   "metadata": {},
   "outputs": [],
   "source": [
    "import pandas as pd      \n",
    "import numpy as np   \n",
    "import matplotlib.pyplot as plt   \n",
    "from sklearn.decomposition import PCA, FactorAnalysis\n",
    "import statsmodels.formula.api as smf"
   ]
  },
  {
   "cell_type": "code",
   "execution_count": 4,
   "metadata": {},
   "outputs": [],
   "source": [
    "train = pd.read_csv('AMES_TRAIN.csv')\n",
    "test = pd.read_csv('AMES_TEST_SFAM.csv')\n",
    "train.columns = [s.lower() for s in train.columns]\n",
    "test.columns = [s.lower() for s in test.columns]\n",
    "train['qualityindex'] = (train.overallqual*train.overallcond)\n",
    "train['totalsqftcalc'] = (train.bsmtfinsf1+train.bsmtfinsf2+train.grlivarea)\n",
    "train['pricesqfoot'] = (train['saleprice']/train['totalsqftcalc'])\n",
    "test['qualityindex'] = (test.overallqual*test.overallcond)\n",
    "test['totalsqftcalc'] = (test.bsmtfinsf1+test.bsmtfinsf2+test.grlivarea)\n",
    "test['pricesqfoot'] = (test['saleprice']/test['totalsqftcalc'])\n",
    "train=train.replace({'totalsqftcalc': {np.NaN : 10000}})\n",
    "train=train.replace({'lotarea': {np.NaN : 10000}})\n",
    "train=train.replace({'lotfrontage': {np.NaN : 10000}})\n",
    "test=test.replace({'totalsqftcalc': {np.NaN : 10000}})\n",
    "test=test.replace({'lotarea': {np.NaN : 10000}})\n",
    "test=test.replace({'lotfrontage': {np.NaN : 10000}})"
   ]
  },
  {
   "cell_type": "code",
   "execution_count": 5,
   "metadata": {},
   "outputs": [],
   "source": [
    "test['Neighborhood_Group'] = np.nan\n",
    "#added due to later work with Neighborhood groupings"
   ]
  },
  {
   "cell_type": "code",
   "execution_count": 6,
   "metadata": {},
   "outputs": [],
   "source": [
    "train = train[train['totalsqftcalc'] < 6000]\n",
    "train = train[train['salecondition'] == 'Normal']\n",
    "train = train[train['saleprice'] <= 500000]\n",
    "train = train[train['lotarea'] <= 25000]\n",
    "train = train[train['zoning'] != 'I']\n",
    "train = train[train['zoning'] != 'C']\n",
    "train = train[train['zoning'] != 'A']"
   ]
  },
  {
   "cell_type": "code",
   "execution_count": 7,
   "metadata": {},
   "outputs": [
    {
     "data": {
      "text/html": [
       "<div>\n",
       "<style scoped>\n",
       "    .dataframe tbody tr th:only-of-type {\n",
       "        vertical-align: middle;\n",
       "    }\n",
       "\n",
       "    .dataframe tbody tr th {\n",
       "        vertical-align: top;\n",
       "    }\n",
       "\n",
       "    .dataframe thead th {\n",
       "        text-align: right;\n",
       "    }\n",
       "</style>\n",
       "<table border=\"1\" class=\"dataframe\">\n",
       "  <thead>\n",
       "    <tr style=\"text-align: right;\">\n",
       "      <th></th>\n",
       "      <th>saleprice</th>\n",
       "      <th>qualityindex</th>\n",
       "      <th>totalsqftcalc</th>\n",
       "      <th>yearbuilt</th>\n",
       "      <th>lotarea</th>\n",
       "      <th>lotfrontage</th>\n",
       "    </tr>\n",
       "  </thead>\n",
       "  <tbody>\n",
       "    <tr>\n",
       "      <th>saleprice</th>\n",
       "      <td>1.000000</td>\n",
       "      <td>0.540376</td>\n",
       "      <td>0.792214</td>\n",
       "      <td>0.547300</td>\n",
       "      <td>0.395148</td>\n",
       "      <td>0.084242</td>\n",
       "    </tr>\n",
       "    <tr>\n",
       "      <th>qualityindex</th>\n",
       "      <td>0.540376</td>\n",
       "      <td>1.000000</td>\n",
       "      <td>0.346798</td>\n",
       "      <td>0.092073</td>\n",
       "      <td>0.119472</td>\n",
       "      <td>0.048181</td>\n",
       "    </tr>\n",
       "    <tr>\n",
       "      <th>totalsqftcalc</th>\n",
       "      <td>0.792214</td>\n",
       "      <td>0.346798</td>\n",
       "      <td>1.000000</td>\n",
       "      <td>0.358158</td>\n",
       "      <td>0.376621</td>\n",
       "      <td>0.125655</td>\n",
       "    </tr>\n",
       "    <tr>\n",
       "      <th>yearbuilt</th>\n",
       "      <td>0.547300</td>\n",
       "      <td>0.092073</td>\n",
       "      <td>0.358158</td>\n",
       "      <td>1.000000</td>\n",
       "      <td>0.056350</td>\n",
       "      <td>0.115568</td>\n",
       "    </tr>\n",
       "    <tr>\n",
       "      <th>lotarea</th>\n",
       "      <td>0.395148</td>\n",
       "      <td>0.119472</td>\n",
       "      <td>0.376621</td>\n",
       "      <td>0.056350</td>\n",
       "      <td>1.000000</td>\n",
       "      <td>0.156123</td>\n",
       "    </tr>\n",
       "    <tr>\n",
       "      <th>lotfrontage</th>\n",
       "      <td>0.084242</td>\n",
       "      <td>0.048181</td>\n",
       "      <td>0.125655</td>\n",
       "      <td>0.115568</td>\n",
       "      <td>0.156123</td>\n",
       "      <td>1.000000</td>\n",
       "    </tr>\n",
       "  </tbody>\n",
       "</table>\n",
       "</div>"
      ],
      "text/plain": [
       "               saleprice  qualityindex  totalsqftcalc  yearbuilt   lotarea  \\\n",
       "saleprice       1.000000      0.540376       0.792214   0.547300  0.395148   \n",
       "qualityindex    0.540376      1.000000       0.346798   0.092073  0.119472   \n",
       "totalsqftcalc   0.792214      0.346798       1.000000   0.358158  0.376621   \n",
       "yearbuilt       0.547300      0.092073       0.358158   1.000000  0.056350   \n",
       "lotarea         0.395148      0.119472       0.376621   0.056350  1.000000   \n",
       "lotfrontage     0.084242      0.048181       0.125655   0.115568  0.156123   \n",
       "\n",
       "               lotfrontage  \n",
       "saleprice         0.084242  \n",
       "qualityindex      0.048181  \n",
       "totalsqftcalc     0.125655  \n",
       "yearbuilt         0.115568  \n",
       "lotarea           0.156123  \n",
       "lotfrontage       1.000000  "
      ]
     },
     "execution_count": 7,
     "metadata": {},
     "output_type": "execute_result"
    }
   ],
   "source": [
    "X = train[['saleprice','qualityindex','totalsqftcalc','yearbuilt','lotarea','lotfrontage']].copy()\n",
    "X1 = train[['qualityindex','totalsqftcalc','yearbuilt','lotarea','lotfrontage']].copy()\n",
    "corr = X[X.columns].corr()\n",
    "corr"
   ]
  },
  {
   "cell_type": "code",
   "execution_count": 8,
   "metadata": {},
   "outputs": [
    {
     "name": "stdout",
     "output_type": "stream",
     "text": [
      "               saleprice  qualityindex  totalsqftcalc  yearbuilt   lotarea  \\\n",
      "saleprice       1.000000      0.540376       0.792214   0.547300  0.395148   \n",
      "qualityindex    0.540376      1.000000       0.346798   0.092073  0.119472   \n",
      "totalsqftcalc   0.792214      0.346798       1.000000   0.358158  0.376621   \n",
      "yearbuilt       0.547300      0.092073       0.358158   1.000000  0.056350   \n",
      "lotarea         0.395148      0.119472       0.376621   0.056350  1.000000   \n",
      "lotfrontage     0.084242      0.048181       0.125655   0.115568  0.156123   \n",
      "\n",
      "               lotfrontage  \n",
      "saleprice         0.084242  \n",
      "qualityindex      0.048181  \n",
      "totalsqftcalc     0.125655  \n",
      "yearbuilt         0.115568  \n",
      "lotarea           0.156123  \n",
      "lotfrontage       1.000000  \n"
     ]
    }
   ],
   "source": [
    "cdata = train.loc[:,['saleprice','qualityindex','totalsqftcalc','yearbuilt','lotarea','lotfrontage']] \n",
    "corr = cdata[cdata.columns].corr()\n",
    "print(corr)"
   ]
  },
  {
   "cell_type": "code",
   "execution_count": 1,
   "metadata": {},
   "outputs": [
    {
     "ename": "NameError",
     "evalue": "name 'train' is not defined",
     "output_type": "error",
     "traceback": [
      "\u001b[0;31m---------------------------------------------------------------------------\u001b[0m",
      "\u001b[0;31mNameError\u001b[0m                                 Traceback (most recent call last)",
      "\u001b[0;32m<ipython-input-1-5f88321f0f9c>\u001b[0m in \u001b[0;36m<module>\u001b[0;34m\u001b[0m\n\u001b[0;32m----> 1\u001b[0;31m \u001b[0mpca_data\u001b[0m \u001b[0;34m=\u001b[0m \u001b[0mtrain\u001b[0m\u001b[0;34m.\u001b[0m\u001b[0mloc\u001b[0m\u001b[0;34m[\u001b[0m\u001b[0;34m:\u001b[0m\u001b[0;34m,\u001b[0m\u001b[0;34m[\u001b[0m\u001b[0;34m'saleprice'\u001b[0m\u001b[0;34m,\u001b[0m\u001b[0;34m'qualityindex'\u001b[0m\u001b[0;34m,\u001b[0m\u001b[0;34m'totalsqftcalc'\u001b[0m\u001b[0;34m,\u001b[0m\u001b[0;34m'yearbuilt'\u001b[0m\u001b[0;34m,\u001b[0m\u001b[0;34m'lotarea'\u001b[0m\u001b[0;34m,\u001b[0m\u001b[0;34m'lotfrontage'\u001b[0m\u001b[0;34m]\u001b[0m\u001b[0;34m]\u001b[0m\u001b[0;34m\u001b[0m\u001b[0;34m\u001b[0m\u001b[0m\n\u001b[0m\u001b[1;32m      2\u001b[0m \u001b[0mpca\u001b[0m \u001b[0;34m=\u001b[0m \u001b[0mPCA\u001b[0m\u001b[0;34m(\u001b[0m\u001b[0;34m)\u001b[0m\u001b[0;34m\u001b[0m\u001b[0;34m\u001b[0m\u001b[0m\n\u001b[1;32m      3\u001b[0m \u001b[0mP\u001b[0m \u001b[0;34m=\u001b[0m \u001b[0mpca\u001b[0m\u001b[0;34m.\u001b[0m\u001b[0mfit\u001b[0m\u001b[0;34m(\u001b[0m\u001b[0mpca_data\u001b[0m\u001b[0;34m)\u001b[0m\u001b[0;34m\u001b[0m\u001b[0;34m\u001b[0m\u001b[0m\n",
      "\u001b[0;31mNameError\u001b[0m: name 'train' is not defined"
     ]
    }
   ],
   "source": [
    "pca_data = train.loc[:,['saleprice','qualityindex','totalsqftcalc','yearbuilt','lotarea','lotfrontage']] \n",
    "pca = PCA()\n",
    "P = pca.fit(pca_data)"
   ]
  },
  {
   "cell_type": "code",
   "execution_count": 20,
   "metadata": {},
   "outputs": [
    {
     "data": {
      "text/plain": [
       "array([[[ 1.   ,  0.   ,  0.008,  0.   ,  0.022,  0.005],\n",
       "        [-0.014, -0.   ,  0.013, -0.   ,  0.43 ,  0.903],\n",
       "        [-0.018, -0.   ,  0.007, -0.002,  0.903, -0.43 ],\n",
       "        [ 0.008,  0.003, -1.   ,  0.008,  0.013,  0.009],\n",
       "        [ 0.   ,  0.12 , -0.008, -0.993, -0.001,  0.001],\n",
       "        [-0.   ,  0.993,  0.004,  0.12 ,  0.   , -0.   ]]])"
      ]
     },
     "execution_count": 20,
     "metadata": {},
     "output_type": "execute_result"
    }
   ],
   "source": [
    "np.set_printoptions(threshold=np.inf) \n",
    "np.around([pca.components_], decimals=3)"
   ]
  },
  {
   "cell_type": "code",
   "execution_count": 21,
   "metadata": {},
   "outputs": [
    {
     "name": "stdout",
     "output_type": "stream",
     "text": [
      "Proportion of variance explained: [9.94154672e-01 3.40303758e-03 2.40505412e-03 3.70954945e-05\n",
      " 1.30235642e-07 1.07148861e-08]\n"
     ]
    }
   ],
   "source": [
    "pca_explained_variance = pca.explained_variance_ratio_\n",
    "print('Proportion of variance explained:', pca_explained_variance)"
   ]
  },
  {
   "cell_type": "code",
   "execution_count": 22,
   "metadata": {},
   "outputs": [
    {
     "data": {
      "text/plain": [
       "array([[2.614, 0.12 , 0.457, 1.031, 0.83 , 0.948]])"
      ]
     },
     "execution_count": 22,
     "metadata": {},
     "output_type": "execute_result"
    }
   ],
   "source": [
    "pca_data_cormat = np.corrcoef(pca_data.T)\n",
    "eigenvalues, eigenvectors = np.linalg.eig(pca_data_cormat)\n",
    "np.around([eigenvalues], decimals=3)"
   ]
  },
  {
   "cell_type": "code",
   "execution_count": 23,
   "metadata": {},
   "outputs": [
    {
     "name": "stdout",
     "output_type": "stream",
     "text": [
      "Linear algebra demonstration: Proportion of variance explained:  [0.43574026 0.01994941 0.07612304 0.17182015 0.13829489 0.15807225]\n"
     ]
    },
    {
     "data": {
      "text/plain": [
       "array([[[ 0.586,  0.792,  0.059, -0.155, -0.027,  0.025],\n",
       "        [ 0.358, -0.266, -0.346, -0.316,  0.665, -0.374],\n",
       "        [ 0.529, -0.451,  0.704, -0.025, -0.136, -0.045],\n",
       "        [ 0.357, -0.282, -0.436, -0.105, -0.159,  0.753],\n",
       "        [ 0.319, -0.119, -0.431,  0.441, -0.511, -0.492],\n",
       "        [ 0.139,  0.061,  0.075,  0.819,  0.502,  0.221]]])"
      ]
     },
     "execution_count": 23,
     "metadata": {},
     "output_type": "execute_result"
    }
   ],
   "source": [
    "print('Linear algebra demonstration: Proportion of variance explained: ',\n",
    "    eigenvalues/eigenvalues.sum())\n",
    "np.around([eigenvectors], decimals=3)"
   ]
  },
  {
   "cell_type": "code",
   "execution_count": 24,
   "metadata": {},
   "outputs": [
    {
     "data": {
      "image/png": "[encoded data removed]",
      "text/plain": [
       "<Figure size 432x288 with 1 Axes>"
      ]
     },
     "metadata": {
      "needs_background": "light"
     },
     "output_type": "display_data"
    }
   ],
   "source": [
    "plt.bar(np.arange(len(pca_explained_variance)), pca_explained_variance, \n",
    "    color = 'dodgerblue', alpha = 0.8, align = 'center')\n",
    "plt.title('PCA Proportion of Total Variance')\n",
    "plt.show()"
   ]
  },
  {
   "cell_type": "code",
   "execution_count": 25,
   "metadata": {},
   "outputs": [
    {
     "name": "stdout",
     "output_type": "stream",
     "text": [
      "   eigenvalues  0\n",
      "0     2.614442  1\n",
      "1     0.119696  2\n",
      "2     0.456738  3\n",
      "3     1.030921  4\n",
      "4     0.829769  5\n",
      "5     0.948434  6\n",
      "6          NaN  7\n",
      "7          NaN  8\n",
      "8          NaN  9\n"
     ]
    },
    {
     "data": {
      "image/png": "[encoded data removed]",
      "text/plain": [
       "<Figure size 432x288 with 1 Axes>"
      ]
     },
     "metadata": {
      "needs_background": "light"
     },
     "output_type": "display_data"
    }
   ],
   "source": [
    "d = {'eigenvalues': eigenvalues }\n",
    "df1 = pd.DataFrame(data=d)\n",
    "df2 =pd.Series([1,2,3,4,5,6,7,8,9])\n",
    "#df2 = {'factors': factors}\n",
    "# merge eigenvalues with # of factors\n",
    "result = pd.concat([df1, df2], axis=1, join_axes=[df2.index])\n",
    "print (result)\n",
    "\n",
    "def scat(dataframe,var1,var2):\n",
    "    dataframe[var2].plot()     \n",
    "    plt.title('Scree Plot')\n",
    "    plt.xlabel('# of factors')\n",
    "    plt.ylabel('Eigenvalues')\n",
    "    \n",
    "scat(result,'0','eigenvalues')\n",
    "#retain two factors\n",
    "plt.show()"
   ]
  },
  {
   "cell_type": "code",
   "execution_count": 26,
   "metadata": {},
   "outputs": [],
   "source": [
    "pca_loadings = pca.components_.T"
   ]
  },
  {
   "cell_type": "code",
   "execution_count": 27,
   "metadata": {},
   "outputs": [
    {
     "name": "stdout",
     "output_type": "stream",
     "text": [
      "[[ 1.000 -0.014 -0.018]\n",
      " [ 0.000 -0.000 -0.000]\n",
      " [ 0.008  0.013  0.007]\n",
      " [ 0.000 -0.000 -0.002]\n",
      " [ 0.022  0.430  0.903]\n",
      " [ 0.005  0.903 -0.430]]\n"
     ]
    }
   ],
   "source": [
    "np.set_printoptions(precision = 3, suppress = True,\n",
    "    formatter={'float': '{: 0.3f}'.format})\n",
    "print(pca_loadings[:,0:3])"
   ]
  },
  {
   "cell_type": "code",
   "execution_count": 28,
   "metadata": {},
   "outputs": [],
   "source": [
    "C = pca.transform(pca_data)"
   ]
  },
  {
   "cell_type": "code",
   "execution_count": 29,
   "metadata": {},
   "outputs": [],
   "source": [
    "pca_data['pca1'] = C[:,0]\n",
    "pca_data['pca2'] = C[:,1]\n",
    "pca_data['pca3'] = C[:,2]"
   ]
  },
  {
   "cell_type": "code",
   "execution_count": 30,
   "metadata": {},
   "outputs": [
    {
     "name": "stdout",
     "output_type": "stream",
     "text": [
      "      subclass zoning  lotfrontage  lotarea street alley lotshape landcontour  \\\n",
      "0           20     RL      10000.0    11838   Pave   NaN      Reg         Lvl   \n",
      "1           60     RL         70.0     8304   Pave   NaN      IR1         Lvl   \n",
      "2           45     RM         58.0     6380   Pave   NaN      Reg         Lvl   \n",
      "3           60     RL      10000.0    14803   Pave   NaN      IR1         Lvl   \n",
      "4           20     RL         91.0    11375   Pave   NaN      Reg         Lvl   \n",
      "5           30     RL         55.0     7111   Pave   NaN      IR1         Bnk   \n",
      "6           70     RM         60.0    11340   Pave   NaN      Reg         Lvl   \n",
      "9          160     RL         24.0     2308   Pave   NaN      Reg         Lvl   \n",
      "10          80     RL         62.0     7706   Pave   NaN      Reg         Lvl   \n",
      "11          50     RM         50.0     5000   Pave   NaN      Reg         Lvl   \n",
      "12          70     RL        144.0    21384   Pave   NaN      Reg         Lvl   \n",
      "13         160     RM         21.0     2058   Pave   NaN      Reg         Lvl   \n",
      "14          60     RL         92.0    10120   Pave   NaN      Reg         Lvl   \n",
      "15          80     RL      10000.0     7176   Pave   NaN      IR1         Lvl   \n",
      "16          20     RL         63.0     7500   Pave   NaN      Reg         Lvl   \n",
      "18          20     RM         52.0     8626   Pave   NaN      Reg         Lvl   \n",
      "19          40     RL         55.0     6854   Pave   NaN      Reg         Bnk   \n",
      "20         190     RL         75.0    11625   Pave   NaN      Reg         Lvl   \n",
      "21          30     RM         50.0     6000   Pave   NaN      Reg         HLS   \n",
      "22         180     RM         21.0     1596   Pave   NaN      Reg         Lvl   \n",
      "23          60     RL      10000.0     8658   Pave   NaN      IR1         Lvl   \n",
      "24          70     RM         47.0     7755   Pave   NaN      Reg         Lvl   \n",
      "25          80     RL         73.0     9590   Pave   NaN      IR1         Lvl   \n",
      "26          20     RL         72.0     9000   Pave   NaN      Reg         Lvl   \n",
      "27          20     RL         50.0     5000   Pave   NaN      Reg         Lvl   \n",
      "28          50     RM         50.0     8635   Pave   NaN      Reg         Lvl   \n",
      "30          50     RL         80.0    17120   Pave   NaN      Reg         Lvl   \n",
      "31          60     RL         77.0    11198   Pave   NaN      IR1         Lvl   \n",
      "33          20     RL         93.0     9382   Pave   NaN      IR1         Lvl   \n",
      "35         120     FV         34.0     3628   Pave    Pa      Reg         Lvl   \n",
      "...        ...    ...          ...      ...    ...   ...      ...         ...   \n",
      "1995        60     RL         59.0     9649   Pave   NaN      IR1         Lvl   \n",
      "1998        60     RL      10000.0     7861   Pave   NaN      IR1         Lvl   \n",
      "1999        20     RL         72.0     8872   Pave   NaN      Reg         Lvl   \n",
      "2001        60     FV      10000.0     8010   Pave    Pa      IR1         Lvl   \n",
      "2003        60     RM         57.0     8094   Pave    Gr      Reg         Lvl   \n",
      "2004        85     RL      10000.0     9101   Pave   NaN      IR1         Lvl   \n",
      "2005        50     RM         60.0     9600   Pave    Gr      Reg         Lvl   \n",
      "2007        70     RM         42.0     7614   Pave    Gr      Reg         Lvl   \n",
      "2008        70     RM         57.0     6406   Pave    Gr      Reg         Lvl   \n",
      "2009       120     RL         34.0     5122   Pave   NaN      IR1         Lvl   \n",
      "2010        50     RL      10000.0    15660   Pave   NaN      IR1         Lvl   \n",
      "2011        30     RM         60.0     8520   Pave   NaN      Reg         Lvl   \n",
      "2013        90     RL         75.0    10125   Pave   NaN      Reg         Lvl   \n",
      "2014        20     RL         65.0     8125   Pave   NaN      Reg         Lvl   \n",
      "2015        20     RL      10000.0     9790   Pave   NaN      Reg         Lvl   \n",
      "2016        20     RL        124.0    16158   Pave   NaN      IR1         Low   \n",
      "2017        60     RL         90.0    14670   Pave   NaN      Reg         Lvl   \n",
      "2018        20     RL         63.0    13072   Pave   NaN      Reg         Lvl   \n",
      "2020        20     RL         79.0    10240   Pave   NaN      Reg         Lvl   \n",
      "2021        20     RL         70.0    10552   Pave   NaN      IR1         Lvl   \n",
      "2022       160     RM         21.0     1890   Pave   NaN      Reg         Lvl   \n",
      "2024        80     RL      10000.0    10395   Pave   NaN      IR1         Lvl   \n",
      "2026        20     RL         70.0     9100   Pave   NaN      Reg         Lvl   \n",
      "2028        20     RL         70.0     8750   Pave   NaN      Reg         Lvl   \n",
      "2029        30     RM         51.0     6120   Pave   NaN      Reg         Lvl   \n",
      "2032        20     RL         65.0    10816   Pave   NaN      IR1         Lvl   \n",
      "2034        85     RL         75.0    11235   Pave   NaN      Reg         Lvl   \n",
      "2036       190     RM         60.0    10800   Pave    Pa      Reg         Lvl   \n",
      "2037        20     RL         65.0     7800   Pave   NaN      Reg         Lvl   \n",
      "2038        90     RL      10000.0     7939   Pave   NaN      Reg         Lvl   \n",
      "\n",
      "     utilities lotconfig      ...      saletype salecondition saleprice index  \\\n",
      "0       AllPub    Inside      ...            WD        Normal    236500     2   \n",
      "1       AllPub    Inside      ...            WD        Normal    187000     3   \n",
      "2       AllPub    Inside      ...            WD        Normal    113000     5   \n",
      "3       AllPub   CulDSac      ...            WD        Normal    190000     6   \n",
      "4       AllPub    Inside      ...            WD        Normal    150000     8   \n",
      "5       AllPub    Inside      ...            WD        Normal    138000     9   \n",
      "6       AllPub    Inside      ...           Con        Normal     55000    10   \n",
      "9       AllPub    Inside      ...            WD        Normal    147000    16   \n",
      "10      AllPub    Inside      ...            WD        Normal    131250    17   \n",
      "11      AllPub    Inside      ...            WD        Normal    124000    19   \n",
      "12      AllPub    Inside      ...            WD        Normal    223500    21   \n",
      "13      AllPub    Inside      ...            WD        Normal    113700    24   \n",
      "14      AllPub    Inside      ...            WD        Normal    290000    25   \n",
      "15      AllPub   CulDSac      ...            WD        Normal    160500    27   \n",
      "16      AllPub    Inside      ...            WD        Normal    143500    28   \n",
      "18      AllPub    Inside      ...            WD        Normal    104500    30   \n",
      "19      AllPub    Inside      ...            WD        Normal    136500    31   \n",
      "20      AllPub    Inside      ...            WD        Normal    131500    32   \n",
      "21      AllPub    Inside      ...            WD        Normal    119000    33   \n",
      "22      AllPub    Inside      ...            WD        Normal     91000    34   \n",
      "23      AllPub    Inside      ...            WD        Normal    215000    35   \n",
      "24      AllPub    Inside      ...            WD        Normal    200000    36   \n",
      "25      AllPub    Corner      ...            WD        Normal    187500    37   \n",
      "26      AllPub    Inside      ...            WD        Normal    139000    38   \n",
      "27      AllPub    Inside      ...            WD        Normal     64500    39   \n",
      "28      AllPub    Inside      ...            WD        Normal    127000    40   \n",
      "30      AllPub    Inside      ...            WD        Normal    134432    42   \n",
      "31      AllPub    Inside      ...            WD        Normal    325000    47   \n",
      "33      AllPub   CulDSac      ...            WD        Normal    191000    50   \n",
      "35      AllPub    Inside      ...            WD        Normal    176400    54   \n",
      "...        ...       ...      ...           ...           ...       ...   ...   \n",
      "1995    AllPub    Inside      ...            WD        Normal    185000  2872   \n",
      "1998    AllPub    Inside      ...            WD        Normal    183200  2876   \n",
      "1999    AllPub    Corner      ...            WD        Normal    147000  2877   \n",
      "2001    AllPub    Inside      ...            WD        Normal    301000  2880   \n",
      "2003    AllPub    Inside      ...            WD        Normal    160000  2884   \n",
      "2004    AllPub    Corner      ...            WD        Normal    165500  2887   \n",
      "2005    AllPub    Inside      ...            WD        Normal    135000  2888   \n",
      "2007    AllPub    Inside      ...            WD        Normal     96900  2890   \n",
      "2008    AllPub    Inside      ...            WD        Normal    150000  2891   \n",
      "2009    AllPub    Inside      ...            WD        Normal    184500  2892   \n",
      "2010    AllPub    Corner      ...            WD        Normal    311500  2893   \n",
      "2011    AllPub    Inside      ...            WD        Normal     99500  2894   \n",
      "2013    AllPub    Inside      ...           COD        Normal    126000  2896   \n",
      "2014    AllPub    Inside      ...            WD        Normal    135000  2897   \n",
      "2015    AllPub    Inside      ...            WD        Normal    161500  2898   \n",
      "2016    AllPub    Inside      ...            WD        Normal    260000  2901   \n",
      "2017    AllPub    Inside      ...            WD        Normal    227000  2902   \n",
      "2018    AllPub    Inside      ...            WD        Normal    146000  2904   \n",
      "2020    AllPub    Inside      ...            WD        Normal    207500  2907   \n",
      "2021    AllPub    Inside      ...            WD        Normal    165500  2908   \n",
      "2022    AllPub    Inside      ...            WD        Normal    116000  2909   \n",
      "2024    AllPub       FR2      ...            WD        Normal    148000  2911   \n",
      "2026    AllPub    Inside      ...            WD        Normal    128000  2915   \n",
      "2028    AllPub    Inside      ...            WD        Normal    210000  2917   \n",
      "2029    AllPub    Corner      ...            WD        Normal    105000  2918   \n",
      "2032    AllPub    Inside      ...            WD        Normal    332000  2922   \n",
      "2034    AllPub    Inside      ...            WD        Normal    158450  2926   \n",
      "2036    AllPub    Inside      ...            WD        Normal    163000  2928   \n",
      "2037    AllPub    Inside      ...            WD        Normal    137900  2929   \n",
      "2038    AllPub    Inside      ...            WD        Normal    269500  2930   \n",
      "\n",
      "     qualityindex totalsqftcalc  pricesqfoot           pca1         pca2  \\\n",
      "0              40        1788.0   132.270694   63809.696655  7586.615497   \n",
      "1              30        1837.0   101.796407   14198.438914 -2205.715964   \n",
      "2              30        1048.0   107.824427  -59829.138375 -2022.591767   \n",
      "3              30        2409.0    78.870901   17393.253549  9517.333975   \n",
      "4              30        2035.0    73.710074  -22721.679200  -348.608964   \n",
      "5              35        1822.0    75.740944  -34814.011532 -2049.168876   \n",
      "6               2        1086.0    50.644567 -117703.021282   919.705149   \n",
      "9              30        2074.0    70.877531  -25920.455519 -4263.281847   \n",
      "10             30        1475.0    88.983051  -41551.709927 -1697.749718   \n",
      "11             35        1810.0    68.508287  -48856.599456 -2765.907368   \n",
      "12             30        2885.0    77.469671   50984.709892  2987.592047   \n",
      "13             30        1218.0    93.349754  -59223.300844 -3920.831016   \n",
      "14             40        3266.0    88.793631  117220.495051 -2821.799559   \n",
      "15             36        1834.0    87.513631  -12270.830992  6643.063404   \n",
      "16             30        1158.0   123.920553  -29312.283740 -1960.397659   \n",
      "18             24         968.0   107.954545  -68277.917256  -945.397357   \n",
      "19             35        1604.0    85.099751  -36320.987754 -2141.648229   \n",
      "20             20        1880.0    69.946809  -41212.196916     0.152517   \n",
      "21             35         949.0   125.395153  -53840.053135 -2278.084510   \n",
      "22             20        1450.0    62.758621  -81925.117517 -3799.843218   \n",
      "23             30        2621.0    82.029760   42252.508743  6530.930479   \n",
      "24             48        2264.0    88.339223   27185.922260 -2637.846260   \n",
      "25             35        1932.0    97.049689   14727.387103 -1656.039066   \n",
      "26             30        1812.0    76.710817  -33772.699041 -1236.101189   \n",
      "27              9         965.0    66.839378 -108346.339227 -1947.976325   \n",
      "28             25        1662.0    76.413959  -45778.610921 -1247.582957   \n",
      "30             16        1588.0    84.654912  -38162.369428  2321.327567   \n",
      "31             45        2504.0   129.792332  152228.037481 -2870.196479   \n",
      "33             35        1479.0   129.141312   18218.272395 -1782.268576   \n",
      "35             35        1143.0   154.330709    3492.789502 -4109.337524   \n",
      "...           ...           ...          ...            ...          ...   \n",
      "1995           30        1644.0   112.530414   12227.025404 -1612.362001   \n",
      "1998           30        1966.0    93.184130   10438.816263  6622.821682   \n",
      "1999           40        1507.0    97.544791  -25780.247523 -1406.732407   \n",
      "2001           40        3012.0    99.933599  128216.760185  5059.031448   \n",
      "2003           48        2180.0    73.394495  -12795.791502 -1926.733786   \n",
      "2004           30        2207.0    74.988672   -7226.891584  7405.671228   \n",
      "2005           30        1944.0    69.444444  -37757.346408  -931.550172   \n",
      "2007           15        1376.0    70.421512  -75894.816050 -1277.890932   \n",
      "2008           30        1979.0    75.795856  -22831.698486 -2515.477631   \n",
      "2009           30        2187.0    84.362140   11631.728135 -3566.106099   \n",
      "2010           63        2295.0   135.729847  138876.427071  8190.580541   \n",
      "2011           40         792.0   125.631313  -73280.198125  -916.412135   \n",
      "2013           25        1734.0    72.664360  -46744.814563  -569.780322   \n",
      "2014           35        1641.0    82.266910  -37792.220240 -1565.005122   \n",
      "2015           30        2223.0    72.649573  -11210.451457  7757.737599   \n",
      "2016           35        2804.0    92.724679   87358.476465   213.825820   \n",
      "2017           42        2563.0    88.568084   54333.056463     0.380843   \n",
      "2018           30        1255.0   116.334661  -26689.543087   400.624093   \n",
      "2020           36        3372.0    61.536180   34747.533320 -1630.621365   \n",
      "2021           25        2718.0    60.890361   -7238.864701  -928.077421   \n",
      "2022           42        1312.0    88.414634  -56926.904332 -4023.819532   \n",
      "2024           36        1637.0    90.409285  -24697.958576  8197.994877   \n",
      "2026           25        1836.0    69.716776  -44767.164914 -1041.286086   \n",
      "2028           35        2528.0    83.069620   37207.211460 -2325.306257   \n",
      "2029           35        1084.0    96.863469  -67832.315873 -2028.653843   \n",
      "2032           45        2824.0   117.563739  159220.129713 -3138.443825   \n",
      "2034           25        2237.0    70.831471  -14275.637196  -538.270785   \n",
      "2036           42        1912.0    85.251046   -9739.206270  -806.556668   \n",
      "2037           35        1606.0    85.865504  -34900.485977 -1745.566880   \n",
      "2038           35        3607.0    74.715830   96728.978668  5475.606133   \n",
      "\n",
      "              pca3  \n",
      "0     -2422.426928  \n",
      "1      -457.436829  \n",
      "2      -873.111653  \n",
      "3      1088.618111  \n",
      "4      2967.573463  \n",
      "5      -652.823809  \n",
      "6      4638.813310  \n",
      "9     -5133.597298  \n",
      "10       -0.896876  \n",
      "11    -2306.172289  \n",
      "12    10672.631309  \n",
      "13    -4769.559042  \n",
      "14     -656.585033  \n",
      "15    -5272.883891  \n",
      "16     -408.314571  \n",
      "18     1307.825347  \n",
      "19     -859.581584  \n",
      "20     3529.295679  \n",
      "21    -1320.514443  \n",
      "22    -4779.541909  \n",
      "23    -4902.720956  \n",
      "24    -1171.961158  \n",
      "25      693.754837  \n",
      "26     1026.883471  \n",
      "27    -1249.875259  \n",
      "28      920.097782  \n",
      "30     8432.427794  \n",
      "31     -307.644598  \n",
      "33      431.640771  \n",
      "35    -4478.247891  \n",
      "...            ...  \n",
      "1995    795.588340  \n",
      "1998  -5059.022173  \n",
      "1999    766.273578  \n",
      "2001  -7020.381837  \n",
      "2003   -156.641243  \n",
      "2004  -3621.967667  \n",
      "2005   1645.994631  \n",
      "2007    537.461204  \n",
      "2008  -1503.162004  \n",
      "2009  -3266.837932  \n",
      "2010   -308.132773  \n",
      "2011   1296.768433  \n",
      "2013   2272.533817  \n",
      "2014    310.292115  \n",
      "2015  -2928.522435  \n",
      "2016   5311.810611  \n",
      "2017   4570.942020  \n",
      "2018   4576.988587  \n",
      "2020    931.225004  \n",
      "2021   1961.950593  \n",
      "2022  -4961.582798  \n",
      "2024  -2145.670717  \n",
      "2026   1314.580662  \n",
      "2028   -460.557115  \n",
      "2029   -961.684207  \n",
      "2032   -769.950040  \n",
      "2034   2698.657385  \n",
      "2036   2228.981163  \n",
      "2037    -35.087994  \n",
      "2038  -6517.682663  \n",
      "\n",
      "[1645 rows x 87 columns]\n"
     ]
    }
   ],
   "source": [
    "train['pca1'] = C[:,0]\n",
    "train['pca2'] = C[:,1]\n",
    "train['pca3'] = C[:,2]\n",
    "print(train)\n",
    "train.to_csv('train_PCA_1.csv')"
   ]
  },
  {
   "cell_type": "code",
   "execution_count": 32,
   "metadata": {},
   "outputs": [
    {
     "name": "stdout",
     "output_type": "stream",
     "text": [
      "[[ 1.000  0.000  0.000]\n",
      " [ 0.000  1.000 -0.000]\n",
      " [ 0.000 -0.000  1.000]]\n"
     ]
    },
    {
     "name": "stderr",
     "output_type": "stream",
     "text": [
      "/anaconda3/lib/python3.7/site-packages/ipykernel_launcher.py:3: FutureWarning: Method .as_matrix will be removed in a future version. Use .values instead.\n",
      "  This is separate from the ipykernel package so we can avoid doing imports until\n"
     ]
    }
   ],
   "source": [
    "pca_scores = pca_data.loc[:,['pca1','pca2', 'pca3']]\n",
    "pca_model_cormat = \\\n",
    "    np.corrcoef(pca_scores.as_matrix().transpose()).round(decimals=3)\n",
    "print(pca_model_cormat)"
   ]
  },
  {
   "cell_type": "code",
   "execution_count": 36,
   "metadata": {},
   "outputs": [
    {
     "data": {
      "text/html": [
       "<table class=\"simpletable\">\n",
       "<caption>OLS Regression Results</caption>\n",
       "<tr>\n",
       "  <th>Dep. Variable:</th>        <td>saleprice</td>    <th>  R-squared:         </th> <td>   1.000</td> \n",
       "</tr>\n",
       "<tr>\n",
       "  <th>Model:</th>                   <td>OLS</td>       <th>  Adj. R-squared:    </th> <td>   1.000</td> \n",
       "</tr>\n",
       "<tr>\n",
       "  <th>Method:</th>             <td>Least Squares</td>  <th>  F-statistic:       </th> <td>1.061e+09</td>\n",
       "</tr>\n",
       "<tr>\n",
       "  <th>Date:</th>             <td>Sun, 10 Mar 2019</td> <th>  Prob (F-statistic):</th>  <td>  0.00</td>  \n",
       "</tr>\n",
       "<tr>\n",
       "  <th>Time:</th>                 <td>18:59:56</td>     <th>  Log-Likelihood:    </th> <td> -9013.1</td> \n",
       "</tr>\n",
       "<tr>\n",
       "  <th>No. Observations:</th>      <td>  1645</td>      <th>  AIC:               </th> <td>1.803e+04</td>\n",
       "</tr>\n",
       "<tr>\n",
       "  <th>Df Residuals:</th>          <td>  1642</td>      <th>  BIC:               </th> <td>1.805e+04</td>\n",
       "</tr>\n",
       "<tr>\n",
       "  <th>Df Model:</th>              <td>     2</td>      <th>                     </th>     <td> </td>    \n",
       "</tr>\n",
       "<tr>\n",
       "  <th>Covariance Type:</th>      <td>nonrobust</td>    <th>                     </th>     <td> </td>    \n",
       "</tr>\n",
       "</table>\n",
       "<table class=\"simpletable\">\n",
       "<tr>\n",
       "      <td></td>         <th>coef</th>     <th>std err</th>      <th>t</th>      <th>P>|t|</th>  <th>[0.025</th>    <th>0.975]</th>  \n",
       "</tr>\n",
       "<tr>\n",
       "  <th>Intercept</th> <td> 1.728e+05</td> <td>    1.431</td> <td> 1.21e+05</td> <td> 0.000</td> <td> 1.73e+05</td> <td> 1.73e+05</td>\n",
       "</tr>\n",
       "<tr>\n",
       "  <th>pca1</th>      <td>    0.9997</td> <td> 2.17e-05</td> <td> 4.61e+04</td> <td> 0.000</td> <td>    1.000</td> <td>    1.000</td>\n",
       "</tr>\n",
       "<tr>\n",
       "  <th>pca2</th>      <td>   -0.0139</td> <td>    0.000</td> <td>  -37.572</td> <td> 0.000</td> <td>   -0.015</td> <td>   -0.013</td>\n",
       "</tr>\n",
       "</table>\n",
       "<table class=\"simpletable\">\n",
       "<tr>\n",
       "  <th>Omnibus:</th>       <td>48.395</td> <th>  Durbin-Watson:     </th> <td>   2.074</td>\n",
       "</tr>\n",
       "<tr>\n",
       "  <th>Prob(Omnibus):</th> <td> 0.000</td> <th>  Jarque-Bera (JB):  </th> <td> 106.260</td>\n",
       "</tr>\n",
       "<tr>\n",
       "  <th>Skew:</th>          <td>-0.133</td> <th>  Prob(JB):          </th> <td>8.43e-24</td>\n",
       "</tr>\n",
       "<tr>\n",
       "  <th>Kurtosis:</th>      <td> 4.216</td> <th>  Cond. No.          </th> <td>6.59e+04</td>\n",
       "</tr>\n",
       "</table><br/><br/>Warnings:<br/>[1] Standard Errors assume that the covariance matrix of the errors is correctly specified.<br/>[2] The condition number is large, 6.59e+04. This might indicate that there are<br/>strong multicollinearity or other numerical problems."
      ],
      "text/plain": [
       "<class 'statsmodels.iolib.summary.Summary'>\n",
       "\"\"\"\n",
       "                            OLS Regression Results                            \n",
       "==============================================================================\n",
       "Dep. Variable:              saleprice   R-squared:                       1.000\n",
       "Model:                            OLS   Adj. R-squared:                  1.000\n",
       "Method:                 Least Squares   F-statistic:                 1.061e+09\n",
       "Date:                Sun, 10 Mar 2019   Prob (F-statistic):               0.00\n",
       "Time:                        18:59:56   Log-Likelihood:                -9013.1\n",
       "No. Observations:                1645   AIC:                         1.803e+04\n",
       "Df Residuals:                    1642   BIC:                         1.805e+04\n",
       "Df Model:                           2                                         \n",
       "Covariance Type:            nonrobust                                         \n",
       "==============================================================================\n",
       "                 coef    std err          t      P>|t|      [0.025      0.975]\n",
       "------------------------------------------------------------------------------\n",
       "Intercept   1.728e+05      1.431   1.21e+05      0.000    1.73e+05    1.73e+05\n",
       "pca1           0.9997   2.17e-05   4.61e+04      0.000       1.000       1.000\n",
       "pca2          -0.0139      0.000    -37.572      0.000      -0.015      -0.013\n",
       "==============================================================================\n",
       "Omnibus:                       48.395   Durbin-Watson:                   2.074\n",
       "Prob(Omnibus):                  0.000   Jarque-Bera (JB):              106.260\n",
       "Skew:                          -0.133   Prob(JB):                     8.43e-24\n",
       "Kurtosis:                       4.216   Cond. No.                     6.59e+04\n",
       "==============================================================================\n",
       "\n",
       "Warnings:\n",
       "[1] Standard Errors assume that the covariance matrix of the errors is correctly specified.\n",
       "[2] The condition number is large, 6.59e+04. This might indicate that there are\n",
       "strong multicollinearity or other numerical problems.\n",
       "\"\"\""
      ]
     },
     "execution_count": 36,
     "metadata": {},
     "output_type": "execute_result"
    }
   ],
   "source": [
    "PCA_2 = smf.ols(formula='saleprice ~ pca1+pca2', data=train).fit()\n",
    "PCA_2.summary()"
   ]
  },
  {
   "cell_type": "code",
   "execution_count": 37,
   "metadata": {},
   "outputs": [
    {
     "data": {
      "text/plain": [
       "0    236450.972998\n",
       "1    186990.404080\n",
       "2    112981.462918\n",
       "3    190020.904452\n",
       "4    150054.968458\n",
       "dtype: float64"
      ]
     },
     "execution_count": 37,
     "metadata": {},
     "output_type": "execute_result"
    }
   ],
   "source": [
    "predictions_1 = PCA_2.fittedvalues\n",
    "predictions_1.head()"
   ]
  },
  {
   "cell_type": "code",
   "execution_count": 38,
   "metadata": {},
   "outputs": [
    {
     "ename": "PatsyError",
     "evalue": "Error evaluating factor: NameError: name 'pca1' is not defined\n    saleprice ~ pca1+pca2\n                ^^^^",
     "output_type": "error",
     "traceback": [
      "\u001b[0;31m---------------------------------------------------------------------------\u001b[0m",
      "\u001b[0;31mNameError\u001b[0m                                 Traceback (most recent call last)",
      "\u001b[0;32m/anaconda3/lib/python3.7/site-packages/patsy/compat.py\u001b[0m in \u001b[0;36mcall_and_wrap_exc\u001b[0;34m(msg, origin, f, *args, **kwargs)\u001b[0m\n\u001b[1;32m     35\u001b[0m     \u001b[0;32mtry\u001b[0m\u001b[0;34m:\u001b[0m\u001b[0;34m\u001b[0m\u001b[0;34m\u001b[0m\u001b[0m\n\u001b[0;32m---> 36\u001b[0;31m         \u001b[0;32mreturn\u001b[0m \u001b[0mf\u001b[0m\u001b[0;34m(\u001b[0m\u001b[0;34m*\u001b[0m\u001b[0margs\u001b[0m\u001b[0;34m,\u001b[0m \u001b[0;34m**\u001b[0m\u001b[0mkwargs\u001b[0m\u001b[0;34m)\u001b[0m\u001b[0;34m\u001b[0m\u001b[0;34m\u001b[0m\u001b[0m\n\u001b[0m\u001b[1;32m     37\u001b[0m     \u001b[0;32mexcept\u001b[0m \u001b[0mException\u001b[0m \u001b[0;32mas\u001b[0m \u001b[0me\u001b[0m\u001b[0;34m:\u001b[0m\u001b[0;34m\u001b[0m\u001b[0;34m\u001b[0m\u001b[0m\n",
      "\u001b[0;32m/anaconda3/lib/python3.7/site-packages/patsy/eval.py\u001b[0m in \u001b[0;36meval\u001b[0;34m(self, expr, source_name, inner_namespace)\u001b[0m\n\u001b[1;32m    165\u001b[0m         return eval(code, {}, VarLookupDict([inner_namespace]\n\u001b[0;32m--> 166\u001b[0;31m                                             + self._namespaces))\n\u001b[0m\u001b[1;32m    167\u001b[0m \u001b[0;34m\u001b[0m\u001b[0m\n",
      "\u001b[0;32m<string>\u001b[0m in \u001b[0;36m<module>\u001b[0;34m\u001b[0m\n",
      "\u001b[0;31mNameError\u001b[0m: name 'pca1' is not defined",
      "\nThe above exception was the direct cause of the following exception:\n",
      "\u001b[0;31mPatsyError\u001b[0m                                Traceback (most recent call last)",
      "\u001b[0;32m<ipython-input-38-d9925667cf75>\u001b[0m in \u001b[0;36m<module>\u001b[0;34m\u001b[0m\n\u001b[0;32m----> 1\u001b[0;31m \u001b[0mtest_predictions_1\u001b[0m \u001b[0;34m=\u001b[0m \u001b[0mPCA_2\u001b[0m\u001b[0;34m.\u001b[0m\u001b[0mpredict\u001b[0m\u001b[0;34m(\u001b[0m\u001b[0mtest\u001b[0m\u001b[0;34m)\u001b[0m\u001b[0;34m\u001b[0m\u001b[0;34m\u001b[0m\u001b[0m\n\u001b[0m\u001b[1;32m      2\u001b[0m \u001b[0md\u001b[0m \u001b[0;34m=\u001b[0m \u001b[0;34m{\u001b[0m\u001b[0;34m'p_saleprice'\u001b[0m\u001b[0;34m:\u001b[0m \u001b[0mtest_predictions_1\u001b[0m\u001b[0;34m}\u001b[0m\u001b[0;34m\u001b[0m\u001b[0;34m\u001b[0m\u001b[0m\n\u001b[1;32m      3\u001b[0m \u001b[0mdf1\u001b[0m \u001b[0;34m=\u001b[0m \u001b[0mtest\u001b[0m\u001b[0;34m[\u001b[0m\u001b[0;34m[\u001b[0m\u001b[0;34m'index'\u001b[0m\u001b[0;34m]\u001b[0m\u001b[0;34m]\u001b[0m\u001b[0;34m\u001b[0m\u001b[0;34m\u001b[0m\u001b[0m\n\u001b[1;32m      4\u001b[0m \u001b[0mdf2\u001b[0m\u001b[0;34m=\u001b[0m\u001b[0mpd\u001b[0m\u001b[0;34m.\u001b[0m\u001b[0mDataFrame\u001b[0m\u001b[0;34m(\u001b[0m\u001b[0mdata\u001b[0m\u001b[0;34m=\u001b[0m\u001b[0md\u001b[0m\u001b[0;34m)\u001b[0m\u001b[0;34m\u001b[0m\u001b[0;34m\u001b[0m\u001b[0m\n\u001b[1;32m      5\u001b[0m \u001b[0mStrouse_TestPredictions_1\u001b[0m \u001b[0;34m=\u001b[0m \u001b[0mpd\u001b[0m\u001b[0;34m.\u001b[0m\u001b[0mconcat\u001b[0m\u001b[0;34m(\u001b[0m\u001b[0;34m[\u001b[0m\u001b[0mdf1\u001b[0m\u001b[0;34m,\u001b[0m\u001b[0mdf2\u001b[0m\u001b[0;34m]\u001b[0m\u001b[0;34m,\u001b[0m\u001b[0maxis\u001b[0m \u001b[0;34m=\u001b[0m \u001b[0;36m1\u001b[0m\u001b[0;34m,\u001b[0m \u001b[0mjoin_axes\u001b[0m\u001b[0;34m=\u001b[0m\u001b[0;34m[\u001b[0m\u001b[0mdf1\u001b[0m\u001b[0;34m.\u001b[0m\u001b[0mindex\u001b[0m\u001b[0;34m]\u001b[0m\u001b[0;34m)\u001b[0m\u001b[0;34m\u001b[0m\u001b[0;34m\u001b[0m\u001b[0m\n",
      "\u001b[0;32m/anaconda3/lib/python3.7/site-packages/statsmodels/base/model.py\u001b[0m in \u001b[0;36mpredict\u001b[0;34m(self, exog, transform, *args, **kwargs)\u001b[0m\n\u001b[1;32m    835\u001b[0m             \u001b[0morig_exog_len\u001b[0m \u001b[0;34m=\u001b[0m \u001b[0mlen\u001b[0m\u001b[0;34m(\u001b[0m\u001b[0mexog\u001b[0m\u001b[0;34m)\u001b[0m\u001b[0;34m\u001b[0m\u001b[0;34m\u001b[0m\u001b[0m\n\u001b[1;32m    836\u001b[0m             \u001b[0mis_dict\u001b[0m \u001b[0;34m=\u001b[0m \u001b[0misinstance\u001b[0m\u001b[0;34m(\u001b[0m\u001b[0mexog\u001b[0m\u001b[0;34m,\u001b[0m \u001b[0mdict\u001b[0m\u001b[0;34m)\u001b[0m\u001b[0;34m\u001b[0m\u001b[0;34m\u001b[0m\u001b[0m\n\u001b[0;32m--> 837\u001b[0;31m             \u001b[0mexog\u001b[0m \u001b[0;34m=\u001b[0m \u001b[0mdmatrix\u001b[0m\u001b[0;34m(\u001b[0m\u001b[0mdesign_info\u001b[0m\u001b[0;34m,\u001b[0m \u001b[0mexog\u001b[0m\u001b[0;34m,\u001b[0m \u001b[0mreturn_type\u001b[0m\u001b[0;34m=\u001b[0m\u001b[0;34m\"dataframe\"\u001b[0m\u001b[0;34m)\u001b[0m\u001b[0;34m\u001b[0m\u001b[0;34m\u001b[0m\u001b[0m\n\u001b[0m\u001b[1;32m    838\u001b[0m             \u001b[0;32mif\u001b[0m \u001b[0morig_exog_len\u001b[0m \u001b[0;34m>\u001b[0m \u001b[0mlen\u001b[0m\u001b[0;34m(\u001b[0m\u001b[0mexog\u001b[0m\u001b[0;34m)\u001b[0m \u001b[0;32mand\u001b[0m \u001b[0;32mnot\u001b[0m \u001b[0mis_dict\u001b[0m\u001b[0;34m:\u001b[0m\u001b[0;34m\u001b[0m\u001b[0;34m\u001b[0m\u001b[0m\n\u001b[1;32m    839\u001b[0m                 \u001b[0;32mimport\u001b[0m \u001b[0mwarnings\u001b[0m\u001b[0;34m\u001b[0m\u001b[0;34m\u001b[0m\u001b[0m\n",
      "\u001b[0;32m/anaconda3/lib/python3.7/site-packages/patsy/highlevel.py\u001b[0m in \u001b[0;36mdmatrix\u001b[0;34m(formula_like, data, eval_env, NA_action, return_type)\u001b[0m\n\u001b[1;32m    289\u001b[0m     \u001b[0meval_env\u001b[0m \u001b[0;34m=\u001b[0m \u001b[0mEvalEnvironment\u001b[0m\u001b[0;34m.\u001b[0m\u001b[0mcapture\u001b[0m\u001b[0;34m(\u001b[0m\u001b[0meval_env\u001b[0m\u001b[0;34m,\u001b[0m \u001b[0mreference\u001b[0m\u001b[0;34m=\u001b[0m\u001b[0;36m1\u001b[0m\u001b[0;34m)\u001b[0m\u001b[0;34m\u001b[0m\u001b[0;34m\u001b[0m\u001b[0m\n\u001b[1;32m    290\u001b[0m     (lhs, rhs) = _do_highlevel_design(formula_like, data, eval_env,\n\u001b[0;32m--> 291\u001b[0;31m                                       NA_action, return_type)\n\u001b[0m\u001b[1;32m    292\u001b[0m     \u001b[0;32mif\u001b[0m \u001b[0mlhs\u001b[0m\u001b[0;34m.\u001b[0m\u001b[0mshape\u001b[0m\u001b[0;34m[\u001b[0m\u001b[0;36m1\u001b[0m\u001b[0;34m]\u001b[0m \u001b[0;34m!=\u001b[0m \u001b[0;36m0\u001b[0m\u001b[0;34m:\u001b[0m\u001b[0;34m\u001b[0m\u001b[0;34m\u001b[0m\u001b[0m\n\u001b[1;32m    293\u001b[0m         raise PatsyError(\"encountered outcome variables for a model \"\n",
      "\u001b[0;32m/anaconda3/lib/python3.7/site-packages/patsy/highlevel.py\u001b[0m in \u001b[0;36m_do_highlevel_design\u001b[0;34m(formula_like, data, eval_env, NA_action, return_type)\u001b[0m\n\u001b[1;32m    167\u001b[0m         return build_design_matrices(design_infos, data,\n\u001b[1;32m    168\u001b[0m                                      \u001b[0mNA_action\u001b[0m\u001b[0;34m=\u001b[0m\u001b[0mNA_action\u001b[0m\u001b[0;34m,\u001b[0m\u001b[0;34m\u001b[0m\u001b[0;34m\u001b[0m\u001b[0m\n\u001b[0;32m--> 169\u001b[0;31m                                      return_type=return_type)\n\u001b[0m\u001b[1;32m    170\u001b[0m     \u001b[0;32melse\u001b[0m\u001b[0;34m:\u001b[0m\u001b[0;34m\u001b[0m\u001b[0;34m\u001b[0m\u001b[0m\n\u001b[1;32m    171\u001b[0m         \u001b[0;31m# No builders, but maybe we can still get matrices\u001b[0m\u001b[0;34m\u001b[0m\u001b[0;34m\u001b[0m\u001b[0;34m\u001b[0m\u001b[0m\n",
      "\u001b[0;32m/anaconda3/lib/python3.7/site-packages/patsy/build.py\u001b[0m in \u001b[0;36mbuild_design_matrices\u001b[0;34m(design_infos, data, NA_action, return_type, dtype)\u001b[0m\n\u001b[1;32m    886\u001b[0m         \u001b[0;32mfor\u001b[0m \u001b[0mfactor_info\u001b[0m \u001b[0;32min\u001b[0m \u001b[0msix\u001b[0m\u001b[0;34m.\u001b[0m\u001b[0mitervalues\u001b[0m\u001b[0;34m(\u001b[0m\u001b[0mdesign_info\u001b[0m\u001b[0;34m.\u001b[0m\u001b[0mfactor_infos\u001b[0m\u001b[0;34m)\u001b[0m\u001b[0;34m:\u001b[0m\u001b[0;34m\u001b[0m\u001b[0;34m\u001b[0m\u001b[0m\n\u001b[1;32m    887\u001b[0m             \u001b[0;32mif\u001b[0m \u001b[0mfactor_info\u001b[0m \u001b[0;32mnot\u001b[0m \u001b[0;32min\u001b[0m \u001b[0mfactor_info_to_values\u001b[0m\u001b[0;34m:\u001b[0m\u001b[0;34m\u001b[0m\u001b[0;34m\u001b[0m\u001b[0m\n\u001b[0;32m--> 888\u001b[0;31m                 \u001b[0mvalue\u001b[0m\u001b[0;34m,\u001b[0m \u001b[0mis_NA\u001b[0m \u001b[0;34m=\u001b[0m \u001b[0m_eval_factor\u001b[0m\u001b[0;34m(\u001b[0m\u001b[0mfactor_info\u001b[0m\u001b[0;34m,\u001b[0m \u001b[0mdata\u001b[0m\u001b[0;34m,\u001b[0m \u001b[0mNA_action\u001b[0m\u001b[0;34m)\u001b[0m\u001b[0;34m\u001b[0m\u001b[0;34m\u001b[0m\u001b[0m\n\u001b[0m\u001b[1;32m    889\u001b[0m                 \u001b[0mfactor_info_to_isNAs\u001b[0m\u001b[0;34m[\u001b[0m\u001b[0mfactor_info\u001b[0m\u001b[0;34m]\u001b[0m \u001b[0;34m=\u001b[0m \u001b[0mis_NA\u001b[0m\u001b[0;34m\u001b[0m\u001b[0;34m\u001b[0m\u001b[0m\n\u001b[1;32m    890\u001b[0m                 \u001b[0;31m# value may now be a Series, DataFrame, or ndarray\u001b[0m\u001b[0;34m\u001b[0m\u001b[0;34m\u001b[0m\u001b[0;34m\u001b[0m\u001b[0m\n",
      "\u001b[0;32m/anaconda3/lib/python3.7/site-packages/patsy/build.py\u001b[0m in \u001b[0;36m_eval_factor\u001b[0;34m(factor_info, data, NA_action)\u001b[0m\n\u001b[1;32m     61\u001b[0m \u001b[0;32mdef\u001b[0m \u001b[0m_eval_factor\u001b[0m\u001b[0;34m(\u001b[0m\u001b[0mfactor_info\u001b[0m\u001b[0;34m,\u001b[0m \u001b[0mdata\u001b[0m\u001b[0;34m,\u001b[0m \u001b[0mNA_action\u001b[0m\u001b[0;34m)\u001b[0m\u001b[0;34m:\u001b[0m\u001b[0;34m\u001b[0m\u001b[0;34m\u001b[0m\u001b[0m\n\u001b[1;32m     62\u001b[0m     \u001b[0mfactor\u001b[0m \u001b[0;34m=\u001b[0m \u001b[0mfactor_info\u001b[0m\u001b[0;34m.\u001b[0m\u001b[0mfactor\u001b[0m\u001b[0;34m\u001b[0m\u001b[0;34m\u001b[0m\u001b[0m\n\u001b[0;32m---> 63\u001b[0;31m     \u001b[0mresult\u001b[0m \u001b[0;34m=\u001b[0m \u001b[0mfactor\u001b[0m\u001b[0;34m.\u001b[0m\u001b[0meval\u001b[0m\u001b[0;34m(\u001b[0m\u001b[0mfactor_info\u001b[0m\u001b[0;34m.\u001b[0m\u001b[0mstate\u001b[0m\u001b[0;34m,\u001b[0m \u001b[0mdata\u001b[0m\u001b[0;34m)\u001b[0m\u001b[0;34m\u001b[0m\u001b[0;34m\u001b[0m\u001b[0m\n\u001b[0m\u001b[1;32m     64\u001b[0m     \u001b[0;31m# Returns either a 2d ndarray, or a DataFrame, plus is_NA mask\u001b[0m\u001b[0;34m\u001b[0m\u001b[0;34m\u001b[0m\u001b[0;34m\u001b[0m\u001b[0m\n\u001b[1;32m     65\u001b[0m     \u001b[0;32mif\u001b[0m \u001b[0mfactor_info\u001b[0m\u001b[0;34m.\u001b[0m\u001b[0mtype\u001b[0m \u001b[0;34m==\u001b[0m \u001b[0;34m\"numerical\"\u001b[0m\u001b[0;34m:\u001b[0m\u001b[0;34m\u001b[0m\u001b[0;34m\u001b[0m\u001b[0m\n",
      "\u001b[0;32m/anaconda3/lib/python3.7/site-packages/patsy/eval.py\u001b[0m in \u001b[0;36meval\u001b[0;34m(self, memorize_state, data)\u001b[0m\n\u001b[1;32m    564\u001b[0m         return self._eval(memorize_state[\"eval_code\"],\n\u001b[1;32m    565\u001b[0m                           \u001b[0mmemorize_state\u001b[0m\u001b[0;34m,\u001b[0m\u001b[0;34m\u001b[0m\u001b[0;34m\u001b[0m\u001b[0m\n\u001b[0;32m--> 566\u001b[0;31m                           data)\n\u001b[0m\u001b[1;32m    567\u001b[0m \u001b[0;34m\u001b[0m\u001b[0m\n\u001b[1;32m    568\u001b[0m     \u001b[0m__getstate__\u001b[0m \u001b[0;34m=\u001b[0m \u001b[0mno_pickling\u001b[0m\u001b[0;34m\u001b[0m\u001b[0;34m\u001b[0m\u001b[0m\n",
      "\u001b[0;32m/anaconda3/lib/python3.7/site-packages/patsy/eval.py\u001b[0m in \u001b[0;36m_eval\u001b[0;34m(self, code, memorize_state, data)\u001b[0m\n\u001b[1;32m    549\u001b[0m                                  \u001b[0mmemorize_state\u001b[0m\u001b[0;34m[\u001b[0m\u001b[0;34m\"eval_env\"\u001b[0m\u001b[0;34m]\u001b[0m\u001b[0;34m.\u001b[0m\u001b[0meval\u001b[0m\u001b[0;34m,\u001b[0m\u001b[0;34m\u001b[0m\u001b[0;34m\u001b[0m\u001b[0m\n\u001b[1;32m    550\u001b[0m                                  \u001b[0mcode\u001b[0m\u001b[0;34m,\u001b[0m\u001b[0;34m\u001b[0m\u001b[0;34m\u001b[0m\u001b[0m\n\u001b[0;32m--> 551\u001b[0;31m                                  inner_namespace=inner_namespace)\n\u001b[0m\u001b[1;32m    552\u001b[0m \u001b[0;34m\u001b[0m\u001b[0m\n\u001b[1;32m    553\u001b[0m     \u001b[0;32mdef\u001b[0m \u001b[0mmemorize_chunk\u001b[0m\u001b[0;34m(\u001b[0m\u001b[0mself\u001b[0m\u001b[0;34m,\u001b[0m \u001b[0mstate\u001b[0m\u001b[0;34m,\u001b[0m \u001b[0mwhich_pass\u001b[0m\u001b[0;34m,\u001b[0m \u001b[0mdata\u001b[0m\u001b[0;34m)\u001b[0m\u001b[0;34m:\u001b[0m\u001b[0;34m\u001b[0m\u001b[0;34m\u001b[0m\u001b[0m\n",
      "\u001b[0;32m/anaconda3/lib/python3.7/site-packages/patsy/compat.py\u001b[0m in \u001b[0;36mcall_and_wrap_exc\u001b[0;34m(msg, origin, f, *args, **kwargs)\u001b[0m\n\u001b[1;32m     41\u001b[0m                                  origin)\n\u001b[1;32m     42\u001b[0m             \u001b[0;31m# Use 'exec' to hide this syntax from the Python 2 parser:\u001b[0m\u001b[0;34m\u001b[0m\u001b[0;34m\u001b[0m\u001b[0;34m\u001b[0m\u001b[0m\n\u001b[0;32m---> 43\u001b[0;31m             \u001b[0mexec\u001b[0m\u001b[0;34m(\u001b[0m\u001b[0;34m\"raise new_exc from e\"\u001b[0m\u001b[0;34m)\u001b[0m\u001b[0;34m\u001b[0m\u001b[0;34m\u001b[0m\u001b[0m\n\u001b[0m\u001b[1;32m     44\u001b[0m         \u001b[0;32melse\u001b[0m\u001b[0;34m:\u001b[0m\u001b[0;34m\u001b[0m\u001b[0;34m\u001b[0m\u001b[0m\n\u001b[1;32m     45\u001b[0m             \u001b[0;31m# In python 2, we just let the original exception escape -- better\u001b[0m\u001b[0;34m\u001b[0m\u001b[0;34m\u001b[0m\u001b[0;34m\u001b[0m\u001b[0m\n",
      "\u001b[0;32m/anaconda3/lib/python3.7/site-packages/patsy/compat.py\u001b[0m in \u001b[0;36m<module>\u001b[0;34m\u001b[0m\n",
      "\u001b[0;31mPatsyError\u001b[0m: Error evaluating factor: NameError: name 'pca1' is not defined\n    saleprice ~ pca1+pca2\n                ^^^^"
     ]
    }
   ],
   "source": [
    "test_predictions_1 = PCA_2.predict(test)\n",
    "d = {'p_saleprice': test_predictions_1}\n",
    "df1 = test[['index']]\n",
    "df2=pd.DataFrame(data=d)\n",
    "Strouse_TestPredictions_1 = pd.concat([df1,df2],axis = 1, join_axes=[df1.index])\n",
    "Strouse_TestPredictions_1.head()"
   ]
  },
  {
   "cell_type": "code",
   "execution_count": null,
   "metadata": {},
   "outputs": [],
   "source": [
    "model1 = smf.ols(formula='saleprice ~ qualityindex+totalsqftcalc+C(lotconfig)+C(neighborhood)+C(housestyle)+yearbuilt+C(roofstyle)+C(heating)', data=train).fit()\n",
    "model1.summary()"
   ]
  },
  {
   "cell_type": "code",
   "execution_count": null,
   "metadata": {},
   "outputs": [],
   "source": [
    "predictions_1 = model1.fittedvalues\n",
    "predictions_1.head()"
   ]
  },
  {
   "cell_type": "code",
   "execution_count": null,
   "metadata": {},
   "outputs": [],
   "source": [
    "test_predictions_1 = model1.predict(test)\n",
    "d = {'p_saleprice': test_predictions_1}\n",
    "df1 = test[['index']]\n",
    "df2=pd.DataFrame(data=d)\n",
    "Strouse_TestPredictions_1 = pd.concat([df1,df2],axis = 1, join_axes=[df1.index])\n",
    "Strouse_TestPredictions_1.head()"
   ]
  },
  {
   "cell_type": "code",
   "execution_count": null,
   "metadata": {},
   "outputs": [],
   "source": [
    "Strouse_TestPredictions_1.to_csv('logan_strouse_HW2_MODEL_1_NBGROUP.csv')"
   ]
  },
  {
   "cell_type": "code",
   "execution_count": null,
   "metadata": {},
   "outputs": [],
   "source": [
    "PCA_MODEL = smf.ols(formula='saleprice ~principal_component_1+principal_component_2', data=finalDf).fit()\n",
    "PCA_MODEL.summary()"
   ]
  },
  {
   "cell_type": "code",
   "execution_count": null,
   "metadata": {},
   "outputs": [],
   "source": [
    "predictions_1 = PCA_MODEL.fittedvalues\n",
    "predictions_1.head()"
   ]
  },
  {
   "cell_type": "code",
   "execution_count": null,
   "metadata": {},
   "outputs": [],
   "source": [
    "test_predictions_1 = PCA_MODEL.predict(testfinalDf)\n",
    "d = {'p_saleprice': test_predictions_1}\n",
    "df1 = test[['index']]\n",
    "df2=pd.DataFrame(data=d)\n",
    "Strouse_TestPredictions_1 = pd.concat([df1,df2],axis = 1, join_axes=[df1.index])\n",
    "Strouse_TestPredictions_1.head()"
   ]
  },
  {
   "cell_type": "code",
   "execution_count": null,
   "metadata": {},
   "outputs": [],
   "source": [
    "Strouse_TestPredictions_1.to_csv('logan_strouse_HW4_PCA_1_NBGROUP.csv')"
   ]
  },
  {
   "cell_type": "code",
   "execution_count": null,
   "metadata": {},
   "outputs": [],
   "source": [
    "neighborhood_predictions = model1.fittedvalues\n",
    "neighborhood_predictions.head()\n",
    "tr = {'p_saleprice': neighborhood_predictions}\n",
    "df1 = train[['index','saleprice','neighborhood','totalsqftcalc']]\n",
    "df2=pd.DataFrame(data=tr)\n",
    "n_file = pd.concat([df1,df2],axis = 1, join_axes=[df1.index])\n",
    "\n",
    "n_file['residual'] = (n_file.saleprice-n_file.p_saleprice)\n",
    "n_file['actual_ppsf'] = (n_file.saleprice/n_file.totalsqftcalc)\n",
    "n_file['predicted_ppsf'] = (n_file.p_saleprice/n_file.totalsqftcalc)\n",
    "compare = n_file[['neighborhood','actual_ppsf','predicted_ppsf']]\n",
    "compare.head()"
   ]
  },
  {
   "cell_type": "code",
   "execution_count": null,
   "metadata": {},
   "outputs": [],
   "source": [
    "group1 = ['GrnHill', 'Blmngtn', 'NridgHt','Somerst','StoneBr','Timber','Gilbert','CollgCr','NoRidge']\n",
    "group2 = ['Crawfor','Blueste','SawyerW','Greens','BrkSide','Veenker','Mitchel','IDOTRR','OldTown']\n",
    "group3 = ['ClearCr','NWAmes','NPkVill','NAmes','Sawyer','Edwards','BrDale','SWISU','MeadowV']\n",
    "c_2 = compare.copy()\n",
    "#c_2['Neighborhood_Group'] = c_2['neighborhood'].copy()\n",
    "#c_2['Neighborhood_Group'] = c_2['neighborhood'].isin(group1).astype('int64')\n",
    "#c_2['Neighborhood_Group'] = c_2['neighborhood'].isin(group2).astype('int64',copy=False)\n",
    "#c_2.loc[c_2.Neighborhood_Group == 'CollgCr'] = 1\n",
    "#c_2\n",
    "conditions = [\n",
    "    (c_2['neighborhood'].isin(group1)),\n",
    "    (c_2['neighborhood'].isin(group2)),\n",
    "    (c_2['neighborhood'].isin(group3))]\n",
    "choices = ['1', '2', '3']\n",
    "c_2['Neighborhood_Group'] = np.select(conditions, choices, default='NA')\n",
    "c_2"
   ]
  },
  {
   "cell_type": "code",
   "execution_count": null,
   "metadata": {},
   "outputs": [],
   "source": [
    "import seaborn as sns\n",
    "ax = sns.boxplot(x=\"neighborhood\", y=\"residual\", data=n_file)\n",
    "ax.set_title(\"Residual by Neighborhood\")\n",
    "ax.set_ylabel(\"Residual\")\n",
    "ax.set_xlabel(\"Neighborhood\")\n",
    "plt.xticks(rotation=75)\n",
    "plt.show()"
   ]
  },
  {
   "cell_type": "code",
   "execution_count": null,
   "metadata": {},
   "outputs": [],
   "source": [
    "grouping = c_2[['neighborhood','actual_ppsf','predicted_ppsf','Neighborhood_Group']].groupby('neighborhood').mean()\n",
    "grouping_sorted = grouping.sort_values(by=['actual_ppsf'], ascending=[False])\n",
    "grouping_sorted\n",
    "#neighborhoods sorted by actual ppsf"
   ]
  },
  {
   "cell_type": "code",
   "execution_count": null,
   "metadata": {},
   "outputs": [],
   "source": [
    "grouping_sorted_1 = grouping_sorted.reset_index()"
   ]
  },
  {
   "cell_type": "code",
   "execution_count": null,
   "metadata": {},
   "outputs": [],
   "source": [
    "grouping_sorted_1.iloc[1:]"
   ]
  },
  {
   "cell_type": "code",
   "execution_count": null,
   "metadata": {},
   "outputs": [],
   "source": [
    "group1 = ['GrnHill', 'Blmngtn', 'NridgHt','Somerst','StoneBr','Timber','Gilbert','CollgCr','NoRidge']\n",
    "group2 = ['Crawfor','Blueste','SawyerW','Greens','BrkSide','Veenker','Mitchel','IDOTRR','OldTown']\n",
    "group3 = ['ClearCr','NWAmes','NPkVill','NAmes','Sawyer','Edwards','BrDale','SWISU','MeadowV']\n",
    "conditions = [\n",
    "    (grouping_sorted_1['neighborhood'].isin(group1)),\n",
    "    (grouping_sorted_1['neighborhood'].isin(group2)),\n",
    "    (grouping_sorted_1['neighborhood'].isin(group3))]\n",
    "choices = ['1', '2', '3']\n",
    "grouping_sorted_1['Neighborhood_Group'] = np.select(conditions, choices, default='NA')\n",
    "print(grouping_sorted_1)"
   ]
  }
 ],
 "metadata": {
  "kernelspec": {
   "display_name": "Python 3",
   "language": "python",
   "name": "python3"
  },
  "language_info": {
   "codemirror_mode": {
    "name": "ipython",
    "version": 3
   },
   "file_extension": ".py",
   "mimetype": "text/x-python",
   "name": "python",
   "nbconvert_exporter": "python",
   "pygments_lexer": "ipython3",
   "version": "3.7.1"
  }
 },
 "nbformat": 4,
 "nbformat_minor": 2
}
