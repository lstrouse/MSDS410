{
 "cells": [
  {
   "cell_type": "code",
   "execution_count": 126,
   "metadata": {},
   "outputs": [],
   "source": [
    "import pandas as pd\n",
    "import numpy as np\n",
    "import statsmodels.formula.api as smf\n",
    "import matplotlib.pyplot as plt"
   ]
  },
  {
   "cell_type": "code",
   "execution_count": 52,
   "metadata": {},
   "outputs": [],
   "source": [
    "train = pd.read_csv('AMES_TRAIN.csv')\n",
    "test = pd.read_csv('AMES_TEST_SFAM.csv')\n",
    "train.columns = [s.lower() for s in train.columns]\n",
    "test.columns = [s.lower() for s in test.columns]\n",
    "train['qualityindex'] = (train.overallqual*train.overallcond)\n",
    "train['totalsqftcalc'] = (train.bsmtfinsf1+train.bsmtfinsf2+train.grlivarea)\n",
    "test['qualityindex'] = (test.overallqual*test.overallcond)\n",
    "test['totalsqftcalc'] = (test.bsmtfinsf1+test.bsmtfinsf2+test.grlivarea)\n",
    "train ['log_saleprice'] = np.log(train['saleprice'])\n",
    "test ['log_saleprice'] = test['saleprice']\n",
    "train=train.replace({'totalsqftcalc': {np.NaN : 10000}})\n",
    "train=train.replace({'lotarea': {np.NaN : 10000}})\n",
    "train=train.replace({'lotfrontage': {np.NaN : 10000}})\n",
    "test=test.replace({'totalsqftcalc': {np.NaN : 10000}})\n",
    "test=test.replace({'lotarea': {np.NaN : 10000}})\n",
    "test=test.replace({'lotfrontage': {np.NaN : 10000}})\n",
    "test[\"garagearea\"] = test['garagearea'].fillna(0)\n",
    "#added to fix issue with blank cell"
   ]
  },
  {
   "cell_type": "code",
   "execution_count": 53,
   "metadata": {},
   "outputs": [],
   "source": [
    "train = train[train['totalsqftcalc'] < 6000]\n",
    "train = train[train['salecondition'] == 'Normal']\n",
    "train = train[train['saleprice'] <= 500000]\n",
    "train = train[train['lotarea'] <= 25000]\n",
    "train = train[train['zoning'] != 'I']\n",
    "train = train[train['zoning'] != 'C']\n",
    "train = train[train['zoning'] != 'A']"
   ]
  },
  {
   "cell_type": "code",
   "execution_count": 54,
   "metadata": {},
   "outputs": [],
   "source": [
    "#train = train[train['roofstyle'] != 'Gable']\n",
    "#train = train[train['roofstyle'] != 'Hip']"
   ]
  },
  {
   "cell_type": "code",
   "execution_count": 55,
   "metadata": {},
   "outputs": [
    {
     "data": {
      "text/html": [
       "<div>\n",
       "<style scoped>\n",
       "    .dataframe tbody tr th:only-of-type {\n",
       "        vertical-align: middle;\n",
       "    }\n",
       "\n",
       "    .dataframe tbody tr th {\n",
       "        vertical-align: top;\n",
       "    }\n",
       "\n",
       "    .dataframe thead th {\n",
       "        text-align: right;\n",
       "    }\n",
       "</style>\n",
       "<table border=\"1\" class=\"dataframe\">\n",
       "  <thead>\n",
       "    <tr style=\"text-align: right;\">\n",
       "      <th></th>\n",
       "      <th>index</th>\n",
       "      <th>p_saleprice</th>\n",
       "      <th>saleprice</th>\n",
       "      <th>subclass</th>\n",
       "      <th>zoning</th>\n",
       "      <th>lotfrontage</th>\n",
       "      <th>lotarea</th>\n",
       "      <th>street</th>\n",
       "      <th>alley</th>\n",
       "      <th>lotshape</th>\n",
       "      <th>...</th>\n",
       "      <th>fence</th>\n",
       "      <th>miscfeature</th>\n",
       "      <th>miscval</th>\n",
       "      <th>mosold</th>\n",
       "      <th>yrsold</th>\n",
       "      <th>saletype</th>\n",
       "      <th>salecondition</th>\n",
       "      <th>qualityindex</th>\n",
       "      <th>totalsqftcalc</th>\n",
       "      <th>log_saleprice</th>\n",
       "    </tr>\n",
       "  </thead>\n",
       "  <tbody>\n",
       "    <tr>\n",
       "      <th>0</th>\n",
       "      <td>1</td>\n",
       "      <td>NaN</td>\n",
       "      <td>NaN</td>\n",
       "      <td>30</td>\n",
       "      <td>C</td>\n",
       "      <td>69.0</td>\n",
       "      <td>12366</td>\n",
       "      <td>Pave</td>\n",
       "      <td>NaN</td>\n",
       "      <td>Reg</td>\n",
       "      <td>...</td>\n",
       "      <td>NaN</td>\n",
       "      <td>NaN</td>\n",
       "      <td>0</td>\n",
       "      <td>10</td>\n",
       "      <td>2006</td>\n",
       "      <td>WD</td>\n",
       "      <td>Abnorml</td>\n",
       "      <td>15</td>\n",
       "      <td>729</td>\n",
       "      <td>NaN</td>\n",
       "    </tr>\n",
       "    <tr>\n",
       "      <th>1</th>\n",
       "      <td>4</td>\n",
       "      <td>NaN</td>\n",
       "      <td>NaN</td>\n",
       "      <td>20</td>\n",
       "      <td>FV</td>\n",
       "      <td>65.0</td>\n",
       "      <td>8125</td>\n",
       "      <td>Pave</td>\n",
       "      <td>NaN</td>\n",
       "      <td>Reg</td>\n",
       "      <td>...</td>\n",
       "      <td>NaN</td>\n",
       "      <td>NaN</td>\n",
       "      <td>0</td>\n",
       "      <td>10</td>\n",
       "      <td>2009</td>\n",
       "      <td>New</td>\n",
       "      <td>Partial</td>\n",
       "      <td>40</td>\n",
       "      <td>1836</td>\n",
       "      <td>NaN</td>\n",
       "    </tr>\n",
       "    <tr>\n",
       "      <th>2</th>\n",
       "      <td>7</td>\n",
       "      <td>NaN</td>\n",
       "      <td>NaN</td>\n",
       "      <td>60</td>\n",
       "      <td>RL</td>\n",
       "      <td>80.0</td>\n",
       "      <td>9760</td>\n",
       "      <td>Pave</td>\n",
       "      <td>NaN</td>\n",
       "      <td>Reg</td>\n",
       "      <td>...</td>\n",
       "      <td>MnWw</td>\n",
       "      <td>NaN</td>\n",
       "      <td>0</td>\n",
       "      <td>7</td>\n",
       "      <td>2007</td>\n",
       "      <td>WD</td>\n",
       "      <td>Normal</td>\n",
       "      <td>48</td>\n",
       "      <td>2504</td>\n",
       "      <td>NaN</td>\n",
       "    </tr>\n",
       "    <tr>\n",
       "      <th>3</th>\n",
       "      <td>11</td>\n",
       "      <td>NaN</td>\n",
       "      <td>NaN</td>\n",
       "      <td>20</td>\n",
       "      <td>RL</td>\n",
       "      <td>76.0</td>\n",
       "      <td>10141</td>\n",
       "      <td>Pave</td>\n",
       "      <td>NaN</td>\n",
       "      <td>IR1</td>\n",
       "      <td>...</td>\n",
       "      <td>NaN</td>\n",
       "      <td>NaN</td>\n",
       "      <td>0</td>\n",
       "      <td>1</td>\n",
       "      <td>2009</td>\n",
       "      <td>WD</td>\n",
       "      <td>Normal</td>\n",
       "      <td>40</td>\n",
       "      <td>2802</td>\n",
       "      <td>NaN</td>\n",
       "    </tr>\n",
       "    <tr>\n",
       "      <th>4</th>\n",
       "      <td>13</td>\n",
       "      <td>NaN</td>\n",
       "      <td>NaN</td>\n",
       "      <td>20</td>\n",
       "      <td>RL</td>\n",
       "      <td>103.0</td>\n",
       "      <td>11175</td>\n",
       "      <td>Pave</td>\n",
       "      <td>NaN</td>\n",
       "      <td>IR1</td>\n",
       "      <td>...</td>\n",
       "      <td>NaN</td>\n",
       "      <td>NaN</td>\n",
       "      <td>0</td>\n",
       "      <td>10</td>\n",
       "      <td>2007</td>\n",
       "      <td>New</td>\n",
       "      <td>Partial</td>\n",
       "      <td>35</td>\n",
       "      <td>1316</td>\n",
       "      <td>NaN</td>\n",
       "    </tr>\n",
       "  </tbody>\n",
       "</table>\n",
       "<p>5 rows × 85 columns</p>\n",
       "</div>"
      ],
      "text/plain": [
       "   index  p_saleprice  saleprice  subclass zoning  lotfrontage  lotarea  \\\n",
       "0      1          NaN        NaN        30      C         69.0    12366   \n",
       "1      4          NaN        NaN        20     FV         65.0     8125   \n",
       "2      7          NaN        NaN        60     RL         80.0     9760   \n",
       "3     11          NaN        NaN        20     RL         76.0    10141   \n",
       "4     13          NaN        NaN        20     RL        103.0    11175   \n",
       "\n",
       "  street alley lotshape      ...       fence miscfeature miscval mosold  \\\n",
       "0   Pave   NaN      Reg      ...         NaN         NaN       0     10   \n",
       "1   Pave   NaN      Reg      ...         NaN         NaN       0     10   \n",
       "2   Pave   NaN      Reg      ...        MnWw         NaN       0      7   \n",
       "3   Pave   NaN      IR1      ...         NaN         NaN       0      1   \n",
       "4   Pave   NaN      IR1      ...         NaN         NaN       0     10   \n",
       "\n",
       "  yrsold saletype salecondition qualityindex totalsqftcalc  log_saleprice  \n",
       "0   2006       WD       Abnorml           15           729            NaN  \n",
       "1   2009      New       Partial           40          1836            NaN  \n",
       "2   2007       WD        Normal           48          2504            NaN  \n",
       "3   2009       WD        Normal           40          2802            NaN  \n",
       "4   2007      New       Partial           35          1316            NaN  \n",
       "\n",
       "[5 rows x 85 columns]"
      ]
     },
     "execution_count": 55,
     "metadata": {},
     "output_type": "execute_result"
    }
   ],
   "source": [
    "test.head()\n",
    "#print(test.head())"
   ]
  },
  {
   "cell_type": "code",
   "execution_count": 56,
   "metadata": {},
   "outputs": [],
   "source": [
    "#print(train)"
   ]
  },
  {
   "cell_type": "code",
   "execution_count": 57,
   "metadata": {},
   "outputs": [
    {
     "data": {
      "text/plain": [
       "0    12.373703\n",
       "1    12.138864\n",
       "2    11.635143\n",
       "3    12.154779\n",
       "4    11.918391\n",
       "Name: saleprice, dtype: float64"
      ]
     },
     "execution_count": 57,
     "metadata": {},
     "output_type": "execute_result"
    }
   ],
   "source": [
    "#train['saleprice'] = np.log(['saleprice'])\n",
    "np.log(train['saleprice']).head()"
   ]
  },
  {
   "cell_type": "code",
   "execution_count": 58,
   "metadata": {},
   "outputs": [],
   "source": [
    "X = train[['saleprice','qualityindex','totalsqftcalc','yearbuilt','lotarea','lotfrontage']].copy()\n",
    "X1 = train[['qualityindex','totalsqftcalc','yearbuilt','lotarea','lotfrontage']].copy()\n",
    "corr = X[X.columns].corr()\n",
    "#corr"
   ]
  },
  {
   "cell_type": "code",
   "execution_count": 59,
   "metadata": {},
   "outputs": [],
   "source": [
    "Y = train[['saleprice']].copy()\n",
    "from sklearn.feature_selection import SelectKBest\n",
    "from sklearn.feature_selection import chi2\n",
    "select_top_3 = SelectKBest(score_func=chi2, k = 3)\n",
    "fit = select_top_3.fit(X1,Y)\n",
    "features = fit.transform(X1)\n",
    "#features[0:5] "
   ]
  },
  {
   "cell_type": "code",
   "execution_count": 60,
   "metadata": {},
   "outputs": [
    {
     "data": {
      "text/plain": [
       "<matplotlib.axes._subplots.AxesSubplot at 0x1a2d371b70>"
      ]
     },
     "execution_count": 60,
     "metadata": {},
     "output_type": "execute_result"
    },
    {
     "data": {
      "image/png": "[encoded data removed]",
      "text/plain": [
       "<Figure size 432x288 with 1 Axes>"
      ]
     },
     "metadata": {
      "needs_background": "light"
     },
     "output_type": "display_data"
    }
   ],
   "source": [
    "train.plot.scatter(y='saleprice', x='totalsqftcalc') \n",
    "#This lets me see some outliars that could be distorting the data."
   ]
  },
  {
   "cell_type": "code",
   "execution_count": 61,
   "metadata": {},
   "outputs": [
    {
     "data": {
      "text/plain": [
       "<matplotlib.axes._subplots.AxesSubplot at 0x1a24f66198>"
      ]
     },
     "execution_count": 61,
     "metadata": {},
     "output_type": "execute_result"
    },
    {
     "data": {
      "image/png": "[encoded data removed]",
      "text/plain": [
       "<Figure size 432x288 with 1 Axes>"
      ]
     },
     "metadata": {
      "needs_background": "light"
     },
     "output_type": "display_data"
    }
   ],
   "source": [
    "train.plot.scatter(y='totalsqftcalc', x='saleprice') "
   ]
  },
  {
   "cell_type": "code",
   "execution_count": 62,
   "metadata": {},
   "outputs": [
    {
     "data": {
      "text/plain": [
       "<matplotlib.axes._subplots.AxesSubplot at 0x1a25cab780>"
      ]
     },
     "execution_count": 62,
     "metadata": {},
     "output_type": "execute_result"
    },
    {
     "data": {
      "image/png": "[encoded data removed]",
      "text/plain": [
       "<Figure size 432x288 with 1 Axes>"
      ]
     },
     "metadata": {
      "needs_background": "light"
     },
     "output_type": "display_data"
    }
   ],
   "source": [
    "train.plot.scatter(y='saleprice', x='totalsqftcalc') "
   ]
  },
  {
   "cell_type": "code",
   "execution_count": 85,
   "metadata": {},
   "outputs": [
    {
     "name": "stdout",
     "output_type": "stream",
     "text": [
      "                            OLS Regression Results                            \n",
      "==============================================================================\n",
      "Dep. Variable:              saleprice   R-squared:                       0.896\n",
      "Model:                            OLS   Adj. R-squared:                  0.894\n",
      "Method:                 Least Squares   F-statistic:                     435.3\n",
      "Date:                Thu, 14 Feb 2019   Prob (F-statistic):               0.00\n",
      "Time:                        01:19:46   Log-Likelihood:                -18723.\n",
      "No. Observations:                1645   AIC:                         3.751e+04\n",
      "Df Residuals:                    1612   BIC:                         3.769e+04\n",
      "Df Model:                          32                                         \n",
      "Covariance Type:            nonrobust                                         \n",
      "===========================================================================================\n",
      "                              coef    std err          t      P>|t|      [0.025      0.975]\n",
      "-------------------------------------------------------------------------------------------\n",
      "Intercept               -8.341e+05   7.85e+04    -10.623      0.000   -9.88e+05    -6.8e+05\n",
      "neighborhood[T.Blueste] -1.713e+04   1.09e+04     -1.572      0.116   -3.85e+04    4239.347\n",
      "neighborhood[T.BrDale]  -2.471e+04   9000.007     -2.745      0.006   -4.24e+04   -7052.075\n",
      "neighborhood[T.BrkSide] -1532.4518   8096.964     -0.189      0.850   -1.74e+04    1.43e+04\n",
      "neighborhood[T.ClearCr]  8014.4751   8662.334      0.925      0.355   -8976.144     2.5e+04\n",
      "neighborhood[T.CollgCr]    87.4515   7385.889      0.012      0.991   -1.44e+04    1.46e+04\n",
      "neighborhood[T.Crawfor]  1.561e+04   8040.486      1.942      0.052    -158.060    3.14e+04\n",
      "neighborhood[T.Edwards] -8651.3826   7681.778     -1.126      0.260   -2.37e+04    6415.938\n",
      "neighborhood[T.Gilbert]  2292.6064   7583.504      0.302      0.762   -1.26e+04    1.72e+04\n",
      "neighborhood[T.Greens]   -391.6243   1.14e+04     -0.034      0.973   -2.28e+04     2.2e+04\n",
      "neighborhood[T.GrnHill]  1.171e+05   2.26e+04      5.172      0.000    7.27e+04    1.62e+05\n",
      "neighborhood[T.IDOTRR]  -8670.2039   8490.853     -1.021      0.307   -2.53e+04    7984.067\n",
      "neighborhood[T.MeadowV] -2.211e+04   8677.187     -2.548      0.011   -3.91e+04   -5088.364\n",
      "neighborhood[T.Mitchel] -8381.0179   7719.579     -1.086      0.278   -2.35e+04    6760.447\n",
      "neighborhood[T.NAmes]   -1.281e+04   7502.862     -1.708      0.088   -2.75e+04    1903.047\n",
      "neighborhood[T.NPkVill] -2.497e+04   9031.525     -2.764      0.006   -4.27e+04   -7250.268\n",
      "neighborhood[T.NWAmes]  -1.741e+04   7701.140     -2.261      0.024   -3.25e+04   -2308.925\n",
      "neighborhood[T.NoRidge]  2.984e+04   8021.701      3.720      0.000    1.41e+04    4.56e+04\n",
      "neighborhood[T.NridgHt]  4.205e+04   7700.404      5.461      0.000    2.69e+04    5.72e+04\n",
      "neighborhood[T.OldTown]  -1.18e+04   7998.975     -1.475      0.141   -2.75e+04    3894.200\n",
      "neighborhood[T.SWISU]   -1.393e+04   9062.906     -1.537      0.124   -3.17e+04    3845.856\n",
      "neighborhood[T.Sawyer]  -1.182e+04   7707.552     -1.533      0.125   -2.69e+04    3299.222\n",
      "neighborhood[T.SawyerW] -8603.3201   7619.053     -1.129      0.259   -2.35e+04    6340.971\n",
      "neighborhood[T.Somerst]  1.368e+04   7582.818      1.804      0.071   -1196.262    2.86e+04\n",
      "neighborhood[T.StoneBr]  2.836e+04   8440.220      3.360      0.001    1.18e+04    4.49e+04\n",
      "neighborhood[T.Timber]   1.622e+04   8007.961      2.026      0.043     513.577    3.19e+04\n",
      "neighborhood[T.Veenker]  8500.2699   9774.036      0.870      0.385   -1.07e+04    2.77e+04\n",
      "qualityindex             1677.5519     67.639     24.801      0.000    1544.882    1810.222\n",
      "totalsqftcalc              55.5622      1.530     36.320      0.000      52.562      58.563\n",
      "totalbsmtsf                -8.2319      2.549     -3.230      0.001     -13.231      -3.233\n",
      "garagearea                 39.6388      3.510     11.292      0.000      32.754      46.524\n",
      "bsmtunfsf                  32.0698      1.997     16.059      0.000      28.153      35.987\n",
      "yearbuilt                 415.4386     39.110     10.622      0.000     338.728     492.149\n",
      "==============================================================================\n",
      "Omnibus:                      204.301   Durbin-Watson:                   1.957\n",
      "Prob(Omnibus):                  0.000   Jarque-Bera (JB):              853.462\n",
      "Skew:                           0.533   Prob(JB):                    4.71e-186\n",
      "Kurtosis:                       6.364   Cond. No.                     4.61e+05\n",
      "==============================================================================\n",
      "\n",
      "Warnings:\n",
      "[1] Standard Errors assume that the covariance matrix of the errors is correctly specified.\n",
      "[2] The condition number is large, 4.61e+05. This might indicate that there are\n",
      "strong multicollinearity or other numerical problems.\n"
     ]
    }
   ],
   "source": [
    "model4 = smf.ols(formula='saleprice ~ qualityindex+totalsqftcalc+totalbsmtsf+garagearea+bsmtunfsf+yearbuilt+neighborhood', data=train).fit()\n",
    "print(model4.summary())"
   ]
  },
  {
   "cell_type": "code",
   "execution_count": 93,
   "metadata": {},
   "outputs": [],
   "source": [
    "#previous way I was doing VIF\n",
    "from patsy import dmatrices\n",
    "from statsmodels.stats.outliers_influence import variance_inflation_factor\n",
    "#VIF for Model 4\n",
    "# Break into left and right hand side; y and X\n",
    "Y, X = dmatrices( \"saleprice ~ qualityindex+totalsqftcalc+totalbsmtsf+grlivarea+garagearea+yearbuilt+neighborhood\", data=train, return_type=\"dataframe\")\n",
    "# For each Xi, calculate VIF\n",
    "vif = [variance_inflation_factor(X.values, i) for i in range(X.shape[1])]\n",
    "# Fit X to y\n",
    "result = smf.OLS(Y, X).fit()\n",
    "#print(vif)"
   ]
  },
  {
   "cell_type": "code",
   "execution_count": 94,
   "metadata": {},
   "outputs": [
    {
     "name": "stdout",
     "output_type": "stream",
     "text": [
      "This is the VIF for Model 5 non-log\n",
      "Intercept                  22053.844215\n",
      "neighborhood[T.Blueste]        1.800078\n",
      "neighborhood[T.BrDale]         2.963730\n",
      "neighborhood[T.BrkSide]        9.946482\n",
      "neighborhood[T.ClearCr]        3.542099\n",
      "neighborhood[T.CollgCr]       16.752300\n",
      "neighborhood[T.Crawfor]        8.777780\n",
      "neighborhood[T.Edwards]       14.713771\n",
      "neighborhood[T.Gilbert]       10.193750\n",
      "neighborhood[T.Greens]         1.694636\n",
      "neighborhood[T.GrnHill]        1.114889\n",
      "neighborhood[T.IDOTRR]         5.670744\n",
      "neighborhood[T.MeadowV]        3.554256\n",
      "neighborhood[T.Mitchel]        8.210373\n",
      "neighborhood[T.NAmes]         27.629309\n",
      "neighborhood[T.NPkVill]        2.810689\n",
      "neighborhood[T.NWAmes]         9.115227\n",
      "neighborhood[T.NoRidge]        5.992755\n",
      "neighborhood[T.NridgHt]        7.932105\n",
      "neighborhood[T.OldTown]       19.082966\n",
      "neighborhood[T.SWISU]          3.529132\n",
      "neighborhood[T.Sawyer]        10.876325\n",
      "neighborhood[T.SawyerW]        9.036756\n",
      "neighborhood[T.Somerst]        9.404371\n",
      "neighborhood[T.StoneBr]        3.663966\n",
      "neighborhood[T.Timber]         5.044072\n",
      "neighborhood[T.Veenker]        2.270085\n",
      "qualityindex                   1.305557\n",
      "totalsqftcalc                  3.637908\n",
      "totalbsmtsf                    1.917187\n",
      "grlivarea                      3.053692\n",
      "garagearea                     1.765713\n",
      "yearbuilt                      4.740209\n",
      "dtype: float64\n"
     ]
    }
   ],
   "source": [
    "#Model 4 VIF (this way I was able to label each output)\n",
    "from statsmodels.stats.outliers_influence import variance_inflation_factor\n",
    "vif = [variance_inflation_factor(X.values, i) for i in range(X.shape[1])]\n",
    "vif = pd.Series(vif, index =X.columns)\n",
    "print(\"This is the VIF for Model 5 non-log\")\n",
    "print(vif)\n",
    "#tried dropping neighborhood due to high scores vs. other variables but hurt model score on kaggle"
   ]
  },
  {
   "cell_type": "code",
   "execution_count": 80,
   "metadata": {},
   "outputs": [
    {
     "data": {
      "text/html": [
       "<div>\n",
       "<style scoped>\n",
       "    .dataframe tbody tr th:only-of-type {\n",
       "        vertical-align: middle;\n",
       "    }\n",
       "\n",
       "    .dataframe tbody tr th {\n",
       "        vertical-align: top;\n",
       "    }\n",
       "\n",
       "    .dataframe thead th {\n",
       "        text-align: right;\n",
       "    }\n",
       "</style>\n",
       "<table border=\"1\" class=\"dataframe\">\n",
       "  <thead>\n",
       "    <tr style=\"text-align: right;\">\n",
       "      <th></th>\n",
       "      <th>index</th>\n",
       "      <th>p_saleprice</th>\n",
       "    </tr>\n",
       "  </thead>\n",
       "  <tbody>\n",
       "    <tr>\n",
       "      <th>0</th>\n",
       "      <td>1</td>\n",
       "      <td>30958.809272</td>\n",
       "    </tr>\n",
       "    <tr>\n",
       "      <th>1</th>\n",
       "      <td>4</td>\n",
       "      <td>247184.247085</td>\n",
       "    </tr>\n",
       "    <tr>\n",
       "      <th>2</th>\n",
       "      <td>7</td>\n",
       "      <td>204785.304764</td>\n",
       "    </tr>\n",
       "    <tr>\n",
       "      <th>3</th>\n",
       "      <td>11</td>\n",
       "      <td>240823.366620</td>\n",
       "    </tr>\n",
       "    <tr>\n",
       "      <th>4</th>\n",
       "      <td>13</td>\n",
       "      <td>180451.353554</td>\n",
       "    </tr>\n",
       "  </tbody>\n",
       "</table>\n",
       "</div>"
      ],
      "text/plain": [
       "   index    p_saleprice\n",
       "0      1   30958.809272\n",
       "1      4  247184.247085\n",
       "2      7  204785.304764\n",
       "3     11  240823.366620\n",
       "4     13  180451.353554"
      ]
     },
     "execution_count": 80,
     "metadata": {},
     "output_type": "execute_result"
    }
   ],
   "source": [
    "test_predictions_2 = model4.predict(test)\n",
    "d = {'p_saleprice': test_predictions_2}\n",
    "df1 = test[['index']]\n",
    "df2=pd.DataFrame(data=d)\n",
    "Strouse_TestPredictions_2 = pd.concat([df1,df2],axis = 1, join_axes=[df1.index])\n",
    "Strouse_TestPredictions_2.head()"
   ]
  },
  {
   "cell_type": "code",
   "execution_count": 125,
   "metadata": {},
   "outputs": [],
   "source": [
    "Strouse_TestPredictions_2.to_csv('logan_strouse_HW2_model_4_scored_final.csv')"
   ]
  },
  {
   "cell_type": "code",
   "execution_count": 95,
   "metadata": {},
   "outputs": [
    {
     "name": "stdout",
     "output_type": "stream",
     "text": [
      "                            OLS Regression Results                            \n",
      "==============================================================================\n",
      "Dep. Variable:          log_saleprice   R-squared:                       0.918\n",
      "Model:                            OLS   Adj. R-squared:                  0.917\n",
      "Method:                 Least Squares   F-statistic:                     565.4\n",
      "Date:                Thu, 14 Feb 2019   Prob (F-statistic):               0.00\n",
      "Time:                        02:42:36   Log-Likelihood:                 1424.0\n",
      "No. Observations:                1645   AIC:                            -2782.\n",
      "Df Residuals:                    1612   BIC:                            -2604.\n",
      "Df Model:                          32                                         \n",
      "Covariance Type:            nonrobust                                         \n",
      "===========================================================================================\n",
      "                              coef    std err          t      P>|t|      [0.025      0.975]\n",
      "-------------------------------------------------------------------------------------------\n",
      "Intercept                   5.3755      0.377     14.274      0.000       4.637       6.114\n",
      "neighborhood[T.Blueste]    -0.1215      0.052     -2.324      0.020      -0.224      -0.019\n",
      "neighborhood[T.BrDale]     -0.2343      0.043     -5.427      0.000      -0.319      -0.150\n",
      "neighborhood[T.BrkSide]    -0.0546      0.039     -1.406      0.160      -0.131       0.022\n",
      "neighborhood[T.ClearCr]     0.0473      0.042      1.138      0.255      -0.034       0.129\n",
      "neighborhood[T.CollgCr]    -0.0113      0.035     -0.320      0.749      -0.081       0.058\n",
      "neighborhood[T.Crawfor]     0.0833      0.039      2.159      0.031       0.008       0.159\n",
      "neighborhood[T.Edwards]    -0.0958      0.037     -2.600      0.009      -0.168      -0.024\n",
      "neighborhood[T.Gilbert]     0.0225      0.036      0.620      0.535      -0.049       0.094\n",
      "neighborhood[T.Greens]      0.0169      0.055      0.309      0.757      -0.090       0.124\n",
      "neighborhood[T.GrnHill]     0.4632      0.109      4.264      0.000       0.250       0.676\n",
      "neighborhood[T.IDOTRR]     -0.1277      0.041     -3.136      0.002      -0.208      -0.048\n",
      "neighborhood[T.MeadowV]    -0.2588      0.042     -6.218      0.000      -0.340      -0.177\n",
      "neighborhood[T.Mitchel]    -0.0417      0.037     -1.126      0.260      -0.114       0.031\n",
      "neighborhood[T.NAmes]      -0.0674      0.036     -1.873      0.061      -0.138       0.003\n",
      "neighborhood[T.NPkVill]    -0.1414      0.043     -3.264      0.001      -0.226      -0.056\n",
      "neighborhood[T.NWAmes]     -0.0779      0.037     -2.109      0.035      -0.150      -0.005\n",
      "neighborhood[T.NoRidge]     0.0254      0.038      0.660      0.510      -0.050       0.101\n",
      "neighborhood[T.NridgHt]     0.0661      0.037      1.789      0.074      -0.006       0.139\n",
      "neighborhood[T.OldTown]    -0.1186      0.038     -3.091      0.002      -0.194      -0.043\n",
      "neighborhood[T.SWISU]      -0.0756      0.043     -1.740      0.082      -0.161       0.010\n",
      "neighborhood[T.Sawyer]     -0.0704      0.037     -1.904      0.057      -0.143       0.002\n",
      "neighborhood[T.SawyerW]    -0.0502      0.037     -1.373      0.170      -0.122       0.022\n",
      "neighborhood[T.Somerst]     0.0370      0.036      1.018      0.309      -0.034       0.108\n",
      "neighborhood[T.StoneBr]     0.0585      0.040      1.444      0.149      -0.021       0.138\n",
      "neighborhood[T.Timber]      0.0368      0.038      0.959      0.338      -0.039       0.112\n",
      "neighborhood[T.Veenker]     0.0055      0.047      0.118      0.906      -0.086       0.097\n",
      "qualityindex                0.0106      0.000     32.798      0.000       0.010       0.011\n",
      "totalsqftcalc               0.0003   7.34e-06     40.605      0.000       0.000       0.000\n",
      "totalbsmtsf              -6.66e-05   1.22e-05     -5.448      0.000   -9.06e-05   -4.26e-05\n",
      "garagearea                  0.0002   1.68e-05     13.028      0.000       0.000       0.000\n",
      "bsmtunfsf                   0.0002   9.58e-06     19.992      0.000       0.000       0.000\n",
      "yearbuilt                   0.0028      0.000     15.136      0.000       0.002       0.003\n",
      "==============================================================================\n",
      "Omnibus:                       71.332   Durbin-Watson:                   1.969\n",
      "Prob(Omnibus):                  0.000   Jarque-Bera (JB):              197.438\n",
      "Skew:                          -0.158   Prob(JB):                     1.34e-43\n",
      "Kurtosis:                       4.668   Cond. No.                     4.61e+05\n",
      "==============================================================================\n",
      "\n",
      "Warnings:\n",
      "[1] Standard Errors assume that the covariance matrix of the errors is correctly specified.\n",
      "[2] The condition number is large, 4.61e+05. This might indicate that there are\n",
      "strong multicollinearity or other numerical problems.\n"
     ]
    }
   ],
   "source": [
    "model5 = smf.ols(formula='log_saleprice ~ qualityindex+totalsqftcalc+totalbsmtsf+garagearea+bsmtunfsf+yearbuilt+neighborhood', data=train).fit()\n",
    "print(model5.summary())"
   ]
  },
  {
   "cell_type": "code",
   "execution_count": 96,
   "metadata": {},
   "outputs": [],
   "source": [
    "#VIF for Model 5\n",
    "# Break into left and right hand side; y and X\n",
    "Y, X = dmatrices( \"log_saleprice ~ qualityindex+totalsqftcalc+totalbsmtsf+garagearea+bsmtunfsf+yearbuilt+neighborhood\", data=train, return_type=\"dataframe\")\n",
    "# For each Xi, calculate VIF\n",
    "vif = [variance_inflation_factor(X.values, i) for i in range(X.shape[1])]\n",
    "# Fit X to y\n",
    "result = smf.OLS(Y, X).fit()"
   ]
  },
  {
   "cell_type": "code",
   "execution_count": 97,
   "metadata": {},
   "outputs": [
    {
     "name": "stdout",
     "output_type": "stream",
     "text": [
      "This is the VIF for Model 5 (Log-Transformed Model)\n",
      "Intercept                  22053.844215\n",
      "neighborhood[T.Blueste]        1.800078\n",
      "neighborhood[T.BrDale]         2.963730\n",
      "neighborhood[T.BrkSide]        9.946482\n",
      "neighborhood[T.ClearCr]        3.542099\n",
      "neighborhood[T.CollgCr]       16.752300\n",
      "neighborhood[T.Crawfor]        8.777780\n",
      "neighborhood[T.Edwards]       14.713771\n",
      "neighborhood[T.Gilbert]       10.193750\n",
      "neighborhood[T.Greens]         1.694636\n",
      "neighborhood[T.GrnHill]        1.114889\n",
      "neighborhood[T.IDOTRR]         5.670744\n",
      "neighborhood[T.MeadowV]        3.554256\n",
      "neighborhood[T.Mitchel]        8.210373\n",
      "neighborhood[T.NAmes]         27.629309\n",
      "neighborhood[T.NPkVill]        2.810689\n",
      "neighborhood[T.NWAmes]         9.115227\n",
      "neighborhood[T.NoRidge]        5.992755\n",
      "neighborhood[T.NridgHt]        7.932105\n",
      "neighborhood[T.OldTown]       19.082966\n",
      "neighborhood[T.SWISU]          3.529132\n",
      "neighborhood[T.Sawyer]        10.876325\n",
      "neighborhood[T.SawyerW]        9.036756\n",
      "neighborhood[T.Somerst]        9.404371\n",
      "neighborhood[T.StoneBr]        3.663966\n",
      "neighborhood[T.Timber]         5.044072\n",
      "neighborhood[T.Veenker]        2.270085\n",
      "qualityindex                   1.305557\n",
      "totalsqftcalc                  3.720253\n",
      "totalbsmtsf                    3.625469\n",
      "garagearea                     1.765713\n",
      "bsmtunfsf                      2.388449\n",
      "yearbuilt                      4.740209\n",
      "dtype: float64\n"
     ]
    }
   ],
   "source": [
    "#Model 5 VIF\n",
    "from statsmodels.stats.outliers_influence import variance_inflation_factor\n",
    "vif = [variance_inflation_factor(X.values, i) for i in range(X.shape[1])]\n",
    "vif = pd.Series(vif, index =X.columns)\n",
    "print(\"This is the VIF for Model 5 (Log-Transformed Model)\")\n",
    "print(vif)\n",
    "#Vif's overall are passable"
   ]
  },
  {
   "cell_type": "code",
   "execution_count": 105,
   "metadata": {},
   "outputs": [
    {
     "name": "stdout",
     "output_type": "stream",
     "text": [
      "<class 'pandas.core.frame.DataFrame'>\n",
      "Int64Index: 1645 entries, 0 to 2038\n",
      "Data columns (total 85 columns):\n",
      "subclass         1645 non-null int64\n",
      "zoning           1645 non-null object\n",
      "lotfrontage      1645 non-null float64\n",
      "lotarea          1645 non-null int64\n",
      "street           1645 non-null object\n",
      "alley            109 non-null object\n",
      "lotshape         1645 non-null object\n",
      "landcontour      1645 non-null object\n",
      "utilities        1645 non-null object\n",
      "lotconfig        1645 non-null object\n",
      "landslope        1645 non-null object\n",
      "neighborhood     1645 non-null object\n",
      "condition1       1645 non-null object\n",
      "condition2       1645 non-null object\n",
      "bldgtype         1645 non-null object\n",
      "housestyle       1645 non-null object\n",
      "overallqual      1645 non-null int64\n",
      "overallcond      1645 non-null int64\n",
      "yearbuilt        1645 non-null int64\n",
      "yearremodel      1645 non-null int64\n",
      "roofstyle        1645 non-null object\n",
      "roofmat          1645 non-null object\n",
      "exterior1        1645 non-null object\n",
      "exterior2        1645 non-null object\n",
      "masvnrtype       1638 non-null object\n",
      "masvnrarea       1638 non-null float64\n",
      "exterqual        1645 non-null object\n",
      "extercond        1645 non-null object\n",
      "foundation       1645 non-null object\n",
      "bsmtqual         1602 non-null object\n",
      "bsmtcond         1602 non-null object\n",
      "bsmtexposure     1600 non-null object\n",
      "bsmtfintype1     1602 non-null object\n",
      "bsmtfinsf1       1645 non-null float64\n",
      "bsmtfintype2     1602 non-null object\n",
      "bsmtfinsf2       1645 non-null float64\n",
      "bsmtunfsf        1645 non-null float64\n",
      "totalbsmtsf      1645 non-null float64\n",
      "heating          1645 non-null object\n",
      "heatingqc        1645 non-null object\n",
      "centralair       1645 non-null object\n",
      "electrical       1644 non-null object\n",
      "firstflrsf       1645 non-null int64\n",
      "secondflrsf      1645 non-null int64\n",
      "lowqualfinsf     1645 non-null int64\n",
      "grlivarea        1645 non-null int64\n",
      "bsmtfullbath     1645 non-null float64\n",
      "bsmthalfbath     1645 non-null float64\n",
      "fullbath         1645 non-null int64\n",
      "halfbath         1645 non-null int64\n",
      "bedroomabvgr     1645 non-null int64\n",
      "kitchenabvgr     1645 non-null int64\n",
      "kitchenqual      1645 non-null object\n",
      "totrmsabvgrd     1645 non-null int64\n",
      "functional       1645 non-null object\n",
      "fireplaces       1645 non-null int64\n",
      "fireplacequ      824 non-null object\n",
      "garagetype       1562 non-null object\n",
      "garageyrblt      1561 non-null float64\n",
      "garagefinish     1561 non-null object\n",
      "garagecars       1645 non-null int64\n",
      "garagearea       1645 non-null int64\n",
      "garagequal       1561 non-null object\n",
      "garagecond       1561 non-null object\n",
      "paveddrive       1645 non-null object\n",
      "wooddecksf       1645 non-null int64\n",
      "openporchsf      1645 non-null int64\n",
      "enclosedporch    1645 non-null int64\n",
      "threessnporch    1645 non-null int64\n",
      "screenporch      1645 non-null int64\n",
      "poolarea         1645 non-null int64\n",
      "poolqc           5 non-null object\n",
      "fence            345 non-null object\n",
      "miscfeature      70 non-null object\n",
      "miscval          1645 non-null int64\n",
      "mosold           1645 non-null int64\n",
      "yrsold           1645 non-null int64\n",
      "saletype         1645 non-null object\n",
      "salecondition    1645 non-null object\n",
      "saleprice        1645 non-null int64\n",
      "index            1645 non-null int64\n",
      "qualityindex     1645 non-null int64\n",
      "totalsqftcalc    1645 non-null float64\n",
      "log_saleprice    1645 non-null float64\n",
      "residual         1645 non-null float64\n",
      "dtypes: float64(12), int64(30), object(43)\n",
      "memory usage: 1.2+ MB\n"
     ]
    }
   ],
   "source": [
    "#dir(model2)\n",
    "train.info()"
   ]
  },
  {
   "cell_type": "code",
   "execution_count": 108,
   "metadata": {},
   "outputs": [
    {
     "data": {
      "image/png": "[encoded data removed]",
      "text/plain": [
       "<Figure size 432x288 with 1 Axes>"
      ]
     },
     "metadata": {
      "needs_background": "light"
     },
     "output_type": "display_data"
    }
   ],
   "source": [
    "#residuals\n",
    "#This one was done for fun\n",
    "\n",
    "train['residual'] = (train.saleprice-train.log_saleprice)\n",
    "\n",
    "import seaborn as sns\n",
    "ax = sns.boxplot(x=\"overallqual\", y=\"residual\", data=train)\n",
    "ax.set_title(\"Residuals\")\n",
    "ax.set_ylabel(\"Residual\")\n",
    "ax.set_xlabel(\"quality\")\n",
    "plt.xticks(rotation=75)\n",
    "plt.show()"
   ]
  },
  {
   "cell_type": "code",
   "execution_count": 123,
   "metadata": {},
   "outputs": [
    {
     "data": {
      "image/png": "[encoded data removed]",
      "text/plain": [
       "<Figure size 432x288 with 1 Axes>"
      ]
     },
     "metadata": {
      "needs_background": "light"
     },
     "output_type": "display_data"
    }
   ],
   "source": [
    "import numpy as np \n",
    "import pylab \n",
    "import scipy.stats as stats  \n",
    "stats.probplot(train.residual, dist=\"norm\", plot=pylab)\n",
    "pylab.show()"
   ]
  },
  {
   "cell_type": "code",
   "execution_count": null,
   "metadata": {},
   "outputs": [],
   "source": []
  }
 ],
 "metadata": {
  "kernelspec": {
   "display_name": "Python 3",
   "language": "python",
   "name": "python3"
  },
  "language_info": {
   "codemirror_mode": {
    "name": "ipython",
    "version": 3
   },
   "file_extension": ".py",
   "mimetype": "text/x-python",
   "name": "python",
   "nbconvert_exporter": "python",
   "pygments_lexer": "ipython3",
   "version": "3.7.1"
  }
 },
 "nbformat": 4,
 "nbformat_minor": 2
}
