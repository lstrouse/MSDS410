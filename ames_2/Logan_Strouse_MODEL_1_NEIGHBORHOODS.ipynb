{
 "cells": [
  {
   "cell_type": "code",
   "execution_count": null,
   "metadata": {},
   "outputs": [],
   "source": [
    "import pandas as pd\n",
    "import numpy as np\n",
    "import statsmodels.formula.api as smf\n",
    "import matplotlib.pyplot as plt"
   ]
  },
  {
   "cell_type": "code",
   "execution_count": null,
   "metadata": {},
   "outputs": [],
   "source": [
    "train = pd.read_csv('AMES_TRAIN.csv')\n",
    "test = pd.read_csv('AMES_TEST_SFAM.csv')\n",
    "train.columns = [s.lower() for s in train.columns]\n",
    "test.columns = [s.lower() for s in test.columns]\n",
    "train['qualityindex'] = (train.overallqual*train.overallcond)\n",
    "train['totalsqftcalc'] = (train.bsmtfinsf1+train.bsmtfinsf2+train.grlivarea)\n",
    "train['pricesqfoot'] = (train['saleprice']/train['totalsqftcalc'])\n",
    "test['qualityindex'] = (test.overallqual*test.overallcond)\n",
    "test['totalsqftcalc'] = (test.bsmtfinsf1+test.bsmtfinsf2+test.grlivarea)\n",
    "test['pricesqfoot'] = (test['saleprice']/test['totalsqftcalc'])\n",
    "train=train.replace({'totalsqftcalc': {np.NaN : 10000}})\n",
    "train=train.replace({'lotarea': {np.NaN : 10000}})\n",
    "train=train.replace({'lotfrontage': {np.NaN : 10000}})\n",
    "test=test.replace({'totalsqftcalc': {np.NaN : 10000}})\n",
    "test=test.replace({'lotarea': {np.NaN : 10000}})\n",
    "test=test.replace({'lotfrontage': {np.NaN : 10000}})"
   ]
  },
  {
   "cell_type": "code",
   "execution_count": null,
   "metadata": {},
   "outputs": [],
   "source": [
    "#print(train.head())\n",
    "#print(test.head())\n",
    "#print(train['pricesqfoot'])\n",
    "#list(train)"
   ]
  },
  {
   "cell_type": "code",
   "execution_count": null,
   "metadata": {},
   "outputs": [],
   "source": [
    "train.plot.scatter(y='saleprice', x='totalsqftcalc') \n",
    "#This lets me see some outliars that could be distorting the data."
   ]
  },
  {
   "cell_type": "code",
   "execution_count": null,
   "metadata": {},
   "outputs": [],
   "source": [
    "train.plot.scatter(y='totalsqftcalc', x='saleprice') "
   ]
  },
  {
   "cell_type": "code",
   "execution_count": null,
   "metadata": {},
   "outputs": [],
   "source": [
    "train.plot.scatter(y='saleprice', x='lotarea') "
   ]
  },
  {
   "cell_type": "code",
   "execution_count": null,
   "metadata": {},
   "outputs": [],
   "source": [
    "#train.plot.bar(y='saleprice', x='zoning') "
   ]
  },
  {
   "cell_type": "code",
   "execution_count": null,
   "metadata": {},
   "outputs": [],
   "source": [
    "train = train[train['totalsqftcalc'] < 6000]\n",
    "train = train[train['salecondition'] == 'Normal']\n",
    "train = train[train['saleprice'] <= 500000]\n",
    "train = train[train['lotarea'] <= 25000]\n",
    "train = train[train['zoning'] != 'I']\n",
    "train = train[train['zoning'] != 'C']\n",
    "train = train[train['zoning'] != 'A']"
   ]
  },
  {
   "cell_type": "code",
   "execution_count": null,
   "metadata": {},
   "outputs": [],
   "source": [
    "X = train[['saleprice','qualityindex','totalsqftcalc','yearbuilt','lotarea','lotfrontage']].copy()\n",
    "X1 = train[['qualityindex','totalsqftcalc','yearbuilt','lotarea','lotfrontage']].copy()\n",
    "corr = X[X.columns].corr()\n",
    "corr"
   ]
  },
  {
   "cell_type": "code",
   "execution_count": null,
   "metadata": {},
   "outputs": [],
   "source": [
    "Y = train[['saleprice']].copy()\n",
    "from sklearn.feature_selection import SelectKBest\n",
    "from sklearn.feature_selection import chi2\n",
    "select_top_3 = SelectKBest(score_func=chi2, k = 3)\n",
    "fit = select_top_3.fit(X1,Y)\n",
    "features = fit.transform(X1)\n",
    "features[0:5] "
   ]
  },
  {
   "cell_type": "code",
   "execution_count": null,
   "metadata": {},
   "outputs": [],
   "source": [
    "model1 = smf.ols(formula='Y ~ qualityindex+totalsqftcalc+C(lotconfig)+C(neighborhood)+C(housestyle)+yearbuilt+C(roofstyle)+C(heating)', data=train).fit()\n",
    "model1.summary()"
   ]
  },
  {
   "cell_type": "code",
   "execution_count": null,
   "metadata": {},
   "outputs": [],
   "source": [
    "predictions_1 = model1.fittedvalues\n",
    "predictions_1.head()"
   ]
  },
  {
   "cell_type": "code",
   "execution_count": null,
   "metadata": {},
   "outputs": [],
   "source": [
    "test_predictions_1 = model1.predict(test)\n",
    "d = {'p_saleprice': test_predictions_1}\n",
    "df1 = test[['index']]\n",
    "df2=pd.DataFrame(data=d)\n",
    "Strouse_TestPredictions_1 = pd.concat([df1,df2],axis = 1, join_axes=[df1.index])\n",
    "Strouse_TestPredictions_1.head()"
   ]
  },
  {
   "cell_type": "code",
   "execution_count": null,
   "metadata": {},
   "outputs": [],
   "source": [
    "Strouse_TestPredictions_1.to_csv('logan_strouse_HW2_MODEL_1.csv')"
   ]
  },
  {
   "cell_type": "code",
   "execution_count": null,
   "metadata": {},
   "outputs": [],
   "source": [
    "import seaborn as sns\n",
    "ax = sns.boxplot(x=\"neighborhood\", y=\"residual\", data=n_file)\n",
    "ax.set_title(\"Resdiual by Neighborhood\")\n",
    "ax.set_ylabel(\"Residual\")\n",
    "ax.set_xlabel(\"Neighborhood\")\n",
    "plt.xticks(rotation=75)\n",
    "plt.show()"
   ]
  },
  {
   "cell_type": "code",
   "execution_count": null,
   "metadata": {},
   "outputs": [],
   "source": [
    "neighborhood_predictions = model1.fittedvalues\n",
    "neighborhood_predictions.head()\n",
    "tr = {'p_saleprice': neighborhood_predictions}\n",
    "df1 = train[['index','saleprice','neighborhood','totalsqftcalc']]\n",
    "df2=pd.DataFrame(data=tr)\n",
    "n_file = pd.concat([df1,df2],axis = 1, join_axes=[df1.index])\n",
    "\n",
    "n_file['residual'] = (n_file.saleprice-n_file.p_saleprice)\n",
    "n_file['actual_ppsf'] = (n_file.saleprice/n_file.totalsqftcalc)\n",
    "n_file['predicted_ppsf'] = (n_file.p_saleprice/n_file.totalsqftcalc)\n",
    "compare = n_file[['neighborhood','actual_ppsf','predicted_ppsf']]\n",
    "compare"
   ]
  },
  {
   "cell_type": "code",
   "execution_count": null,
   "metadata": {},
   "outputs": [],
   "source": [
    "grouping = n_file[['neighborhood','actual_ppsf','predicted_ppsf']].groupby('neighborhood').mean()\n",
    "grouping_sorted = grouping.sort_values(by=['actual_ppsf'], ascending=[False])\n",
    "grouping_sorted\n",
    "#neighborhoods sorted by actual ppsf"
   ]
  },
  {
   "cell_type": "code",
   "execution_count": null,
   "metadata": {},
   "outputs": [],
   "source": [
    "grouping.plot(style=['o','rx'])\n",
    "# plotted actual vs. predicted against each other to see how close the dots would meet based on mean ppsf."
   ]
  },
  {
   "cell_type": "code",
   "execution_count": null,
   "metadata": {},
   "outputs": [],
   "source": [
    "group1 = ['GrnHill', 'Blmngtn', 'NridgHt','Somerst','StoneBr','Timber','Gilbert','CollgCr','NoRidge']\n",
    "group2 = ['Crawfor','Blueste','SawyerW','Greens','BrkSide','Veenker','Mitchel','IDOTRR','OldTown']\n",
    "group3 = ['ClearCr','NWAmes','NPkVill','NAmes','Sawyer','Edwards','BrDale','SWISU','MeadowV']\n",
    "c_2 = compare.copy()\n",
    "c_2['Neighborhood_Group'] = c_2['neighborhood'].isin(group1).astype('int64')\n",
    "c_2"
   ]
  },
  {
   "cell_type": "code",
   "execution_count": null,
   "metadata": {},
   "outputs": [],
   "source": [
    "#dir(model2)"
   ]
  },
  {
   "cell_type": "code",
   "execution_count": null,
   "metadata": {},
   "outputs": [],
   "source": [
    "#y = np.array(train['saleprice'])\n",
    "#X = train[['qualityindex','totalsqftcalc','yearbuilt','yearremodel','wooddecksf','openporchsf' ]].copy()\n",
    "#X.head()\n",
    "#model = feature_selection.SelectKBest(score_func=feature_selection.f_regression, k=3) # will need to convert y to an array\n",
    "#results = model.fit(X,y)\n",
    "#scores are the F values for each variable, bigger is better\n",
    "#results.scores"
   ]
  },
  {
   "cell_type": "code",
   "execution_count": null,
   "metadata": {},
   "outputs": [],
   "source": [
    "#from sklearn.model_selection import train_test_split\n",
    "#train, test = train_test_split(train, test_size = 0.3)"
   ]
  }
 ],
 "metadata": {
  "kernelspec": {
   "display_name": "Python 3",
   "language": "python",
   "name": "python3"
  },
  "language_info": {
   "codemirror_mode": {
    "name": "ipython",
    "version": 3
   },
   "file_extension": ".py",
   "mimetype": "text/x-python",
   "name": "python",
   "nbconvert_exporter": "python",
   "pygments_lexer": "ipython3",
   "version": "3.7.1"
  }
 },
 "nbformat": 4,
 "nbformat_minor": 2
}
