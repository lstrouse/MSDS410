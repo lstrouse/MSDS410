{
 "cells": [
  {
   "cell_type": "code",
   "execution_count": 49,
   "metadata": {},
   "outputs": [],
   "source": [
    "# import packages for this example\n",
    "import pandas as pd    \n",
    "from collections import OrderedDict  # to create DataFrame with ordered columns\n",
    "# special plotting methods\n",
    "from pandas.tools.plotting import scatter_matrix    \n",
    "import numpy as np  # arrays and math functions\n",
    "import matplotlib.pyplot as plt  # static plotting\n",
    "from sklearn import preprocessing\n",
    "from sklearn.cluster import KMeans\n",
    "from sklearn import metrics  # for silhouette coefficient"
   ]
  },
  {
   "cell_type": "code",
   "execution_count": 50,
   "metadata": {},
   "outputs": [],
   "source": [
    "import pandas as pd      \n",
    "import numpy as np   \n",
    "import matplotlib.pyplot as plt   \n",
    "from sklearn.decomposition import PCA, FactorAnalysis\n",
    "import statsmodels.formula.api as smf  "
   ]
  },
  {
   "cell_type": "code",
   "execution_count": 51,
   "metadata": {},
   "outputs": [],
   "source": [
    "food_df = pd.read_csv('AMES_TRAIN_2.csv')"
   ]
  },
  {
   "cell_type": "code",
   "execution_count": 20,
   "metadata": {},
   "outputs": [
    {
     "name": "stdout",
     "output_type": "stream",
     "text": [
      "              SubClass  LotFrontage   LotArea  OverallQual  OverallCond  \\\n",
      "SubClass      1.000000    -0.441588 -0.256396     0.075424    -0.100556   \n",
      "LotFrontage  -0.441588     1.000000  0.466483     0.210665    -0.073117   \n",
      "LotArea      -0.256396     0.466483  1.000000     0.131023    -0.055103   \n",
      "OverallQual   0.075424     0.210665  0.131023     1.000000    -0.164795   \n",
      "OverallCond  -0.100556    -0.073117 -0.055103    -0.164795     1.000000   \n",
      "YearBuilt     0.084075     0.114053  0.044971     0.607942    -0.448619   \n",
      "TotalBsmtSF  -0.211146     0.385795  0.274295     0.568596    -0.226467   \n",
      "FirstFlrSF   -0.245942     0.480243  0.363737     0.501978    -0.188090   \n",
      "SecondFlrSF   0.323144     0.007786  0.026355     0.225203    -0.000460   \n",
      "LowQualFinSF  0.017217    -0.007550  0.010335    -0.033202     0.045998   \n",
      "GrLivArea     0.074095     0.391865  0.315260     0.589059    -0.147699   \n",
      "Fireplaces   -0.034399     0.276692  0.233613     0.406057    -0.058747   \n",
      "GarageYrBlt   0.089603     0.073110  0.029142     0.559690    -0.353516   \n",
      "GarageCars   -0.008606     0.317196  0.186558     0.604253    -0.272084   \n",
      "GarageArea   -0.084429     0.385843  0.226517     0.561971    -0.247137   \n",
      "YrSold       -0.020450    -0.009356 -0.020155    -0.013332     0.054319   \n",
      "SalePrice    -0.069618     0.359443  0.292788     0.804089    -0.169159   \n",
      "index        -0.019830    -0.045961 -0.016602     0.008374     0.043564   \n",
      "\n",
      "              YearBuilt  TotalBsmtSF  FirstFlrSF  SecondFlrSF  LowQualFinSF  \\\n",
      "SubClass       0.084075    -0.211146   -0.245942     0.323144      0.017217   \n",
      "LotFrontage    0.114053     0.385795    0.480243     0.007786     -0.007550   \n",
      "LotArea        0.044971     0.274295    0.363737     0.026355      0.010335   \n",
      "OverallQual    0.607942     0.568596    0.501978     0.225203     -0.033202   \n",
      "OverallCond   -0.448619    -0.226467   -0.188090    -0.000460      0.045998   \n",
      "YearBuilt      1.000000     0.431910    0.341848    -0.005874     -0.142185   \n",
      "TotalBsmtSF    0.431910     1.000000    0.809438    -0.213207     -0.043823   \n",
      "FirstFlrSF     0.341848     0.809438    1.000000    -0.263780     -0.023154   \n",
      "SecondFlrSF   -0.005874    -0.213207   -0.263780     1.000000      0.035721   \n",
      "LowQualFinSF  -0.142185    -0.043823   -0.023154     0.035721      1.000000   \n",
      "GrLivArea      0.257909     0.468537    0.581126     0.627524      0.095182   \n",
      "Fireplaces     0.165742     0.333013    0.410865     0.170746      0.000034   \n",
      "GarageYrBlt    0.828031     0.368951    0.292721     0.026434     -0.048580   \n",
      "GarageCars     0.552736     0.486692    0.487018     0.141182     -0.023345   \n",
      "GarageArea     0.498805     0.533012    0.537440     0.074081     -0.012262   \n",
      "YrSold        -0.029795    -0.008732   -0.021504    -0.018777      0.002005   \n",
      "SalePrice      0.557335     0.650289    0.653490     0.226955     -0.022651   \n",
      "index         -0.026118    -0.008539   -0.007303     0.011283     -0.002388   \n",
      "\n",
      "              GrLivArea  Fireplaces  GarageYrBlt  GarageCars  GarageArea  \\\n",
      "SubClass       0.074095   -0.034399     0.089603   -0.008606   -0.084429   \n",
      "LotFrontage    0.391865    0.276692     0.073110    0.317196    0.385843   \n",
      "LotArea        0.315260    0.233613     0.029142    0.186558    0.226517   \n",
      "OverallQual    0.589059    0.406057     0.559690    0.604253    0.561971   \n",
      "OverallCond   -0.147699   -0.058747    -0.353516   -0.272084   -0.247137   \n",
      "YearBuilt      0.257909    0.165742     0.828031    0.552736    0.498805   \n",
      "TotalBsmtSF    0.468537    0.333013     0.368951    0.486692    0.533012   \n",
      "FirstFlrSF     0.581126    0.410865     0.292721    0.487018    0.537440   \n",
      "SecondFlrSF    0.627524    0.170746     0.026434    0.141182    0.074081   \n",
      "LowQualFinSF   0.095182    0.000034    -0.048580   -0.023345   -0.012262   \n",
      "GrLivArea      1.000000    0.473062     0.253305    0.507576    0.492898   \n",
      "Fireplaces     0.473062    1.000000     0.093953    0.285284    0.249745   \n",
      "GarageYrBlt    0.253305    0.093953     1.000000    0.596734    0.577131   \n",
      "GarageCars     0.507576    0.285284     0.596734    1.000000    0.853647   \n",
      "GarageArea     0.492898    0.249745     0.577131    0.853647    1.000000   \n",
      "YrSold        -0.032823   -0.018158    -0.022380   -0.023787   -0.018486   \n",
      "SalePrice      0.713184    0.472336     0.515780    0.666644    0.653241   \n",
      "index          0.003369   -0.003494    -0.041632   -0.018058   -0.023093   \n",
      "\n",
      "                YrSold  SalePrice     index  \n",
      "SubClass     -0.020450  -0.069618 -0.019830  \n",
      "LotFrontage  -0.009356   0.359443 -0.045961  \n",
      "LotArea      -0.020155   0.292788 -0.016602  \n",
      "OverallQual  -0.013332   0.804089  0.008374  \n",
      "OverallCond   0.054319  -0.169159  0.043564  \n",
      "YearBuilt    -0.029795   0.557335 -0.026118  \n",
      "TotalBsmtSF  -0.008732   0.650289 -0.008539  \n",
      "FirstFlrSF   -0.021504   0.653490 -0.007303  \n",
      "SecondFlrSF  -0.018777   0.226955  0.011283  \n",
      "LowQualFinSF  0.002005  -0.022651 -0.002388  \n",
      "GrLivArea    -0.032823   0.713184  0.003369  \n",
      "Fireplaces   -0.018158   0.472336 -0.003494  \n",
      "GarageYrBlt  -0.022380   0.515780 -0.041632  \n",
      "GarageCars   -0.023787   0.666644 -0.018058  \n",
      "GarageArea   -0.018486   0.653241 -0.023093  \n",
      "YrSold        1.000000  -0.027558  0.045434  \n",
      "SalePrice    -0.027558   1.000000 -0.004836  \n",
      "index         0.045434  -0.004836  1.000000  \n"
     ]
    }
   ],
   "source": [
    "cdata = food_df \n",
    "corr = cdata[cdata.columns].corr()\n",
    "print(corr)"
   ]
  },
  {
   "cell_type": "code",
   "execution_count": 21,
   "metadata": {},
   "outputs": [],
   "source": [
    "pca_data = food_df.loc[:,['SubClass','LotFrontage','LotArea','OverallQual','OverallCond','YearBuilt','TotalBsmtSF','FirstFlrSF','SecondFlrSF','LowQualFinSF','GrLivArea','Fireplaces','GarageYrBlt','GarageCars','GarageArea','YrSold','SalePrice']] \n",
    "pca = PCA()\n",
    "P = pca.fit(pca_data)"
   ]
  },
  {
   "cell_type": "code",
   "execution_count": 22,
   "metadata": {},
   "outputs": [
    {
     "data": {
      "text/plain": [
       "array([[[-0.   ,  0.   ,  0.025,  0.   , -0.   ,  0.   ,  0.003,  0.003,\n",
       "          0.001, -0.   ,  0.004,  0.   ,  0.   ,  0.   ,  0.002, -0.   ,\n",
       "          1.   ],\n",
       "        [-0.001,  0.001,  1.   , -0.   , -0.   , -0.001,  0.006,  0.01 ,\n",
       "         -0.003,  0.   ,  0.008,  0.   , -0.001, -0.   ,  0.001, -0.   ,\n",
       "         -0.026],\n",
       "        [ 0.026, -0.004,  0.005,  0.   ,  0.   , -0.009, -0.424, -0.352,\n",
       "          0.736,  0.006,  0.39 ,  0.   , -0.005, -0.   , -0.039, -0.   ,\n",
       "          0.   ],\n",
       "        [ 0.003,  0.014, -0.013,  0.   , -0.   , -0.007,  0.503,  0.499,\n",
       "          0.172,  0.008,  0.68 ,  0.   , -0.006,  0.   ,  0.069, -0.   ,\n",
       "         -0.006],\n",
       "        [-0.009,  0.009, -0.004, -0.001,  0.   , -0.02 , -0.75 ,  0.532,\n",
       "         -0.307,  0.017,  0.243,  0.   , -0.014, -0.   , -0.013, -0.   ,\n",
       "          0.   ],\n",
       "        [ 0.001,  0.021,  0.   ,  0.   , -0.001,  0.041, -0.062, -0.04 ,\n",
       "          0.013, -0.   , -0.027, -0.   ,  0.064,  0.003,  0.994, -0.   ,\n",
       "         -0.001],\n",
       "        [-0.034, -0.006, -0.   , -0.001,  0.001, -0.095,  0.014, -0.302,\n",
       "         -0.287,  0.861,  0.272, -0.   , -0.029, -0.   ,  0.006,  0.   ,\n",
       "          0.   ],\n",
       "        [ 0.919, -0.232,  0.002,  0.005, -0.006,  0.239, -0.001,  0.002,\n",
       "         -0.038,  0.051,  0.015, -0.   ,  0.199,  0.001, -0.018, -0.001,\n",
       "         -0.   ],\n",
       "        [-0.31 ,  0.061,  0.   ,  0.006, -0.012,  0.726, -0.013, -0.013,\n",
       "         -0.014,  0.067,  0.04 , -0.002,  0.601,  0.002, -0.069, -0.001,\n",
       "         -0.   ],\n",
       "        [ 0.237,  0.96 , -0.001, -0.   , -0.003,  0.101,  0.   , -0.015,\n",
       "         -0.008,  0.018, -0.005,  0.002, -0.102,  0.   , -0.019, -0.   ,\n",
       "          0.   ],\n",
       "        [ 0.035,  0.138, -0.   , -0.003,  0.014, -0.628,  0.003,  0.01 ,\n",
       "          0.009, -0.031, -0.012, -0.004,  0.764, -0.   , -0.026,  0.001,\n",
       "          0.   ],\n",
       "        [ 0.001,  0.   ,  0.   ,  0.025,  0.062,  0.003, -0.   ,  0.   ,\n",
       "         -0.   , -0.   ,  0.   ,  0.   , -0.001, -0.001,  0.   ,  0.998,\n",
       "         -0.   ],\n",
       "        [-0.001, -0.001, -0.   , -0.335, -0.939, -0.016, -0.   , -0.   ,\n",
       "          0.   , -0.   , -0.   , -0.03 ,  0.003,  0.008, -0.001,  0.067,\n",
       "          0.   ],\n",
       "        [ 0.003, -0.001, -0.   , -0.928,  0.335,  0.014,  0.001, -0.   ,\n",
       "          0.   ,  0.   ,  0.   , -0.156,  0.001, -0.042,  0.   ,  0.003,\n",
       "          0.   ],\n",
       "        [-0.   , -0.002, -0.   , -0.159,  0.025,  0.   ,  0.   , -0.   ,\n",
       "         -0.   ,  0.   , -0.   ,  0.986,  0.004,  0.039,  0.   ,  0.002,\n",
       "         -0.   ],\n",
       "        [ 0.   ,  0.   , -0.   ,  0.03 , -0.021,  0.001, -0.   ,  0.   ,\n",
       "          0.   , -0.   ,  0.   ,  0.045,  0.001, -0.998,  0.002, -0.001,\n",
       "          0.   ],\n",
       "        [-0.   , -0.   , -0.   , -0.   , -0.   , -0.   , -0.   , -0.5  ,\n",
       "         -0.5  , -0.5  ,  0.5  , -0.   , -0.   ,  0.   , -0.   , -0.   ,\n",
       "         -0.   ]]])"
      ]
     },
     "execution_count": 22,
     "metadata": {},
     "output_type": "execute_result"
    }
   ],
   "source": [
    "np.set_printoptions(threshold=np.inf) \n",
    "np.around([pca.components_], decimals=3)"
   ]
  },
  {
   "cell_type": "code",
   "execution_count": 23,
   "metadata": {},
   "outputs": [
    {
     "name": "stdout",
     "output_type": "stream",
     "text": [
      "Proportion of variance explained: [9.93176092e-01 6.75112852e-03 4.08979289e-05 2.23381815e-05\n",
      " 5.80052280e-06 3.02095990e-06 3.27299345e-07 2.25362134e-07\n",
      " 1.11095018e-07 3.97291300e-08 1.78912957e-08 2.50383420e-10\n",
      " 1.24768511e-10 8.07593009e-11 4.07169010e-11 1.50793892e-11\n",
      " 2.05815672e-36]\n"
     ]
    }
   ],
   "source": [
    "pca_explained_variance = pca.explained_variance_ratio_\n",
    "print('Proportion of variance explained:', pca_explained_variance)"
   ]
  },
  {
   "cell_type": "code",
   "execution_count": 24,
   "metadata": {},
   "outputs": [
    {
     "data": {
      "text/plain": [
       "array([[ 6.106,  2.119,  1.795,  1.026,  0.964,  0.994,  0.862,  0.636,\n",
       "         0.621,  0.566,  0.403,  0.289,  0.2  ,  0.121,  0.144,  0.154,\n",
       "        -0.   ]])"
      ]
     },
     "execution_count": 24,
     "metadata": {},
     "output_type": "execute_result"
    }
   ],
   "source": [
    "pca_data_cormat = np.corrcoef(pca_data.T)\n",
    "eigenvalues, eigenvectors = np.linalg.eig(pca_data_cormat)\n",
    "np.around([eigenvalues], decimals=3)"
   ]
  },
  {
   "cell_type": "code",
   "execution_count": 25,
   "metadata": {},
   "outputs": [
    {
     "name": "stdout",
     "output_type": "stream",
     "text": [
      "Linear algebra demonstration: Proportion of variance explained:  [ 3.59161427e-01  1.24647845e-01  1.05583547e-01  6.03377120e-02\n",
      "  5.66827188e-02  5.84835897e-02  5.06826105e-02  3.74205357e-02\n",
      "  3.65587990e-02  3.33086383e-02  2.37304205e-02  1.70166941e-02\n",
      "  1.17513278e-02  7.09646602e-03  8.47982159e-03  9.05784746e-03\n",
      " -2.99544697e-17]\n"
     ]
    },
    {
     "data": {
      "text/plain": [
       "array([[[-0.04 , -0.489, -0.2  ,  0.025, -0.197, -0.012,  0.264,  0.324,\n",
       "         -0.385,  0.307,  0.489,  0.102, -0.006,  0.045,  0.103, -0.028,\n",
       "         -0.   ],\n",
       "        [ 0.199,  0.405, -0.062, -0.168,  0.332, -0.014, -0.053, -0.02 ,\n",
       "          0.231, -0.059,  0.737,  0.194, -0.022,  0.1  ,  0.05 ,  0.003,\n",
       "         -0.   ],\n",
       "        [ 0.148,  0.354, -0.124, -0.245,  0.316, -0.03 ,  0.178, -0.181,\n",
       "         -0.73 ,  0.174, -0.203,  0.054, -0.047, -0.021, -0.047,  0.015,\n",
       "         -0.   ],\n",
       "        [ 0.327, -0.156, -0.07 ,  0.156, -0.189, -0.061, -0.106, -0.174,\n",
       "         -0.08 , -0.218, -0.031,  0.653,  0.061, -0.087, -0.34 ,  0.388,\n",
       "         -0.   ],\n",
       "        [-0.138,  0.197, -0.223,  0.361, -0.237, -0.073, -0.696, -0.119,\n",
       "         -0.307,  0.058,  0.209, -0.196, -0.06 , -0.074, -0.054, -0.099,\n",
       "          0.   ],\n",
       "        [ 0.274, -0.298,  0.288, -0.043,  0.068, -0.049,  0.04 , -0.361,\n",
       "         -0.082, -0.156,  0.191, -0.124,  0.019, -0.506, -0.119, -0.508,\n",
       "          0.   ],\n",
       "        [ 0.308,  0.184,  0.167,  0.116, -0.285,  0.003,  0.138,  0.245,\n",
       "         -0.072, -0.223, -0.022, -0.033, -0.77 ,  0.088,  0.037, -0.104,\n",
       "          0.   ],\n",
       "        [ 0.309,  0.277,  0.102,  0.08 , -0.275,  0.014,  0.167,  0.279,\n",
       "         -0.064, -0.064,  0.064, -0.302,  0.451, -0.072, -0.185,  0.091,\n",
       "          0.524],\n",
       "        [ 0.058, -0.269, -0.61 , -0.116,  0.273, -0.102, -0.069, -0.005,\n",
       "          0.111, -0.233, -0.099, -0.119, -0.243, -0.034, -0.019, -0.026,\n",
       "          0.545],\n",
       "        [-0.016,  0.039, -0.175,  0.119, -0.057,  0.947,  0.096, -0.18 ,\n",
       "         -0.001, -0.024,  0.034,  0.036, -0.023, -0.034, -0.001, -0.06 ,\n",
       "          0.055],\n",
       "        [ 0.296,  0.001, -0.443, -0.023,  0.003,  0.005,  0.085,  0.205,\n",
       "          0.041, -0.249, -0.028, -0.339,  0.157, -0.09 , -0.164,  0.047,\n",
       "         -0.652],\n",
       "        [ 0.201,  0.12 , -0.273,  0.067, -0.329, -0.185,  0.275, -0.497,\n",
       "          0.305,  0.53 , -0.004, -0.112, -0.111, -0.011,  0.015,  0.043,\n",
       "          0.   ],\n",
       "        [ 0.263, -0.321,  0.269, -0.005,  0.14 ,  0.085, -0.131, -0.305,\n",
       "         -0.129, -0.048,  0.133, -0.434, -0.055,  0.421,  0.065,  0.456,\n",
       "         -0.   ],\n",
       "        [ 0.327, -0.118,  0.046,  0.005,  0.178,  0.098, -0.255,  0.214,\n",
       "          0.112,  0.411, -0.155,  0.085,  0.018,  0.392, -0.447, -0.397,\n",
       "         -0.   ],\n",
       "        [ 0.326, -0.042,  0.077,  0.007,  0.197,  0.127, -0.279,  0.288,\n",
       "          0.099,  0.384, -0.113,  0.005, -0.095, -0.532,  0.341,  0.302,\n",
       "          0.   ],\n",
       "        [-0.015,  0.024,  0.011,  0.833,  0.457, -0.104,  0.293,  0.011,\n",
       "         -0.001,  0.008, -0.003, -0.005,  0.013,  0.002,  0.004, -0.005,\n",
       "         -0.   ],\n",
       "        [ 0.362, -0.016, -0.109,  0.091, -0.115, -0.044, -0.091, -0.071,\n",
       "         -0.058, -0.162, -0.156,  0.194,  0.289,  0.282,  0.685, -0.311,\n",
       "         -0.   ]]])"
      ]
     },
     "execution_count": 25,
     "metadata": {},
     "output_type": "execute_result"
    }
   ],
   "source": [
    "print('Linear algebra demonstration: Proportion of variance explained: ',\n",
    "    eigenvalues/eigenvalues.sum())\n",
    "np.around([eigenvectors], decimals=3)"
   ]
  },
  {
   "cell_type": "code",
   "execution_count": 26,
   "metadata": {},
   "outputs": [
    {
     "data": {
      "image/png": "[encoded data removed]",
      "text/plain": [
       "<Figure size 432x288 with 1 Axes>"
      ]
     },
     "metadata": {
      "needs_background": "light"
     },
     "output_type": "display_data"
    }
   ],
   "source": [
    "plt.bar(np.arange(len(pca_explained_variance)), pca_explained_variance, \n",
    "    color = 'dodgerblue', alpha = 0.5, align = 'center')\n",
    "plt.title('PCA Proportion of Total Variance')\n",
    "plt.show()"
   ]
  },
  {
   "cell_type": "code",
   "execution_count": 27,
   "metadata": {},
   "outputs": [
    {
     "name": "stdout",
     "output_type": "stream",
     "text": [
      "   eigenvalues  0\n",
      "0     6.105744  1\n",
      "1     2.119013  2\n",
      "2     1.794920  3\n",
      "3     1.025741  4\n",
      "4     0.963606  5\n",
      "5     0.994221  6\n",
      "6     0.861604  7\n",
      "7     0.636149  8\n",
      "8     0.621500  9\n"
     ]
    },
    {
     "data": {
      "image/png": "[encoded data removed]",
      "text/plain": [
       "<Figure size 432x288 with 1 Axes>"
      ]
     },
     "metadata": {
      "needs_background": "light"
     },
     "output_type": "display_data"
    }
   ],
   "source": [
    "d = {'eigenvalues': eigenvalues }\n",
    "df1 = pd.DataFrame(data=d)\n",
    "df2 =pd.Series([1,2,3,4,5,6,7,8,9])\n",
    "#df2 = {'factors': factors}\n",
    "# merge eigenvalues with # of factors\n",
    "result = pd.concat([df1, df2], axis=1, join_axes=[df2.index])\n",
    "print (result)\n",
    "\n",
    "def scat(dataframe,var1,var2):\n",
    "    dataframe[var2].plot()     \n",
    "    plt.title('Scree Plot')\n",
    "    plt.xlabel('# of factors')\n",
    "    plt.ylabel('Eigenvalues')\n",
    "    \n",
    "scat(result,'0','eigenvalues')\n",
    "plt.show()"
   ]
  },
  {
   "cell_type": "code",
   "execution_count": 28,
   "metadata": {},
   "outputs": [],
   "source": [
    "    pca_loadings = pca.components_.T\n"
   ]
  },
  {
   "cell_type": "code",
   "execution_count": 33,
   "metadata": {},
   "outputs": [
    {
     "name": "stdout",
     "output_type": "stream",
     "text": [
      "[[-0.000 -0.001  0.026]\n",
      " [ 0.000  0.001 -0.004]\n",
      " [ 0.025  1.000  0.005]\n",
      " [ 0.000 -0.000  0.000]\n",
      " [-0.000 -0.000  0.000]\n",
      " [ 0.000 -0.001 -0.009]\n",
      " [ 0.003  0.006 -0.424]\n",
      " [ 0.003  0.010 -0.352]\n",
      " [ 0.001 -0.003  0.736]\n",
      " [-0.000  0.000  0.006]\n",
      " [ 0.004  0.008  0.390]\n",
      " [ 0.000  0.000  0.000]\n",
      " [ 0.000 -0.001 -0.005]\n",
      " [ 0.000 -0.000 -0.000]\n",
      " [ 0.002  0.001 -0.039]\n",
      " [-0.000 -0.000 -0.000]\n",
      " [ 1.000 -0.026  0.000]]\n"
     ]
    }
   ],
   "source": [
    "np.set_printoptions(precision = 3, suppress = True,\n",
    "    formatter={'float': '{: 0.3f}'.format})\n",
    "print(pca_loadings[:,0:3])"
   ]
  },
  {
   "cell_type": "code",
   "execution_count": 30,
   "metadata": {},
   "outputs": [],
   "source": [
    "C = pca.transform(pca_data)\n"
   ]
  },
  {
   "cell_type": "code",
   "execution_count": 31,
   "metadata": {},
   "outputs": [],
   "source": [
    "pca_data['pca1'] = C[:,0]\n",
    "pca_data['pca2'] = C[:,1]\n",
    "pca_data['pca3'] = C[:,2]"
   ]
  },
  {
   "cell_type": "code",
   "execution_count": 32,
   "metadata": {},
   "outputs": [
    {
     "name": "stdout",
     "output_type": "stream",
     "text": [
      "      SubClass  LotFrontage  LotArea  OverallQual  OverallCond  YearBuilt  \\\n",
      "0           60           70     8304            6            5       1997   \n",
      "1           45           58     6380            5            6       1922   \n",
      "2           20           91    11375            6            5       1954   \n",
      "3           30           55     7111            5            7       1928   \n",
      "4           70           60    11340            2            1       1920   \n",
      "5          120           53     4043            6            6       1977   \n",
      "6           60           84    10728            8            5       2006   \n",
      "7          160           24     2308            6            5       1974   \n",
      "8           80           62     7706            6            5       1993   \n",
      "9           50           50     5000            5            7       1941   \n",
      "10          70          144    21384            5            6       1923   \n",
      "11         160           21     2058            6            5       1973   \n",
      "12          60           92    10120            8            5       1994   \n",
      "13          20           50    14859            7            5       2006   \n",
      "14          20           52     8626            4            6       1956   \n",
      "15          40           55     6854            5            7       1925   \n",
      "16         190           75    11625            5            4       1965   \n",
      "17          30           50     6000            5            7       1924   \n",
      "18         180           21     1596            4            5       1973   \n",
      "19          70           47     7755            6            8       1918   \n",
      "20          80           73     9590            7            5       2003   \n",
      "21          20           72     9000            6            5       1956   \n",
      "22          50           50     8635            5            5       1948   \n",
      "23         120           89     8232            9            5       2007   \n",
      "24          50           80    17120            4            4       1959   \n",
      "25          60           77    11198            9            5       2005   \n",
      "26          60          120    15611            8            5       2006   \n",
      "27          20           93     9382            7            5       1999   \n",
      "28         120           34     3628            7            5       2004   \n",
      "29          50           65     6435            6            5       1939   \n",
      "...        ...          ...      ...          ...          ...        ...   \n",
      "1568        60           59     9649            6            5       1999   \n",
      "1569        20           72     8872            5            8       1965   \n",
      "1570       120           44     7390            9            5       2008   \n",
      "1571        50           60     9600            5            6       1948   \n",
      "1572        20           93    12085            8            5       2007   \n",
      "1573        70           42     7614            3            5       1905   \n",
      "1574        70           57     6406            5            6       1939   \n",
      "1575       120           34     5122            6            5       2005   \n",
      "1576        30           60     8520            5            8       1923   \n",
      "1577        60           73     8760            7            5       2006   \n",
      "1578        90           75    10125            5            5       1977   \n",
      "1579        20           65     8125            5            7       1965   \n",
      "1580        20          124    16158            7            5       2005   \n",
      "1581        60           90    14670            6            7       1966   \n",
      "1582        20           85    12633           10            5       2006   \n",
      "1583        20           79    10240            6            6       1980   \n",
      "1584        20           70    10552            5            5       1959   \n",
      "1585       160           21     1890            6            7       1972   \n",
      "1586        20           68     8842            5            6       1954   \n",
      "1587        20           53     3710            7            5       2007   \n",
      "1588        20           70     9100            5            5       1963   \n",
      "1589        20           75     9000            6            5       1969   \n",
      "1590        20           70     8750            7            5       1997   \n",
      "1591        30           51     6120            5            7       1931   \n",
      "1592        20           60     7200            5            7       1951   \n",
      "1593        20           65    10816            9            5       2008   \n",
      "1594        85           75    11235            5            5       1964   \n",
      "1595        20           70     9100            5            6       1954   \n",
      "1596       190           60    10800            6            7       1905   \n",
      "1597        20           65     7800            5            7       1966   \n",
      "\n",
      "      TotalBsmtSF  FirstFlrSF  SecondFlrSF  LowQualFinSF     ...       \\\n",
      "0             941         941          896             0     ...        \n",
      "1             993        1048            0             0     ...        \n",
      "2             967        1299            0             0     ...        \n",
      "3            1008        1143            0             0     ...        \n",
      "4             723         723          363             0     ...        \n",
      "5            1069        1069            0             0     ...        \n",
      "6            1095        1095          844             0     ...        \n",
      "7             855         855          467             0     ...        \n",
      "8             384        1091            0             0     ...        \n",
      "9             672         832          378             0     ...        \n",
      "10           1324        1072          504             0     ...        \n",
      "11            672         672          546             0     ...        \n",
      "12           1165        1203         1323             0     ...        \n",
      "13           1670        1670            0             0     ...        \n",
      "14              0         968            0             0     ...        \n",
      "15            756         916          144             0     ...        \n",
      "16           1039        1039            0             0     ...        \n",
      "17            949         949            0             0     ...        \n",
      "18            462         526          462             0     ...        \n",
      "19           1100        1100         1164             0     ...        \n",
      "20            868        1146            0             0     ...        \n",
      "21           1196        1196            0             0     ...        \n",
      "22            672        1072          213             0     ...        \n",
      "23           1800        1800            0             0     ...        \n",
      "24              0        1120          468             0     ...        \n",
      "25           1122        1134         1370             0     ...        \n",
      "26           1079        1079          840             0     ...        \n",
      "27           1468        1479            0             0     ...        \n",
      "28           1143        1143            0             0     ...        \n",
      "29            972         972          605             0     ...        \n",
      "...           ...         ...          ...           ...     ...        \n",
      "1568          941         961          683             0     ...        \n",
      "1569          912         912            0             0     ...        \n",
      "1570         1884        1884            0             0     ...        \n",
      "1571         1212        1226          442             0     ...        \n",
      "1572         1734        1734            0             0     ...        \n",
      "1573          738         714          662             0     ...        \n",
      "1574          690         868          690             0     ...        \n",
      "1575         1306        1306            0             0     ...        \n",
      "1576          624         792            0             0     ...        \n",
      "1577         1391        1391          571             0     ...        \n",
      "1578            0        1302          432             0     ...        \n",
      "1579          912         925            0             0     ...        \n",
      "1580         1530        1530            0             0     ...        \n",
      "1581         1104        1104          884             0     ...        \n",
      "1582         1824        1824            0             0     ...        \n",
      "1583         1686        1686            0             0     ...        \n",
      "1584         1398        1700            0             0     ...        \n",
      "1585          494         494          536             0     ...        \n",
      "1586          381         992            0             0     ...        \n",
      "1587         1146        1246            0             0     ...        \n",
      "1588          984         984            0             0     ...        \n",
      "1589         1216        1216            0             0     ...        \n",
      "1590         1417        1417            0             0     ...        \n",
      "1591          715         875            0             0     ...        \n",
      "1592          876         876            0             0     ...        \n",
      "1593         1720        1720            0             0     ...        \n",
      "1594         1420        1452            0             0     ...        \n",
      "1595         1112        1112            0             0     ...        \n",
      "1596          482        1221          691             0     ...        \n",
      "1597          864         892            0             0     ...        \n",
      "\n",
      "      Fireplaces  GarageYrBlt  GarageCars  GarageArea  YrSold  SalePrice  \\\n",
      "0              0         1997           2         688    2006     187000   \n",
      "1              1         1922           1         280    2006     113000   \n",
      "2              1         1954           2         494    2007     150000   \n",
      "3              1         1992           1         288    2008     138000   \n",
      "4              0         1920           2         400    2008      55000   \n",
      "5              0         1977           2         440    2008     140000   \n",
      "6              1         2006           3        1053    2006     266000   \n",
      "7              1         1974           2         440    2009     147000   \n",
      "8              0         1993           1         429    2009     131250   \n",
      "9              0         1941           1         240    2008     124000   \n",
      "10             1         1923           2         528    2009     223500   \n",
      "11             0         1973           1         264    2007     113700   \n",
      "12             1         1994           3         844    2006     290000   \n",
      "13             1         2006           3         690    2006     240000   \n",
      "14             0         1956           1         331    2007     104500   \n",
      "15             1         1969           1         308    2007     136500   \n",
      "16             0         1965           2         504    2010     131500   \n",
      "17             1         1924           2         370    2008     119000   \n",
      "18             0         1973           1         297    2009      91000   \n",
      "19             0         1950           1         408    2007     200000   \n",
      "20             1         2003           2         438    2007     187500   \n",
      "21             1         1956           1         297    2008     139000   \n",
      "22             0         1948           1         240    2008     127000   \n",
      "23             1         2008           3         944    2008     370967   \n",
      "24             1         1991           2         680    2008     134432   \n",
      "25             1         2005           3         656    2008     325000   \n",
      "26             1         2006           2         685    2006     233230   \n",
      "27             0         1999           2         577    2008     191000   \n",
      "28             1         2004           2         588    2006     176400   \n",
      "29             1         1939           1         312    2006     140200   \n",
      "...          ...          ...         ...         ...     ...        ...   \n",
      "1568           1         1999           2         460    2007     185000   \n",
      "1569           0         1992           2         576    2008     147000   \n",
      "1570           1         2008           2         649    2009     320000   \n",
      "1571           0         1948           1         240    2006     135000   \n",
      "1572           1         2007           3         928    2007     318000   \n",
      "1573           0         1930           1         216    2006      96900   \n",
      "1574           1         1939           2         400    2009     150000   \n",
      "1575           1         2005           2         624    2009     184500   \n",
      "1576           0         1963           1         287    2009      99500   \n",
      "1577           0         2006           3         868    2006     239799   \n",
      "1578           0         1977           2         539    2009     126000   \n",
      "1579           0         1978           2         576    2008     135000   \n",
      "1580           1         2005           2         430    2009     260000   \n",
      "1581           1         1966           2         480    2008     227000   \n",
      "1582           1         2006           3         932    2007     392000   \n",
      "1583           1         1980           2         612    2006     207500   \n",
      "1584           1         1959           2         447    2010     165500   \n",
      "1585           0         1973           1         264    2006     116000   \n",
      "1586           0         1954           1         319    2010     155891   \n",
      "1587           1         2007           2         428    2008     187687   \n",
      "1588           1         1963           1         384    2008     128000   \n",
      "1589           0         1969           1         336    2009     113000   \n",
      "1590           1         1997           2         511    2009     210000   \n",
      "1591           0         1931           1         180    2009     105000   \n",
      "1592           1         1972           2         576    2008      94000   \n",
      "1593           1         2008           3         846    2009     332000   \n",
      "1594           1         1964           2         572    2007     158450   \n",
      "1595           1         1954           1         390    2009     144800   \n",
      "1596           1         2003           2         672    2008     163000   \n",
      "1597           0         1966           1         416    2010     137900   \n",
      "\n",
      "      index           pca1          pca2         pca3  \n",
      "0         3    3246.712187  -1562.003403   671.567118  \n",
      "1         5  -70781.171523  -1600.510963  -350.450068  \n",
      "2         8  -33664.838122   2453.284728  -313.731761  \n",
      "3         9  -45770.435995  -1505.691372  -349.973521  \n",
      "4        10 -128636.250009   4831.301661   179.260583  \n",
      "5        12  -43849.224641  -4624.394982  -397.644318  \n",
      "6        14   82283.033789  -1150.331436   553.540251  \n",
      "7        16  -36895.571077  -6539.922268   203.682655  \n",
      "8        17  -52505.311310   -743.219530   -89.461778  \n",
      "9        19  -59820.790571  -3264.327351   198.075616  \n",
      "10       21   40066.593972  10583.769061   145.886763  \n",
      "11       24  -70192.269510  -5944.577298   367.957141  \n",
      "12       25  106262.587852  -2365.474272  1073.258483  \n",
      "13       29   56398.186927   3651.003975  -586.024235  \n",
      "14       30  -79225.099890    854.286247    75.245345  \n",
      "15       31  -47278.207650  -1729.126381   -91.222445  \n",
      "16       32  -52153.753591   3170.409530  -349.367007  \n",
      "17       33  -64793.650009  -2135.358596  -341.111222  \n",
      "18       34  -92898.394104  -5831.681673   353.173105  \n",
      "19       36   16230.981880  -2437.355885   921.800367  \n",
      "20       37    3775.286849   -291.063995  -282.053825  \n",
      "21       38  -44721.690435    359.068503  -419.045180  \n",
      "22       40  -56728.520494    296.094342    39.292112  \n",
      "23       41  187153.296199  -6310.460468  -672.440205  \n",
      "24       42  -49083.286226   8586.757922   637.696563  \n",
      "25       47  141277.220722  -2182.181106  1155.460519  \n",
      "26       48   49647.735663   4565.692062   592.573030  \n",
      "27       50    7273.561711   -578.469484  -531.843742  \n",
      "28       54   -7471.299516  -5965.805411  -433.247093  \n",
      "29       56  -43586.482431  -2237.580937   336.502453  \n",
      "...     ...            ...           ...          ...  \n",
      "1568   2872    1280.248057   -167.598291   447.995284  \n",
      "1569   2877  -36730.358612     20.495432  -320.853286  \n",
      "1570   2879  136182.937180  -5850.400183  -698.967397  \n",
      "1571   2888  -48702.489937   1063.748423    78.973191  \n",
      "1572   2889  134301.801823  -1109.531337  -631.529744  \n",
      "1573   2890  -86844.135663     39.480187   499.398417  \n",
      "1574   2891  -33791.763680  -2519.541497   545.133131  \n",
      "1575   2892     665.717929  -4675.106861  -490.000265  \n",
      "1576   2894  -84225.263727    876.125114  -194.367399  \n",
      "1577   2895   56042.506298  -2443.711990   128.507971  \n",
      "1578   2896  -57689.287792   1812.810506   575.608094  \n",
      "1579   2897  -48745.115612   -419.855096  -324.330054  \n",
      "1580   2901   76422.393714   4435.757231  -515.027246  \n",
      "1581   2902   43396.136956   3784.644826   636.290813  \n",
      "1582   2905  208291.174983  -2447.153596  -661.413890  \n",
      "1583   2907   23792.016154   -136.633883  -612.765824  \n",
      "1584   2908  -18186.718360   1245.011742  -483.133391  \n",
      "1585   2909  -67899.325290  -6175.505693   424.720715  \n",
      "1586   2910  -27844.857722   -238.049587   -82.278968  \n",
      "1587   2913    3814.420935  -6169.822658  -426.406878  \n",
      "1588   2915  -55717.520966    734.585748  -340.464921  \n",
      "1589   2916  -70712.432859   1022.770290  -429.295443  \n",
      "1590   2917   26250.194112  -1696.358517  -512.399498  \n",
      "1591   2918  -78787.419772  -1661.191910  -237.227409  \n",
      "1592   2920  -89754.972941   -299.752932  -316.575273  \n",
      "1593   2922  148264.424447  -2735.541065  -628.674188  \n",
      "1594   2926  -25218.482680   2103.135354  -501.867457  \n",
      "1595   2927  -38921.921713    309.156515  -389.505278  \n",
      "1596   2928  -20682.229721   1546.368486   662.345303  \n",
      "1597   2929  -45855.039072   -819.721406  -300.446490  \n",
      "\n",
      "[1598 rows x 21 columns]\n"
     ]
    }
   ],
   "source": [
    "food_df['pca1'] = C[:,0]\n",
    "food_df['pca2'] = C[:,1]\n",
    "food_df['pca3'] = C[:,2]\n",
    "print(food_df)"
   ]
  },
  {
   "cell_type": "code",
   "execution_count": 34,
   "metadata": {},
   "outputs": [
    {
     "name": "stdout",
     "output_type": "stream",
     "text": [
      "[[ 1.000 -0.000 -0.000]\n",
      " [-0.000  1.000  0.000]\n",
      " [-0.000  0.000  1.000]]\n"
     ]
    },
    {
     "name": "stderr",
     "output_type": "stream",
     "text": [
      "/anaconda3/lib/python3.7/site-packages/ipykernel_launcher.py:3: FutureWarning: Method .as_matrix will be removed in a future version. Use .values instead.\n",
      "  This is separate from the ipykernel package so we can avoid doing imports until\n"
     ]
    }
   ],
   "source": [
    "pca_scores = pca_data.loc[:,['pca1','pca2', 'pca3']]\n",
    "pca_model_cormat = \\\n",
    "    np.corrcoef(pca_scores.as_matrix().transpose()).round(decimals=3)\n",
    "print(pca_model_cormat)"
   ]
  },
  {
   "cell_type": "code",
   "execution_count": 39,
   "metadata": {},
   "outputs": [],
   "source": [
    "model3_fit = smf.ols(formula = 'SalePrice~pca1', data = food_df).fit()"
   ]
  },
  {
   "cell_type": "code",
   "execution_count": 40,
   "metadata": {},
   "outputs": [],
   "source": [
    "model3_df = pd.DataFrame({'R2_Adj':model3_fit.rsquared_adj,\n",
    "                        'Prob (F-Stat)':model3_fit.f_pvalue,\n",
    "                        'AIC':model3_fit.aic,                         \n",
    "                        'F-Value': model3_fit.fvalue,\n",
    "                        'BIC':model3_fit.bic}, index = ['model3'])"
   ]
  },
  {
   "cell_type": "code",
   "execution_count": 46,
   "metadata": {},
   "outputs": [
    {
     "data": {
      "text/html": [
       "<table class=\"simpletable\">\n",
       "<caption>OLS Regression Results</caption>\n",
       "<tr>\n",
       "  <th>Dep. Variable:</th>        <td>SalePrice</td>    <th>  R-squared:         </th> <td>   1.000</td> \n",
       "</tr>\n",
       "<tr>\n",
       "  <th>Model:</th>                   <td>OLS</td>       <th>  Adj. R-squared:    </th> <td>   1.000</td> \n",
       "</tr>\n",
       "<tr>\n",
       "  <th>Method:</th>             <td>Least Squares</td>  <th>  F-statistic:       </th> <td>3.606e+08</td>\n",
       "</tr>\n",
       "<tr>\n",
       "  <th>Date:</th>             <td>Sun, 10 Mar 2019</td> <th>  Prob (F-statistic):</th>  <td>  0.00</td>  \n",
       "</tr>\n",
       "<tr>\n",
       "  <th>Time:</th>                 <td>15:23:46</td>     <th>  Log-Likelihood:    </th> <td> -10513.</td> \n",
       "</tr>\n",
       "<tr>\n",
       "  <th>No. Observations:</th>      <td>  1598</td>      <th>  AIC:               </th> <td>2.103e+04</td>\n",
       "</tr>\n",
       "<tr>\n",
       "  <th>Df Residuals:</th>          <td>  1596</td>      <th>  BIC:               </th> <td>2.104e+04</td>\n",
       "</tr>\n",
       "<tr>\n",
       "  <th>Df Model:</th>              <td>     1</td>      <th>                     </th>     <td> </td>    \n",
       "</tr>\n",
       "<tr>\n",
       "  <th>Covariance Type:</th>      <td>nonrobust</td>    <th>                     </th>     <td> </td>    \n",
       "</tr>\n",
       "</table>\n",
       "<table class=\"simpletable\">\n",
       "<tr>\n",
       "      <td></td>         <th>coef</th>     <th>std err</th>      <th>t</th>      <th>P>|t|</th>  <th>[0.025</th>    <th>0.975]</th>  \n",
       "</tr>\n",
       "<tr>\n",
       "  <th>Intercept</th> <td> 1.837e+05</td> <td>    4.359</td> <td> 4.21e+04</td> <td> 0.000</td> <td> 1.84e+05</td> <td> 1.84e+05</td>\n",
       "</tr>\n",
       "<tr>\n",
       "  <th>pca1</th>      <td>    0.9997</td> <td> 5.26e-05</td> <td>  1.9e+04</td> <td> 0.000</td> <td>    1.000</td> <td>    1.000</td>\n",
       "</tr>\n",
       "</table>\n",
       "<table class=\"simpletable\">\n",
       "<tr>\n",
       "  <th>Omnibus:</th>       <td>3347.339</td> <th>  Durbin-Watson:     </th>   <td>   2.061</td>  \n",
       "</tr>\n",
       "<tr>\n",
       "  <th>Prob(Omnibus):</th>  <td> 0.000</td>  <th>  Jarque-Bera (JB):  </th> <td>14550028.226</td>\n",
       "</tr>\n",
       "<tr>\n",
       "  <th>Skew:</th>           <td>-17.069</td> <th>  Prob(JB):          </th>   <td>    0.00</td>  \n",
       "</tr>\n",
       "<tr>\n",
       "  <th>Kurtosis:</th>       <td>469.217</td> <th>  Cond. No.          </th>   <td>8.28e+04</td>  \n",
       "</tr>\n",
       "</table><br/><br/>Warnings:<br/>[1] Standard Errors assume that the covariance matrix of the errors is correctly specified.<br/>[2] The condition number is large, 8.28e+04. This might indicate that there are<br/>strong multicollinearity or other numerical problems."
      ],
      "text/plain": [
       "<class 'statsmodels.iolib.summary.Summary'>\n",
       "\"\"\"\n",
       "                            OLS Regression Results                            \n",
       "==============================================================================\n",
       "Dep. Variable:              SalePrice   R-squared:                       1.000\n",
       "Model:                            OLS   Adj. R-squared:                  1.000\n",
       "Method:                 Least Squares   F-statistic:                 3.606e+08\n",
       "Date:                Sun, 10 Mar 2019   Prob (F-statistic):               0.00\n",
       "Time:                        15:23:46   Log-Likelihood:                -10513.\n",
       "No. Observations:                1598   AIC:                         2.103e+04\n",
       "Df Residuals:                    1596   BIC:                         2.104e+04\n",
       "Df Model:                           1                                         \n",
       "Covariance Type:            nonrobust                                         \n",
       "==============================================================================\n",
       "                 coef    std err          t      P>|t|      [0.025      0.975]\n",
       "------------------------------------------------------------------------------\n",
       "Intercept   1.837e+05      4.359   4.21e+04      0.000    1.84e+05    1.84e+05\n",
       "pca1           0.9997   5.26e-05    1.9e+04      0.000       1.000       1.000\n",
       "==============================================================================\n",
       "Omnibus:                     3347.339   Durbin-Watson:                   2.061\n",
       "Prob(Omnibus):                  0.000   Jarque-Bera (JB):         14550028.226\n",
       "Skew:                         -17.069   Prob(JB):                         0.00\n",
       "Kurtosis:                     469.217   Cond. No.                     8.28e+04\n",
       "==============================================================================\n",
       "\n",
       "Warnings:\n",
       "[1] Standard Errors assume that the covariance matrix of the errors is correctly specified.\n",
       "[2] The condition number is large, 8.28e+04. This might indicate that there are\n",
       "strong multicollinearity or other numerical problems.\n",
       "\"\"\""
      ]
     },
     "execution_count": 46,
     "metadata": {},
     "output_type": "execute_result"
    }
   ],
   "source": [
    "model3_fit.summary()"
   ]
  },
  {
   "cell_type": "code",
   "execution_count": 45,
   "metadata": {},
   "outputs": [
    {
     "ename": "NameError",
     "evalue": "name 'test' is not defined",
     "output_type": "error",
     "traceback": [
      "\u001b[0;31m---------------------------------------------------------------------------\u001b[0m",
      "\u001b[0;31mNameError\u001b[0m                                 Traceback (most recent call last)",
      "\u001b[0;32m<ipython-input-45-619779d1a46f>\u001b[0m in \u001b[0;36m<module>\u001b[0;34m\u001b[0m\n\u001b[0;32m----> 1\u001b[0;31m \u001b[0mtest_predictions_1\u001b[0m \u001b[0;34m=\u001b[0m \u001b[0mmodel3_fit\u001b[0m\u001b[0;34m.\u001b[0m\u001b[0mpredict\u001b[0m\u001b[0;34m(\u001b[0m\u001b[0mtest\u001b[0m\u001b[0;34m)\u001b[0m\u001b[0;34m\u001b[0m\u001b[0;34m\u001b[0m\u001b[0m\n\u001b[0m\u001b[1;32m      2\u001b[0m \u001b[0md\u001b[0m \u001b[0;34m=\u001b[0m \u001b[0;34m{\u001b[0m\u001b[0;34m'p_saleprice'\u001b[0m\u001b[0;34m:\u001b[0m \u001b[0mtest_predictions_1\u001b[0m\u001b[0;34m}\u001b[0m\u001b[0;34m\u001b[0m\u001b[0;34m\u001b[0m\u001b[0m\n\u001b[1;32m      3\u001b[0m \u001b[0mdf1\u001b[0m \u001b[0;34m=\u001b[0m \u001b[0mtest\u001b[0m\u001b[0;34m[\u001b[0m\u001b[0;34m[\u001b[0m\u001b[0;34m'index'\u001b[0m\u001b[0;34m]\u001b[0m\u001b[0;34m]\u001b[0m\u001b[0;34m\u001b[0m\u001b[0;34m\u001b[0m\u001b[0m\n\u001b[1;32m      4\u001b[0m \u001b[0mdf2\u001b[0m\u001b[0;34m=\u001b[0m\u001b[0mpd\u001b[0m\u001b[0;34m.\u001b[0m\u001b[0mDataFrame\u001b[0m\u001b[0;34m(\u001b[0m\u001b[0mdata\u001b[0m\u001b[0;34m=\u001b[0m\u001b[0md\u001b[0m\u001b[0;34m)\u001b[0m\u001b[0;34m\u001b[0m\u001b[0;34m\u001b[0m\u001b[0m\n\u001b[1;32m      5\u001b[0m \u001b[0mStrouse_TestPredictions_1\u001b[0m \u001b[0;34m=\u001b[0m \u001b[0mpd\u001b[0m\u001b[0;34m.\u001b[0m\u001b[0mconcat\u001b[0m\u001b[0;34m(\u001b[0m\u001b[0;34m[\u001b[0m\u001b[0mdf1\u001b[0m\u001b[0;34m,\u001b[0m\u001b[0mdf2\u001b[0m\u001b[0;34m]\u001b[0m\u001b[0;34m,\u001b[0m\u001b[0maxis\u001b[0m \u001b[0;34m=\u001b[0m \u001b[0;36m1\u001b[0m\u001b[0;34m,\u001b[0m \u001b[0mjoin_axes\u001b[0m\u001b[0;34m=\u001b[0m\u001b[0;34m[\u001b[0m\u001b[0mdf1\u001b[0m\u001b[0;34m.\u001b[0m\u001b[0mindex\u001b[0m\u001b[0;34m]\u001b[0m\u001b[0;34m)\u001b[0m\u001b[0;34m\u001b[0m\u001b[0;34m\u001b[0m\u001b[0m\n",
      "\u001b[0;31mNameError\u001b[0m: name 'test' is not defined"
     ]
    }
   ],
   "source": [
    "test_predictions_1 = model3_fit.predict(test)\n",
    "d = {'p_saleprice': test_predictions_1}\n",
    "df1 = test[['index']]\n",
    "df2=pd.DataFrame(data=d)\n",
    "Strouse_TestPredictions_1 = pd.concat([df1,df2],axis = 1, join_axes=[df1.index])\n",
    "Strouse_TestPredictions_1.head()"
   ]
  }
 ],
 "metadata": {
  "kernelspec": {
   "display_name": "Python 3",
   "language": "python",
   "name": "python3"
  },
  "language_info": {
   "codemirror_mode": {
    "name": "ipython",
    "version": 3
   },
   "file_extension": ".py",
   "mimetype": "text/x-python",
   "name": "python",
   "nbconvert_exporter": "python",
   "pygments_lexer": "ipython3",
   "version": "3.7.1"
  }
 },
 "nbformat": 4,
 "nbformat_minor": 2
}
