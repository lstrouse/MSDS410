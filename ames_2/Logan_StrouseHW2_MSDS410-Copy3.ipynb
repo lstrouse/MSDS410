{
 "cells": [
  {
   "cell_type": "code",
   "execution_count": null,
   "metadata": {},
   "outputs": [],
   "source": [
    "import pandas as pd\n",
    "import numpy as np\n",
    "import statsmodels.formula.api as smf\n",
    "import matplotlib.pyplot as plt"
   ]
  },
  {
   "cell_type": "code",
   "execution_count": null,
   "metadata": {},
   "outputs": [],
   "source": [
    "train = pd.read_csv('AMES_TRAIN.csv')\n",
    "test = pd.read_csv('AMES_TEST_SFAM.csv')\n",
    "train.columns = [s.lower() for s in train.columns]\n",
    "test.columns = [s.lower() for s in test.columns]\n",
    "train['qualityindex'] = (train.overallqual*train.overallcond)\n",
    "train['totalsqftcalc'] = (train.bsmtfinsf1+train.bsmtfinsf2+train.grlivarea)\n",
    "test['qualityindex'] = (test.overallqual*test.overallcond)\n",
    "test['totalsqftcalc'] = (test.bsmtfinsf1+test.bsmtfinsf2+test.grlivarea)\n",
    "train=train.replace({'totalsqftcalc': {np.NaN : 10000}})\n",
    "train=train.replace({'lotarea': {np.NaN : 10000}})\n",
    "train=train.replace({'lotfrontage': {np.NaN : 10000}})\n",
    "test=test.replace({'totalsqftcalc': {np.NaN : 10000}})\n",
    "test=test.replace({'lotarea': {np.NaN : 10000}})\n",
    "test=test.replace({'lotfrontage': {np.NaN : 10000}})"
   ]
  },
  {
   "cell_type": "code",
   "execution_count": null,
   "metadata": {},
   "outputs": [],
   "source": [
    "train = train[train['totalsqftcalc'] < 5000]\n",
    "train = train[train['salecondition'] == 'Normal']"
   ]
  },
  {
   "cell_type": "code",
   "execution_count": null,
   "metadata": {},
   "outputs": [],
   "source": [
    "#train = train[train['roofstyle'] != 'Gable']\n",
    "#train = train[train['roofstyle'] != 'Hip']"
   ]
  },
  {
   "cell_type": "code",
   "execution_count": null,
   "metadata": {},
   "outputs": [],
   "source": [
    "#print(train.head())\n",
    "#print(test.head())"
   ]
  },
  {
   "cell_type": "code",
   "execution_count": null,
   "metadata": {},
   "outputs": [],
   "source": [
    "X = train[['saleprice','qualityindex','totalsqftcalc','yearbuilt','lotarea','lotfrontage']].copy()\n",
    "X1 = train[['qualityindex','totalsqftcalc','yearbuilt','lotarea','lotfrontage']].copy()\n",
    "corr = X[X.columns].corr()\n",
    "#corr"
   ]
  },
  {
   "cell_type": "code",
   "execution_count": null,
   "metadata": {},
   "outputs": [],
   "source": [
    "Y = train[['saleprice']].copy()\n",
    "from sklearn.feature_selection import SelectKBest\n",
    "from sklearn.feature_selection import chi2\n",
    "select_top_3 = SelectKBest(score_func=chi2, k = 3)\n",
    "fit = select_top_3.fit(X1,Y)\n",
    "features = fit.transform(X1)\n",
    "#features[0:5] "
   ]
  },
  {
   "cell_type": "code",
   "execution_count": null,
   "metadata": {},
   "outputs": [],
   "source": [
    "train.plot.scatter(y='saleprice', x='totalsqftcalc') \n",
    "#This lets me see some outliars that could be distorting the data."
   ]
  },
  {
   "cell_type": "code",
   "execution_count": null,
   "metadata": {},
   "outputs": [],
   "source": [
    "train.plot.scatter(y='totalsqftcalc', x='saleprice') "
   ]
  },
  {
   "cell_type": "code",
   "execution_count": null,
   "metadata": {},
   "outputs": [],
   "source": [
    "train.plot.scatter(y='saleprice', x='totalsqftcalc') "
   ]
  },
  {
   "cell_type": "code",
   "execution_count": 274,
   "metadata": {},
   "outputs": [
    {
     "data": {
      "text/html": [
       "<table class=\"simpletable\">\n",
       "<caption>OLS Regression Results</caption>\n",
       "<tr>\n",
       "  <th>Dep. Variable:</th>            <td>Y</td>        <th>  R-squared:         </th> <td>   0.804</td> \n",
       "</tr>\n",
       "<tr>\n",
       "  <th>Model:</th>                   <td>OLS</td>       <th>  Adj. R-squared:    </th> <td>   0.802</td> \n",
       "</tr>\n",
       "<tr>\n",
       "  <th>Method:</th>             <td>Least Squares</td>  <th>  F-statistic:       </th> <td>   487.1</td> \n",
       "</tr>\n",
       "<tr>\n",
       "  <th>Date:</th>             <td>Sun, 10 Feb 2019</td> <th>  Prob (F-statistic):</th>  <td>  0.00</td>  \n",
       "</tr>\n",
       "<tr>\n",
       "  <th>Time:</th>                 <td>21:33:33</td>     <th>  Log-Likelihood:    </th> <td> -19686.</td> \n",
       "</tr>\n",
       "<tr>\n",
       "  <th>No. Observations:</th>      <td>  1677</td>      <th>  AIC:               </th> <td>3.940e+04</td>\n",
       "</tr>\n",
       "<tr>\n",
       "  <th>Df Residuals:</th>          <td>  1662</td>      <th>  BIC:               </th> <td>3.948e+04</td>\n",
       "</tr>\n",
       "<tr>\n",
       "  <th>Df Model:</th>              <td>    14</td>      <th>                     </th>     <td> </td>    \n",
       "</tr>\n",
       "<tr>\n",
       "  <th>Covariance Type:</th>      <td>nonrobust</td>    <th>                     </th>     <td> </td>    \n",
       "</tr>\n",
       "</table>\n",
       "<table class=\"simpletable\">\n",
       "<tr>\n",
       "             <td></td>                <th>coef</th>     <th>std err</th>      <th>t</th>      <th>P>|t|</th>  <th>[0.025</th>    <th>0.975]</th>  \n",
       "</tr>\n",
       "<tr>\n",
       "  <th>Intercept</th>               <td>-1.476e+06</td> <td> 5.88e+04</td> <td>  -25.124</td> <td> 0.000</td> <td>-1.59e+06</td> <td>-1.36e+06</td>\n",
       "</tr>\n",
       "<tr>\n",
       "  <th>C(lotconfig)[T.CulDSac]</th> <td>-1806.7515</td> <td> 3648.330</td> <td>   -0.495</td> <td> 0.621</td> <td>-8962.558</td> <td> 5349.055</td>\n",
       "</tr>\n",
       "<tr>\n",
       "  <th>C(lotconfig)[T.FR2]</th>     <td>-1.386e+04</td> <td> 4800.658</td> <td>   -2.888</td> <td> 0.004</td> <td>-2.33e+04</td> <td>-4448.964</td>\n",
       "</tr>\n",
       "<tr>\n",
       "  <th>C(lotconfig)[T.FR3]</th>     <td>-1.152e+04</td> <td>  1.1e+04</td> <td>   -1.050</td> <td> 0.294</td> <td>-3.31e+04</td> <td>    1e+04</td>\n",
       "</tr>\n",
       "<tr>\n",
       "  <th>C(lotconfig)[T.Inside]</th>  <td> -361.8839</td> <td> 2026.118</td> <td>   -0.179</td> <td> 0.858</td> <td>-4335.896</td> <td> 3612.128</td>\n",
       "</tr>\n",
       "<tr>\n",
       "  <th>C(housestyle)[T.1.5Unf]</th> <td> 1.356e+04</td> <td> 8494.219</td> <td>    1.596</td> <td> 0.111</td> <td>-3099.560</td> <td> 3.02e+04</td>\n",
       "</tr>\n",
       "<tr>\n",
       "  <th>C(housestyle)[T.1Story]</th> <td>-1763.0883</td> <td> 2662.794</td> <td>   -0.662</td> <td> 0.508</td> <td>-6985.872</td> <td> 3459.695</td>\n",
       "</tr>\n",
       "<tr>\n",
       "  <th>C(housestyle)[T.2.5Fin]</th> <td> 2.325e+04</td> <td> 1.55e+04</td> <td>    1.499</td> <td> 0.134</td> <td>-7173.318</td> <td> 5.37e+04</td>\n",
       "</tr>\n",
       "<tr>\n",
       "  <th>C(housestyle)[T.2.5Unf]</th> <td> 9775.0872</td> <td> 8480.450</td> <td>    1.153</td> <td> 0.249</td> <td>-6858.403</td> <td> 2.64e+04</td>\n",
       "</tr>\n",
       "<tr>\n",
       "  <th>C(housestyle)[T.2Story]</th> <td>-5906.3610</td> <td> 2856.310</td> <td>   -2.068</td> <td> 0.039</td> <td>-1.15e+04</td> <td> -304.017</td>\n",
       "</tr>\n",
       "<tr>\n",
       "  <th>C(housestyle)[T.SFoyer]</th> <td>-2.663e+04</td> <td> 4997.404</td> <td>   -5.329</td> <td> 0.000</td> <td>-3.64e+04</td> <td>-1.68e+04</td>\n",
       "</tr>\n",
       "<tr>\n",
       "  <th>C(housestyle)[T.SLvl]</th>   <td>-1.743e+04</td> <td> 4294.848</td> <td>   -4.058</td> <td> 0.000</td> <td>-2.59e+04</td> <td>-9004.895</td>\n",
       "</tr>\n",
       "<tr>\n",
       "  <th>qualityindex</th>            <td> 2284.5286</td> <td>   89.399</td> <td>   25.554</td> <td> 0.000</td> <td> 2109.181</td> <td> 2459.876</td>\n",
       "</tr>\n",
       "<tr>\n",
       "  <th>totalsqftcalc</th>           <td>   58.6757</td> <td>    1.268</td> <td>   46.286</td> <td> 0.000</td> <td>   56.189</td> <td>   61.162</td>\n",
       "</tr>\n",
       "<tr>\n",
       "  <th>yearbuilt</th>               <td>  743.1046</td> <td>   30.764</td> <td>   24.155</td> <td> 0.000</td> <td>  682.765</td> <td>  803.444</td>\n",
       "</tr>\n",
       "</table>\n",
       "<table class=\"simpletable\">\n",
       "<tr>\n",
       "  <th>Omnibus:</th>       <td>369.813</td> <th>  Durbin-Watson:     </th> <td>   1.968</td> \n",
       "</tr>\n",
       "<tr>\n",
       "  <th>Prob(Omnibus):</th> <td> 0.000</td>  <th>  Jarque-Bera (JB):  </th> <td>1353.342</td> \n",
       "</tr>\n",
       "<tr>\n",
       "  <th>Skew:</th>          <td> 1.045</td>  <th>  Prob(JB):          </th> <td>1.34e-294</td>\n",
       "</tr>\n",
       "<tr>\n",
       "  <th>Kurtosis:</th>      <td> 6.873</td>  <th>  Cond. No.          </th> <td>2.23e+05</td> \n",
       "</tr>\n",
       "</table><br/><br/>Warnings:<br/>[1] Standard Errors assume that the covariance matrix of the errors is correctly specified.<br/>[2] The condition number is large, 2.23e+05. This might indicate that there are<br/>strong multicollinearity or other numerical problems."
      ],
      "text/plain": [
       "<class 'statsmodels.iolib.summary.Summary'>\n",
       "\"\"\"\n",
       "                            OLS Regression Results                            \n",
       "==============================================================================\n",
       "Dep. Variable:                      Y   R-squared:                       0.804\n",
       "Model:                            OLS   Adj. R-squared:                  0.802\n",
       "Method:                 Least Squares   F-statistic:                     487.1\n",
       "Date:                Sun, 10 Feb 2019   Prob (F-statistic):               0.00\n",
       "Time:                        21:33:33   Log-Likelihood:                -19686.\n",
       "No. Observations:                1677   AIC:                         3.940e+04\n",
       "Df Residuals:                    1662   BIC:                         3.948e+04\n",
       "Df Model:                          14                                         \n",
       "Covariance Type:            nonrobust                                         \n",
       "===========================================================================================\n",
       "                              coef    std err          t      P>|t|      [0.025      0.975]\n",
       "-------------------------------------------------------------------------------------------\n",
       "Intercept               -1.476e+06   5.88e+04    -25.124      0.000   -1.59e+06   -1.36e+06\n",
       "C(lotconfig)[T.CulDSac] -1806.7515   3648.330     -0.495      0.621   -8962.558    5349.055\n",
       "C(lotconfig)[T.FR2]     -1.386e+04   4800.658     -2.888      0.004   -2.33e+04   -4448.964\n",
       "C(lotconfig)[T.FR3]     -1.152e+04    1.1e+04     -1.050      0.294   -3.31e+04       1e+04\n",
       "C(lotconfig)[T.Inside]   -361.8839   2026.118     -0.179      0.858   -4335.896    3612.128\n",
       "C(housestyle)[T.1.5Unf]  1.356e+04   8494.219      1.596      0.111   -3099.560    3.02e+04\n",
       "C(housestyle)[T.1Story] -1763.0883   2662.794     -0.662      0.508   -6985.872    3459.695\n",
       "C(housestyle)[T.2.5Fin]  2.325e+04   1.55e+04      1.499      0.134   -7173.318    5.37e+04\n",
       "C(housestyle)[T.2.5Unf]  9775.0872   8480.450      1.153      0.249   -6858.403    2.64e+04\n",
       "C(housestyle)[T.2Story] -5906.3610   2856.310     -2.068      0.039   -1.15e+04    -304.017\n",
       "C(housestyle)[T.SFoyer] -2.663e+04   4997.404     -5.329      0.000   -3.64e+04   -1.68e+04\n",
       "C(housestyle)[T.SLvl]   -1.743e+04   4294.848     -4.058      0.000   -2.59e+04   -9004.895\n",
       "qualityindex             2284.5286     89.399     25.554      0.000    2109.181    2459.876\n",
       "totalsqftcalc              58.6757      1.268     46.286      0.000      56.189      61.162\n",
       "yearbuilt                 743.1046     30.764     24.155      0.000     682.765     803.444\n",
       "==============================================================================\n",
       "Omnibus:                      369.813   Durbin-Watson:                   1.968\n",
       "Prob(Omnibus):                  0.000   Jarque-Bera (JB):             1353.342\n",
       "Skew:                           1.045   Prob(JB):                    1.34e-294\n",
       "Kurtosis:                       6.873   Cond. No.                     2.23e+05\n",
       "==============================================================================\n",
       "\n",
       "Warnings:\n",
       "[1] Standard Errors assume that the covariance matrix of the errors is correctly specified.\n",
       "[2] The condition number is large, 2.23e+05. This might indicate that there are\n",
       "strong multicollinearity or other numerical problems.\n",
       "\"\"\""
      ]
     },
     "execution_count": 274,
     "metadata": {},
     "output_type": "execute_result"
    }
   ],
   "source": [
    "model1 = smf.ols(formula='Y ~ qualityindex+totalsqftcalc+C(lotconfig)+C(housestyle)+yearbuilt', data=train).fit()\n",
    "model1.summary()"
   ]
  },
  {
   "cell_type": "code",
   "execution_count": null,
   "metadata": {},
   "outputs": [],
   "source": [
    "#previous way I was doing VIF\n",
    "from patsy import dmatrices\n",
    "from statsmodels.stats.outliers_influence import variance_inflation_factor\n",
    "#VIF for Model 1\n",
    "# Break into left and right hand side; y and X\n",
    "Y, X = dmatrices( \"Y ~ qualityindex+totalsqftcalc+C(lotconfig)+C(housestyle)+yearbuilt\", data=train, return_type=\"dataframe\")\n",
    "# For each Xi, calculate VIF\n",
    "vif = [variance_inflation_factor(X.values, i) for i in range(X.shape[1])]\n",
    "# Fit X to y\n",
    "result = smf.OLS(Y, X).fit()\n",
    "#print(vif)"
   ]
  },
  {
   "cell_type": "code",
   "execution_count": null,
   "metadata": {},
   "outputs": [],
   "source": [
    "#Model 1 VIF (this way I was able to label each output)\n",
    "from statsmodels.stats.outliers_influence import variance_inflation_factor\n",
    "vif = [variance_inflation_factor(X.values, i) for i in range(X.shape[1])]\n",
    "vif = pd.Series(vif, index =X.columns)\n",
    "print(\"This is the VIF for Model 1\")\n",
    "print(vif)\n",
    "#dropped Hip and Gable from roofstyles due to very high vifs at 39 and 37 respectively\n",
    "#dropped GasA and GasW from heating due to high vifs as well at 28 and 21 respectively"
   ]
  },
  {
   "cell_type": "code",
   "execution_count": null,
   "metadata": {},
   "outputs": [],
   "source": [
    "model2 = smf.ols(formula='Y ~ qualityindex+totalsqftcalc+yearbuilt', data=train).fit()\n",
    "model2.summary()"
   ]
  },
  {
   "cell_type": "code",
   "execution_count": null,
   "metadata": {},
   "outputs": [],
   "source": [
    "#VIF for Model 2\n",
    "# Break into left and right hand side; y and X\n",
    "Y, X = dmatrices( \"Y ~ qualityindex+totalsqftcalc+yearbuilt \", data=train, return_type=\"dataframe\")\n",
    "# For each Xi, calculate VIF\n",
    "vif = [variance_inflation_factor(X.values, i) for i in range(X.shape[1])]\n",
    "# Fit X to y\n",
    "result = smf.OLS(Y, X).fit()\n",
    "#print(vif)\n",
    "#Constant is 4574.1026694\n",
    "#VIF for qualityindex is 1.152\n",
    "#VIF for totalsqftcalc is 1.238\n",
    "#VIF for yearbuilt is 1.125"
   ]
  },
  {
   "cell_type": "code",
   "execution_count": null,
   "metadata": {},
   "outputs": [],
   "source": [
    "#Model 2 VIF\n",
    "from statsmodels.stats.outliers_influence import variance_inflation_factor\n",
    "vif = [variance_inflation_factor(X.values, i) for i in range(X.shape[1])]\n",
    "vif = pd.Series(vif, index =X.columns)\n",
    "print(\"This is the VIF for Model 2\")\n",
    "print(vif)"
   ]
  },
  {
   "cell_type": "code",
   "execution_count": null,
   "metadata": {},
   "outputs": [],
   "source": [
    "predictions_1 = model1.fittedvalues\n",
    "predictions_1.head()"
   ]
  },
  {
   "cell_type": "code",
   "execution_count": null,
   "metadata": {},
   "outputs": [],
   "source": [
    "predictions_2 = model2.fittedvalues\n",
    "predictions_2.head()"
   ]
  },
  {
   "cell_type": "code",
   "execution_count": null,
   "metadata": {},
   "outputs": [],
   "source": [
    "test_predictions_1 = model1.predict(test)\n",
    "d = {'p_saleprice': test_predictions_1}\n",
    "df1 = test[['index']]\n",
    "df2=pd.DataFrame(data=d)\n",
    "Strouse_TestPredictions_1 = pd.concat([df1,df2],axis = 1, join_axes=[df1.index])\n",
    "Strouse_TestPredictions_1.head()"
   ]
  },
  {
   "cell_type": "code",
   "execution_count": null,
   "metadata": {},
   "outputs": [],
   "source": [
    "Strouse_TestPredictions_1.to_csv('logan_strouse_HW2_1scored.csv')"
   ]
  },
  {
   "cell_type": "code",
   "execution_count": null,
   "metadata": {},
   "outputs": [],
   "source": [
    "#dir(model2)"
   ]
  },
  {
   "cell_type": "code",
   "execution_count": null,
   "metadata": {},
   "outputs": [],
   "source": [
    "y = np.array(train['saleprice'])\n",
    "X = train[['qualityindex','totalsqftcalc','yearbuilt','yearremodel','wooddecksf','openporchsf' ]].copy()\n",
    "print(X.head())\n",
    "#model = feature_selection.SelectKBest(score_func.feature_selection.f_regression, k=3) #you will need to convert y to an array\n",
    "#results = model.fit(X,y)\n",
    "#scores are the F values for each variable, bigger is better\n",
    "#results.scores"
   ]
  },
  {
   "cell_type": "code",
   "execution_count": null,
   "metadata": {},
   "outputs": [],
   "source": [
    "\n",
    "#the next code is using my model2 in the shell code\n",
    "\n",
    "train_predictions = model2.fittedvalues\n",
    "train_predictions.head()\n",
    "tr = {'p_saleprice': train_predictions}\n",
    "df1 = train[['index','saleprice','neighborhood','totalsqftcalc']]\n",
    "df2=pd.DataFrame(data=tr)\n",
    "n_file = pd.concat([df1,df2],axis = 1, join_axes=[df1.index])\n",
    "\n",
    "n_file['residual'] = (n_file.saleprice-n_file.p_saleprice)\n",
    "n_file['a_ppsf'] = (n_file.saleprice/n_file.totalsqftcalc)\n",
    "n_file['p_ppsf'] = (n_file.p_saleprice/n_file.totalsqftcalc)\n",
    "n_file\n",
    "import seaborn as sns\n",
    "ax = sns.boxplot(x=\"neighborhood\", y=\"residual\", data=n_file)\n",
    "ax.set_title(\"Boxplot of Resdiuals by Neighborhood\")\n",
    "ax.set_ylabel(\"Residual\")\n",
    "plt.show()\n",
    "\n",
    "g = n_file.groupby('neighborhood').mean()\n",
    "print(g)\n",
    "\n",
    "#To set up the indicator variables try this for your neighborhood groups...\n",
    "\n",
    "#group1 = ['SWISU', 'IDOTRR', 'OldTown' ]\n",
    "\n",
    "#n = n_file.copy()\n",
    "\n",
    "#n['group1'] = n['neighborhood'].isin(['SWISU', 'IDOTRR', 'OldTown' ]).astype('int64')"
   ]
  },
  {
   "cell_type": "code",
   "execution_count": null,
   "metadata": {},
   "outputs": [],
   "source": [
    "from sklearn.model_selection import train_test_split\n",
    "train, test = train_test_split(train, test_size = 0.3)"
   ]
  }
 ],
 "metadata": {
  "kernelspec": {
   "display_name": "Python 3",
   "language": "python",
   "name": "python3"
  },
  "language_info": {
   "codemirror_mode": {
    "name": "ipython",
    "version": 3
   },
   "file_extension": ".py",
   "mimetype": "text/x-python",
   "name": "python",
   "nbconvert_exporter": "python",
   "pygments_lexer": "ipython3",
   "version": "3.7.1"
  }
 },
 "nbformat": 4,
 "nbformat_minor": 2
}
